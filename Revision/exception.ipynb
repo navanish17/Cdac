{
 "cells": [
  {
   "cell_type": "code",
   "execution_count": null,
   "id": "0c0d64ee",
   "metadata": {},
   "outputs": [
    {
     "name": "stdout",
     "output_type": "stream",
     "text": [
      "Denominator cant be 0 division by zero\n"
     ]
    }
   ],
   "source": [
    "\"\"\"Q1. Write a program that handles division by zero using exception handling.\"\"\"\n",
    "\n",
    "try:\n",
    "    a = 2\n",
    "    b = 0\n",
    "    print(a/b)\n",
    "except Exception as e: ## we will get default error message \n",
    "    print(\"Denominator cant be 0\",e)\n",
    "# except:               ## we will get our printed error message\n",
    "#     print(\"Denominator cant be 0\")"
   ]
  },
  {
   "cell_type": "code",
   "execution_count": null,
   "id": "a9363812",
   "metadata": {},
   "outputs": [],
   "source": []
  },
  {
   "cell_type": "code",
   "execution_count": null,
   "id": "4d12155b",
   "metadata": {},
   "outputs": [
    {
     "name": "stdout",
     "output_type": "stream",
     "text": [
      "6.0\n",
      "error occured is:  invalid literal for int() with base 10: 'mango'\n"
     ]
    }
   ],
   "source": [
    "\"\"\"Q2. Demonstrate how to catch multiple specific exceptions \n",
    "(e.g., ValueError and TypeError) separately.\"\"\"\n",
    "\n",
    "try:\n",
    "    x= 12\n",
    "    y = \"a\"\n",
    "    result = x/y\n",
    "    print(result) ## TypeError\n",
    "\n",
    "    z = int(\"mango\")\n",
    "    print(z) ##ValueError\n",
    "\n",
    "except TypeError as e:\n",
    "    print(\"error occured is: \",e)\n",
    "\n",
    "except ValueError as e:\n",
    "    print(\"error occured is: \", e)"
   ]
  },
  {
   "cell_type": "code",
   "execution_count": null,
   "id": "94a7edd1",
   "metadata": {},
   "outputs": [],
   "source": []
  },
  {
   "cell_type": "code",
   "execution_count": null,
   "id": "4f3a96a7",
   "metadata": {},
   "outputs": [
    {
     "name": "stdout",
     "output_type": "stream",
     "text": [
      "6.0\n",
      "There is no error\n",
      "This block will always excecute\n"
     ]
    }
   ],
   "source": [
    "\"\"\"Q3. Write a program that uses try-except-else-finally and shows the \n",
    "execution order of each block.\"\"\"\n",
    "\n",
    "try:\n",
    "    x= 12\n",
    "    y = \"a\"\n",
    "    result = x/y\n",
    "    print(result) ## TypeError\n",
    "\n",
    "\n",
    "except TypeError as e:\n",
    "    print(\"error occured is: \",e)\n",
    "\n",
    "else:\n",
    "    print(\"There is no error\")\n",
    "\n",
    "finally:\n",
    "    print(\"This block will always excecute\")"
   ]
  },
  {
   "cell_type": "code",
   "execution_count": null,
   "id": "ca88403f",
   "metadata": {},
   "outputs": [],
   "source": []
  },
  {
   "cell_type": "code",
   "execution_count": 15,
   "id": "2d41503b",
   "metadata": {},
   "outputs": [
    {
     "name": "stdout",
     "output_type": "stream",
     "text": [
      "this is just custom error denominator cant be 0\n"
     ]
    }
   ],
   "source": [
    "\"\"\"Q4. Create a function that raises a custom exception when an invalid input is passed.\"\"\"\n",
    "\n",
    "class Customerror(Exception):\n",
    "    pass\n",
    "\n",
    "try:\n",
    "    x = 12\n",
    "    b = 0\n",
    "    if b ==0:\n",
    "        raise Customerror(\"denominator cant be 0\")\n",
    "    result = x/b\n",
    "    print(result)\n",
    "\n",
    "except Customerror as e:\n",
    "    print(\"this is just custom error\",e)"
   ]
  },
  {
   "cell_type": "code",
   "execution_count": null,
   "id": "baad3b2d",
   "metadata": {},
   "outputs": [],
   "source": []
  },
  {
   "cell_type": "code",
   "execution_count": 16,
   "id": "1a1412d9",
   "metadata": {},
   "outputs": [
    {
     "name": "stdout",
     "output_type": "stream",
     "text": [
      "Denominator cant be 0 division by zero\n"
     ]
    }
   ],
   "source": [
    "\"\"\"Q5. Explain the difference between using except Exception: and except: with the \n",
    "help of an example program.\"\"\"\n",
    "\n",
    "try:\n",
    "    a = 2\n",
    "    b = 0\n",
    "    print(a/b)\n",
    "except Exception as e: ## we will get default error message \n",
    "    print(\"Denominator cant be 0\",e)\n",
    "# except:               ## we will get our printed error message\n",
    "#     print(\"Denominator cant be 0\")"
   ]
  },
  {
   "cell_type": "code",
   "execution_count": null,
   "id": "e420ac2f",
   "metadata": {},
   "outputs": [],
   "source": []
  }
 ],
 "metadata": {
  "kernelspec": {
   "display_name": "Python 3",
   "language": "python",
   "name": "python3"
  },
  "language_info": {
   "codemirror_mode": {
    "name": "ipython",
    "version": 3
   },
   "file_extension": ".py",
   "mimetype": "text/x-python",
   "name": "python",
   "nbconvert_exporter": "python",
   "pygments_lexer": "ipython3",
   "version": "3.12.0"
  }
 },
 "nbformat": 4,
 "nbformat_minor": 5
}
