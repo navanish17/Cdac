{
 "cells": [
  {
   "cell_type": "markdown",
   "id": "6d12ddd4",
   "metadata": {},
   "source": [
    "### Class and object"
   ]
  },
  {
   "cell_type": "code",
   "execution_count": null,
   "id": "e248924e",
   "metadata": {},
   "outputs": [],
   "source": [
    "\"\"\"Write a Python program to create a class Car with attributes brand and model. \n",
    "Create two objects and print their details.\"\"\"\n",
    "\n",
    "class Car:\n",
    "    def __init__(self, brand, model):\n",
    "        self.brand = brand\n",
    "        self.model = model\n",
    "\n",
    "car1 = Car(\"Toyota\", \"Camry\")\n",
    "car2 = Car(\"Honda\", \"Civic\")\n",
    "\n",
    "print(f\"Car 1: {car1.brand} {car1.model}\")\n",
    "print(f\"Car 2: {car2.brand} {car2.model}\")"
   ]
  },
  {
   "cell_type": "markdown",
   "id": "795caabd",
   "metadata": {},
   "source": [
    "### Inheritance"
   ]
  },
  {
   "cell_type": "code",
   "execution_count": 9,
   "id": "11d4025f",
   "metadata": {},
   "outputs": [
    {
     "name": "stdout",
     "output_type": "stream",
     "text": [
      "Cat sounnd like a meow\n"
     ]
    }
   ],
   "source": [
    "\"\"\"Inheritance Create a base class Animal with a method sound(). \n",
    "Derive two classes Dog and Cat that override the sound() method. \n",
    "Print the sounds for both.\"\"\"\n",
    "\n",
    "class Animal:\n",
    "    def sound(self):\n",
    "        print(\"this is by default sound\")\n",
    "\n",
    "class cat(Animal):\n",
    "    def sound(self):\n",
    "        print(\"Cat sounnd like a meow\")\n",
    "\n",
    "class dog(Animal):\n",
    "    def sound(self):\n",
    "        print(\"Dog sounds like a Bark\")\n",
    "\n",
    "a = Animal()\n",
    "c= cat()\n",
    "d = dog()\n",
    "\n",
    "c.sound()"
   ]
  },
  {
   "cell_type": "code",
   "execution_count": 24,
   "id": "6ecf266f",
   "metadata": {},
   "outputs": [
    {
     "name": "stdout",
     "output_type": "stream",
     "text": [
      "Developer name is ramesh, salary is 5000 and programming \n",
      "              language is python\n"
     ]
    }
   ],
   "source": [
    "\"\"\"Create a base class Employee with attributes name and salary.\n",
    "Then create two subclasses:\n",
    "Manager → has an extra attribute department.\n",
    "Developer → has an extra attribute programming_language.\n",
    "Both subclasses should override a method show_details() \n",
    "from the base class to display their information.\n",
    "Finally, create objects of Manager and Developer, and print their details.\"\"\"\n",
    "\n",
    "class Employee:\n",
    "    def __init__(self,name,salary):\n",
    "        self.name = name\n",
    "        self.salary = salary\n",
    "\n",
    "class Developer(Employee):\n",
    "    def __init__(self,name,salary,programming_language):\n",
    "        # self.programming_language = programming_language\n",
    "        super().__init__(name,salary)\n",
    "        self.programming_language = programming_language\n",
    "\n",
    "    def show_details(self):\n",
    "        print(f\"Developer name is {self.name}, salary is {self.salary} and programming \\n\\\n",
    "              language is {self.programming_language}\")\n",
    "        \n",
    "class Manager(Employee):\n",
    "    def __init__(self,name,salary,department):\n",
    "        super().__init__(name,salary)\n",
    "        self.department = department\n",
    "        # super().__init__(self,name,salary)\n",
    "\n",
    "    def show_details(self):\n",
    "        print(f\"Manager name is {self.name}, salary is {self.salary} and department \\n\\\n",
    "              is {self.department}\")\n",
    "        \n",
    "# e = Employee()\n",
    "d = Developer('ramesh', 5000,'python')\n",
    "m = Manager('mahesh', 6000,'finance')\n",
    "d.show_details()"
   ]
  },
  {
   "cell_type": "code",
   "execution_count": null,
   "id": "c26bc674",
   "metadata": {},
   "outputs": [],
   "source": []
  },
  {
   "cell_type": "markdown",
   "id": "9ae2fb5e",
   "metadata": {},
   "source": [
    "### Encapsulation"
   ]
  },
  {
   "cell_type": "code",
   "execution_count": 31,
   "id": "47dba5bd",
   "metadata": {},
   "outputs": [
    {
     "name": "stdout",
     "output_type": "stream",
     "text": [
      "After depositing you balance is 10000\n",
      "After withdrawl, balance is 9000\n"
     ]
    }
   ],
   "source": [
    "\"\"\"Write a Python program to demonstrate encapsulation by creating a \n",
    "class BankAccount with a private variable __balance. \n",
    "Provide methods to deposit and withdraw money safely.\"\"\"\n",
    "\n",
    "class BankAccount:\n",
    "    def __init__(self,balance):\n",
    "        self.__balance = balance\n",
    "\n",
    "    def deposit(self):\n",
    "        amount = int(input(\"enter the amount to deposit\"))\n",
    "        if amount > 0:\n",
    "            self.__balance = self.__balance+amount\n",
    "        print(f\"After depositing you balance is {self.__balance}\")\n",
    "\n",
    "    def withdraw(self):\n",
    "        amount = int(input(\"enter the amount to withdraw\"))\n",
    "        if amount <= self.__balance:\n",
    "            self.__balance = self.__balance - amount\n",
    "        print(f\"After withdrawl, balance is {self.__balance}\")\n",
    "\n",
    "\n",
    "b = BankAccount(5000)\n",
    "b.deposit()\n",
    "b.withdraw()\n",
    "\n",
    "\n"
   ]
  },
  {
   "cell_type": "code",
   "execution_count": null,
   "id": "5f393b5a",
   "metadata": {},
   "outputs": [],
   "source": []
  },
  {
   "cell_type": "markdown",
   "id": "f591a88a",
   "metadata": {},
   "source": [
    "### Polymorphism"
   ]
  },
  {
   "cell_type": "code",
   "execution_count": null,
   "id": "682d62bf",
   "metadata": {},
   "outputs": [],
   "source": [
    "\"\"\"Define a function make_sound(animal) that accepts any object with a sound() method. \n",
    "Show how polymorphism works by passing objects of Dog, Cat, and another class Cow.\"\"\"\n",
    "\n",
    "class animal:\n",
    "    def __init__(self,sound):\n",
    "        self.sound = sound\n",
    "        print(f\"this is be default sound {self.sound}\")\n",
    "\n",
    "class \n",
    "\n",
    "    "
   ]
  }
 ],
 "metadata": {
  "kernelspec": {
   "display_name": "Python 3",
   "language": "python",
   "name": "python3"
  },
  "language_info": {
   "codemirror_mode": {
    "name": "ipython",
    "version": 3
   },
   "file_extension": ".py",
   "mimetype": "text/x-python",
   "name": "python",
   "nbconvert_exporter": "python",
   "pygments_lexer": "ipython3",
   "version": "3.12.0"
  }
 },
 "nbformat": 4,
 "nbformat_minor": 5
}
