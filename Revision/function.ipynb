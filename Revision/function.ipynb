{
 "cells": [
  {
   "cell_type": "markdown",
   "id": "5b041a89",
   "metadata": {},
   "source": [
    "### Functions"
   ]
  },
  {
   "cell_type": "code",
   "execution_count": 9,
   "id": "8498e9ae",
   "metadata": {},
   "outputs": [
    {
     "name": "stdout",
     "output_type": "stream",
     "text": [
      "given string is palindrome\n"
     ]
    }
   ],
   "source": [
    "\"\"\"Question 1: Functions & Strings\n",
    "\n",
    "Write a Python function is_palindrome(s) that checks whether a given string is a \n",
    "palindrome (same forwards and backwards). Demonstrate it with examples.\"\"\"\n",
    "\n",
    "def palindrome():\n",
    "    s = input(\"enter your string here\")\n",
    "    s.lower()\n",
    "    s.replace(\" \",\"\")\n",
    "    if s[::] == s[::-1]:\n",
    "        print(\"given string is palindrome\")\n",
    "    else:\n",
    "        print(\"given string is not palindrome\")\n",
    "\n",
    "\n",
    "palindrome()"
   ]
  },
  {
   "cell_type": "code",
   "execution_count": null,
   "id": "c88824f5",
   "metadata": {},
   "outputs": [],
   "source": []
  },
  {
   "cell_type": "code",
   "execution_count": null,
   "id": "c0dae0b0",
   "metadata": {},
   "outputs": [
    {
     "name": "stdout",
     "output_type": "stream",
     "text": [
      "[1, 2, 3, 47]\n"
     ]
    }
   ],
   "source": [
    "\"\"\"Question 2: Lists & Loops\n",
    "\n",
    "Write a program that takes a list of integers and removes all duplicate elements \n",
    "without using set(). Print the final list.\"\"\"\n",
    "\n",
    "s = list(map(int, input(\"enter you integer\").split()))\n",
    "\n",
    "l = []\n",
    "for i in s:\n",
    "    if i not in l:\n",
    "        l.append(i)\n",
    "    else:\n",
    "        pass\n",
    "print(l)"
   ]
  },
  {
   "cell_type": "code",
   "execution_count": null,
   "id": "beb7e709",
   "metadata": {},
   "outputs": [],
   "source": []
  },
  {
   "cell_type": "code",
   "execution_count": null,
   "id": "0447bb84",
   "metadata": {},
   "outputs": [],
   "source": [
    "\"\"\"Question 3 Dictionaries\n",
    "\n",
    "Create a dictionary that stores student names as keys and their marks as values. \n",
    "Write a function to return the name of the student with the highest marks.\"\"\"\n",
    "\n",
    "students = {}\n",
    "\n",
    "n = int(input(\"enter the number of students\"))\n",
    "\n",
    "for i in range(n):\n",
    "    name = input(\"enter name\")\n",
    "    marks = int(input(\"enter the marks\"))\n",
    "\n",
    "    students[name] = marks\n",
    "\n",
    "def dict(any_dict):\n",
    "    max_marks = max(any_dict, key = any_dict.get)\n",
    "    a = any_dict[max_marks]\n",
    "    print(f\"maximum score gained by {max_marks}, that is {a}\")\n",
    "\n",
    "dict(students)\n"
   ]
  },
  {
   "cell_type": "code",
   "execution_count": null,
   "id": "aac3869b",
   "metadata": {},
   "outputs": [],
   "source": []
  },
  {
   "cell_type": "code",
   "execution_count": 22,
   "id": "2742f23f",
   "metadata": {},
   "outputs": [
    {
     "name": "stdout",
     "output_type": "stream",
     "text": [
      "number of char is 30\n",
      "number of lines is 4\n",
      "number of words is 4\n"
     ]
    }
   ],
   "source": [
    "\"\"\"Question 4 File Handling\n",
    "\n",
    "Write a Python program that reads a text file and counts how many words, \n",
    "lines, and characters are in it.\"\"\"\n",
    "\n",
    "def reader(filename):\n",
    "    with open(filename)  as f:\n",
    "        k = f.read()\n",
    "        print(f\"number of char is {len(k)}\")\n",
    "\n",
    "        l = k.splitlines()\n",
    "        print(f\"number of lines is {len(l)}\")\n",
    "\n",
    "        w = k.split()\n",
    "        print(f\"number of words is {len(w)}\")\n",
    "\n",
    "reader(r\"C:\\Cdac\\name.txt\")"
   ]
  },
  {
   "cell_type": "code",
   "execution_count": null,
   "id": "9b502bc2",
   "metadata": {},
   "outputs": [],
   "source": []
  },
  {
   "cell_type": "code",
   "execution_count": 31,
   "id": "f926904f",
   "metadata": {},
   "outputs": [
    {
     "name": "stdout",
     "output_type": "stream",
     "text": [
      "area of rectangle is 120\n"
     ]
    }
   ],
   "source": [
    "\"\"\"Question 5 OOP & Polymorphism\n",
    "\n",
    "Define a base class Shape with a method area(). Derive classes Rectangle and Circle \n",
    "from it, overriding the area() method appropriately. Demonstrate polymorphism by \n",
    "calling area() for objects of both classes.\"\"\"\n",
    "\n",
    "class Shape:\n",
    "    def area(self):\n",
    "        pass\n",
    "\n",
    "class Rectangle:\n",
    "    def area(self,l,b):\n",
    "        self.l = l\n",
    "        self.b = b\n",
    "        area = l*b\n",
    "        print(f\"area of rectangle is {area}\")\n",
    "\n",
    "class Circle:\n",
    "    def area(self,r):\n",
    "        self.r = r\n",
    "        area = 3.14*r**2\n",
    "        print(f\"area of circle is {area}\")\n",
    "\n",
    "r = Rectangle()\n",
    "# r1 = r.calculate_area(15,10)\n",
    "\n",
    "c = Circle()\n",
    "# c1 = c.calculate_area(16)\n",
    "\n",
    "def area(shape, *arg):\n",
    "    shape.area(*arg)\n",
    "\n",
    "area(r,10,12)"
   ]
  },
  {
   "cell_type": "code",
   "execution_count": null,
   "id": "d547d422",
   "metadata": {},
   "outputs": [],
   "source": []
  }
 ],
 "metadata": {
  "kernelspec": {
   "display_name": "Python 3",
   "language": "python",
   "name": "python3"
  },
  "language_info": {
   "codemirror_mode": {
    "name": "ipython",
    "version": 3
   },
   "file_extension": ".py",
   "mimetype": "text/x-python",
   "name": "python",
   "nbconvert_exporter": "python",
   "pygments_lexer": "ipython3",
   "version": "3.12.0"
  }
 },
 "nbformat": 4,
 "nbformat_minor": 5
}
