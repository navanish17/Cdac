{
 "cells": [
  {
   "cell_type": "code",
   "execution_count": 3,
   "id": "eb1b5411-b46e-4afd-8d22-fe54978e8993",
   "metadata": {},
   "outputs": [
    {
     "name": "stdout",
     "output_type": "stream",
     "text": [
      "given date is 2025-09-01 18:34:22.832855\n",
      "7 days before is 2025-08-25 18:34:22.832855\n"
     ]
    }
   ],
   "source": [
    "#Qn.1: Subtract a week ( 7 days)  from a given date in Python\n",
    "\n",
    "import datetime\n",
    "k = datetime.datetime.now()\n",
    "#k = k.strftime(\"%d %m %Y\")\n",
    "\n",
    "s = k-datetime.timedelta(days =7)\n",
    "print(f\"given date is {k}\")\n",
    "print(f\"7 days before is {s}\")\n"
   ]
  },
  {
   "cell_type": "code",
   "execution_count": 4,
   "id": "fa7a70d2-fd73-4f82-9b9e-b29d4ec777c4",
   "metadata": {},
   "outputs": [
    {
     "name": "stdout",
     "output_type": "stream",
     "text": [
      "given date is 2025-09-01 18:34:23.582627\n",
      "7 days before is 2025-09-09 06:34:23.582627\n"
     ]
    }
   ],
   "source": [
    "\"\"\"Qn.2 Add week ( 7 days) and 12 hours to a given date\n",
    "Given:\n",
    "2024-03-22 10:00:00\n",
    "given_date = datetime(2024, 3, 22, 10, 0, 0)\n",
    "Expected output:\n",
    "2024-03-29 22:00:00\"\"\"\n",
    "\n",
    "k = datetime.datetime.now()\n",
    "#k = k.strftime(\"%d %m %Y\")\n",
    "\n",
    "s = k+datetime.timedelta(days =7, hours= 12 )\n",
    "print(f\"given date is {k}\")\n",
    "print(f\"7 days before is {s}\")\n"
   ]
  },
  {
   "cell_type": "code",
   "execution_count": null,
   "id": "25b9205a-ad24-41ac-a3d3-7f83e24c948b",
   "metadata": {},
   "outputs": [],
   "source": []
  },
  {
   "cell_type": "code",
   "execution_count": 5,
   "id": "5264c439-fabe-434e-9f9a-ccbe1e388f66",
   "metadata": {},
   "outputs": [
    {
     "name": "stdout",
     "output_type": "stream",
     "text": [
      "given date is 2025-09-01 18:34:24.672239\n",
      "dates tweek apart is 2025-09-15\n",
      "dates tweek apart is 2025-09-29\n",
      "dates tweek apart is 2025-10-13\n",
      "dates tweek apart is 2025-10-27\n",
      "dates tweek apart is 2025-11-10\n",
      "dates tweek apart is 2025-11-24\n",
      "dates tweek apart is 2025-12-08\n",
      "dates tweek apart is 2025-12-22\n",
      "dates tweek apart is 2026-01-05\n",
      "dates tweek apart is 2026-01-19\n"
     ]
    }
   ],
   "source": [
    "\"\"\"Qn.3: Print ten dates, each two a week apart, starting from today, in the form YYYY-MM-DD.\"\"\"\n",
    "\n",
    "k = datetime.datetime.now()\n",
    "\n",
    "print(f\"given date is {k}\")\n",
    "n =0\n",
    "for i in range(10):\n",
    "    n += 2\n",
    "    s = k+datetime.timedelta(weeks = n)\n",
    "    s = s.strftime(\"%Y-%m-%d\")\n",
    "    print(f\"dates tweek apart is {s}\")\n",
    "    \n",
    "\n",
    "\n"
   ]
  },
  {
   "cell_type": "code",
   "execution_count": null,
   "id": "badb7e77-1942-4dcb-97aa-69c54cefe788",
   "metadata": {},
   "outputs": [],
   "source": []
  },
  {
   "cell_type": "code",
   "execution_count": 17,
   "id": "7d351ca2-bafa-4db8-88f1-2b75176c0218",
   "metadata": {},
   "outputs": [
    {
     "name": "stdout",
     "output_type": "stream",
     "text": [
      "205 days\n"
     ]
    }
   ],
   "source": [
    "\"\"\"Qn.4: Calculate number of days between two given dates\n",
    "Given:\n",
    "# 2020-02-25\n",
    "date_1 = datetime(2020, 2, 25)\n",
    "# 2020-09-17\n",
    "date_2 = datetime(2020, 9, 17)\n",
    "Expected output:\n",
    "205 days\"\"\"\n",
    "\n",
    "date_1 = datetime.datetime(2020, 2, 25)\n",
    "date_2 = datetime.datetime(2020, 9, 17)\n",
    "d = date_2-date_1\n",
    "print(f\"{d.days} days\")"
   ]
  },
  {
   "cell_type": "code",
   "execution_count": 28,
   "id": "fc495582-8239-4718-b6db-e60f348856a6",
   "metadata": {},
   "outputs": [
    {
     "name": "stdout",
     "output_type": "stream",
     "text": [
      "2025-09-01 19:06:38.778667\n",
      "2025\n",
      "September\n",
      "1\n",
      "01\n",
      "Monday\n"
     ]
    }
   ],
   "source": [
    "\"\"\"5: Write a Python script to display the\n",
    "a) Current date and time\n",
    "b) Current year in full\n",
    "c) Month of year full name\n",
    "d) Weekday of the week\n",
    "e) Day of the month\n",
    "f) Day of week in full name\"\"\"\n",
    "\n",
    "k = datetime.datetime.now()\n",
    "Current_date_and_time = k\n",
    "print(Current_date_and_time)\n",
    "\n",
    "Current_year_in_full =k.strftime(\"%Y\") \n",
    "print(Current_year_in_full)\n",
    "\n",
    "Month_of_year_full_name = k.strftime(\"%B\")\n",
    "print(Month_of_year_full_name)\n",
    "\n",
    "Weekday_of_the_week = k.strftime(\"%w\")\n",
    "print(Weekday_of_the_week)\n",
    "\n",
    "Day_of_the_month = k.strftime(\"%d\")\n",
    "print(Day_of_the_month)\n",
    "\n",
    "Day_of_week_in_full_name = k.strftime(\"%A\")\n",
    "print(Day_of_week_in_full_name)"
   ]
  },
  {
   "cell_type": "code",
   "execution_count": null,
   "id": "9d81759a-1d6e-4aef-801c-79ee6882249b",
   "metadata": {},
   "outputs": [],
   "source": []
  },
  {
   "cell_type": "code",
   "execution_count": 39,
   "id": "ba879a31-ff4a-4603-80a9-93cf7e2bdd9f",
   "metadata": {},
   "outputs": [
    {
     "name": "stdout",
     "output_type": "stream",
     "text": [
      "This Triangle having 3 sides and by given angle this is True triangle\n"
     ]
    }
   ],
   "source": [
    "\"\"\"6: Follow the steps:\n",
    "Create a class, Triangle. Its __init__() method should take self, angle1, angle2, and angle3 as arguments. Make sure to set these appropriately in the body of the __init__()method.\n",
    "Create a variable named number_of_sides and set it equal to 3.\n",
    "Create a method named check_angles. The sum of a triangle's three angles is It should return True if the sum of self.angle1, self.angle2, and self.angle3 is equal 180, and False otherwise.\n",
    "Create a variable named my_triangle and set it equal to a new instance of your Triangle class. Pass it three angles that sum to 180 (e.g. 90, 30, 60).\n",
    "Print out my_triangle.number_of_sides and print out my_triangle.check_angles().\n",
    "\"\"\"\n",
    "\n",
    "class Triangle:\n",
    "    def __init__(self, angle1, angle2, angle3):\n",
    "        self.angle1 = angle1\n",
    "        self.angle2 = angle2\n",
    "        self.angle3 = angle3\n",
    "\n",
    "    number_of_sides = 3\n",
    "    def check_angles(self):\n",
    "        if self.angle1+self.angle2+self.angle3==180:\n",
    "            return True\n",
    "        else:\n",
    "            return False\n",
    "number_of_sides = 3\n",
    "my_triangle = Triangle(90, 30, 60)\n",
    "print(f\"This Triangle having {my_triangle.number_of_sides} sides and by given angle this is {my_triangle.check_angles()} triangle\")"
   ]
  },
  {
   "cell_type": "code",
   "execution_count": null,
   "id": "4a53e7a6-176c-4286-be7a-7264dd1fdc81",
   "metadata": {},
   "outputs": [],
   "source": []
  },
  {
   "cell_type": "code",
   "execution_count": 51,
   "id": "bbab699a-f87e-496e-93c9-78abb963b2e1",
   "metadata": {},
   "outputs": [
    {
     "name": "stdout",
     "output_type": "stream",
     "text": [
      "May god bless you, \n",
      "Have a sunshine on you,\n",
      "Happy Birthday to you !\n"
     ]
    }
   ],
   "source": [
    "\"\"\"7: Define a class called Songs, it will show the lyrics of a song. \n",
    "Its __init__() method should have two arguments:self and lyrics.lyricsis a list. \n",
    "Inside your class create a method called sing_me_a_song that prints each element of lyricson his own line. \n",
    "Define a varible:\n",
    "happy_bday = Song([\"May god bless you, \",\n",
    "                   \"Have a sunshine on you,\",\n",
    "                   \"Happy Birthday to you !\"])\n",
    "Call the sing_me_song method on this variable.\n",
    "\"\"\"\n",
    "\n",
    "class songs:\n",
    "    def __init__(self,lyrics):\n",
    "        self.lyrics = lyrics\n",
    "\n",
    "    def sing_me_a_song(self):\n",
    "        #lyricson = self.lyrics\n",
    "        for i in self.lyrics:\n",
    "            print(i)\n",
    "\n",
    "happy_bday = songs([\"May god bless you, \",\n",
    "                   \"Have a sunshine on you,\",\n",
    "                   \"Happy Birthday to you !\"])\n",
    "\n",
    "happy_bday.sing_me_a_song()\n"
   ]
  },
  {
   "cell_type": "code",
   "execution_count": null,
   "id": "b879b4d8-5314-4664-919d-ba49341edf8e",
   "metadata": {},
   "outputs": [],
   "source": []
  },
  {
   "cell_type": "code",
   "execution_count": 56,
   "id": "512073d9-de67-491c-a224-ce798af59089",
   "metadata": {},
   "outputs": [
    {
     "name": "stdout",
     "output_type": "stream",
     "text": [
      "Error in menu\n"
     ]
    }
   ],
   "source": [
    "\"\"\"8: Define a class called Lunch.Its __init__() method should have two arguments:selfanf menu.\n",
    "Where menu is a string. Add a method called menu_price.It will involve a ifstatement:\n",
    "if \"menu 1\" print \"Your choice:\", menu, \"Price 12.00\", if \"menu 2\" print \"Your choice:\", menu, \"Price 13.40\", else print \"Error in menu\".\n",
    "To check if it works define: Paul=Lunch(\"menu 1\") and call Paul.menu_price().\n",
    "\"\"\"\n",
    "\n",
    "class Lunch:\n",
    "    def __init__(self,menu):\n",
    "        self.menu= menu\n",
    "\n",
    "    def menu_price(self):\n",
    "        user_choice = self.menu\n",
    "        user_choice.lower()\n",
    "        if user_choice == \"menu 1\":\n",
    "            print(\"This menu Price is 12.00\")\n",
    "        elif user_choice == \"menu 2\":\n",
    "            print(\"This menu Price is 13.40\")\n",
    "        else:\n",
    "            print(\"Error in menu\")\n",
    "\n",
    "Paul=Lunch(\"menu 3\")\n",
    "Paul.menu_price()                \n",
    "        \n"
   ]
  },
  {
   "cell_type": "code",
   "execution_count": null,
   "id": "279de170-1eed-45ec-8cc7-0901eee43215",
   "metadata": {},
   "outputs": [],
   "source": []
  },
  {
   "cell_type": "code",
   "execution_count": 68,
   "id": "13d52beb-484a-4219-a0a7-1f6392e7c8f7",
   "metadata": {},
   "outputs": [
    {
     "name": "stdout",
     "output_type": "stream",
     "text": [
      "THIS IS MY MOM\n"
     ]
    }
   ],
   "source": [
    "\"\"\"9: Write a Python class which has two methods get_String and print_String. \n",
    "get_String accept a string from the user and print_String print the string in upper case.\"\"\"\n",
    "\n",
    "class strings:\n",
    "    def __init__(self,string):\n",
    "        self.string = string\n",
    "\n",
    "    def get_String(self):\n",
    "        self.latest = self.string # making it object instance so that it can be acssesable\n",
    "\n",
    "    def print_String(self):\n",
    "        k = self.latest\n",
    "        print(k.upper())\n",
    "    \n",
    "\n",
    "type = strings(\"This is my mom\")\n",
    "type.get_String()\n",
    "type.print_String()\n",
    "        \n",
    "        \n"
   ]
  },
  {
   "cell_type": "code",
   "execution_count": null,
   "id": "22733114-156c-4f39-9473-97486a09762b",
   "metadata": {},
   "outputs": [],
   "source": []
  },
  {
   "cell_type": "code",
   "execution_count": 2,
   "id": "948dcac1-b120-4a85-aab5-79b2d6ec9c7c",
   "metadata": {},
   "outputs": [
    {
     "name": "stdin",
     "output_type": "stream",
     "text": [
      "enter the length of rectangle 10\n",
      "enter the breadth of rectangle 12\n"
     ]
    },
    {
     "name": "stdout",
     "output_type": "stream",
     "text": [
      "1.Area 2.Perimeter 3. Exit\n"
     ]
    },
    {
     "name": "stdin",
     "output_type": "stream",
     "text": [
      "enter your choice number 1\n"
     ]
    },
    {
     "name": "stdout",
     "output_type": "stream",
     "text": [
      "Area of rectangle is 120\n"
     ]
    },
    {
     "name": "stdin",
     "output_type": "stream",
     "text": [
      "enter your choice number 3\n"
     ]
    },
    {
     "name": "stdout",
     "output_type": "stream",
     "text": [
      "end of program\n"
     ]
    }
   ],
   "source": [
    "\"\"\"10: Write a program to find the area and perimeter of a rectangle using classes and objects. \n",
    "Program output should be like this:\"\"\"\n",
    "\n",
    "class rectangle:\n",
    "    def __init__(self):\n",
    "        self.length = int(input(\"enter the length of rectangle\"))\n",
    "        self.breadth = int(input(\"enter the breadth of rectangle\"))\n",
    "\n",
    "    def geometry(self):\n",
    "        print(\"1.Area 2.Perimeter 3. Exit\")\n",
    "        while True:\n",
    "            choice = int(input(\"enter your choice number\"))\n",
    "            if choice==1:\n",
    "                area = self.length*self.breadth\n",
    "                print(f\"Area of rectangle is {area}\")\n",
    "            elif choice==2:\n",
    "                perimeter = 2*(self.length+self.breadth)\n",
    "                print(f\"Perimeter of rectangle is {perimeter}\")\n",
    "            elif choice==3:\n",
    "                print(\"end of program\")\n",
    "                break\n",
    "    \n",
    "\n",
    "find = rectangle()\n",
    "find.geometry()"
   ]
  },
  {
   "cell_type": "code",
   "execution_count": 2,
   "id": "5a8bde3b-0407-41b6-bbbf-cb98c30a88dc",
   "metadata": {},
   "outputs": [
    {
     "data": {
      "text/plain": [
       "3"
      ]
     },
     "execution_count": 2,
     "metadata": {},
     "output_type": "execute_result"
    }
   ],
   "source": [
    "1+2"
   ]
  },
  {
   "cell_type": "code",
   "execution_count": null,
   "id": "6bf0d648-929f-47d0-a79a-1ee77fb04083",
   "metadata": {},
   "outputs": [],
   "source": []
  },
  {
   "cell_type": "code",
   "execution_count": null,
   "id": "5289b811-7e39-4c32-bed8-f4e4ee8868a0",
   "metadata": {},
   "outputs": [],
   "source": []
  }
 ],
 "metadata": {
  "kernelspec": {
   "display_name": "Python 3 (ipykernel)",
   "language": "python",
   "name": "python3"
  },
  "language_info": {
   "codemirror_mode": {
    "name": "ipython",
    "version": 3
   },
   "file_extension": ".py",
   "mimetype": "text/x-python",
   "name": "python",
   "nbconvert_exporter": "python",
   "pygments_lexer": "ipython3",
   "version": "3.11.5"
  }
 },
 "nbformat": 4,
 "nbformat_minor": 5
}
