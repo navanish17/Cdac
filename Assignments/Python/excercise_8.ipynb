{
 "cells": [
  {
   "cell_type": "code",
   "execution_count": 16,
   "id": "e3247512-6915-4b4a-9fa2-f3ca815b2d31",
   "metadata": {},
   "outputs": [
    {
     "name": "stdout",
     "output_type": "stream",
     "text": [
      "fan switch is on\n",
      "fan switch is off\n",
      "light switch is on\n",
      "light switch is off\n"
     ]
    }
   ],
   "source": [
    "\"\"\"\n",
    "Q1. Create an abstract class Appliance with two abstract methods:\n",
    "turn_on()  and turn_off()\n",
    "Then, create two subclasses:  Fan and Light\n",
    "Each subclass must implement the two abstract methods and demonstrate their use\n",
    "\"\"\"\n",
    "from abc import ABC, abstractmethod\n",
    "\n",
    "class Appliance(ABC):\n",
    "    @abstractmethod\n",
    "    def turn_on(self):\n",
    "        pass\n",
    "\n",
    "    @abstractmethod  \n",
    "    def turn_off(self):\n",
    "        pass\n",
    "\n",
    "class fan(Appliance):\n",
    "    def turn_on(self):\n",
    "        print(\"fan switch is on\")\n",
    "    \n",
    "    def turn_off(self):\n",
    "        print(\"fan switch is off\")\n",
    "\n",
    "class light(Appliance):\n",
    "\n",
    "    def turn_on(self):\n",
    "        print(\"light switch is on\")\n",
    "\n",
    "    def turn_off(self):\n",
    "        print(\"light switch is off\")\n",
    "\n",
    "k = fan()\n",
    "k.turn_on()\n",
    "k.turn_off()\n",
    "\n",
    "p = light()\n",
    "p.turn_on()\n",
    "p.turn_off()\n",
    "   "
   ]
  },
  {
   "cell_type": "code",
   "execution_count": null,
   "id": "063d7233-928e-4110-b388-04bdd0cd1c17",
   "metadata": {},
   "outputs": [],
   "source": []
  },
  {
   "cell_type": "code",
   "execution_count": 24,
   "id": "59396841-1ce4-4379-9d35-965c182b4b04",
   "metadata": {},
   "outputs": [
    {
     "name": "stdin",
     "output_type": "stream",
     "text": [
      "give the radius here 5\n"
     ]
    },
    {
     "name": "stdout",
     "output_type": "stream",
     "text": [
      "78.5\n",
      "we can define circle shape by its radius that is 5\n"
     ]
    },
    {
     "name": "stdin",
     "output_type": "stream",
     "text": [
      "enter the length here 10\n",
      "enter the breadth 15\n"
     ]
    },
    {
     "name": "stdout",
     "output_type": "stream",
     "text": [
      "150\n",
      "we can define rectangle shape by its length that is 10 and breadth is 15\n"
     ]
    }
   ],
   "source": [
    "\"\"\"Q2: Create an abstract class Shape with an abstract method area() and a regular method display_shape(). \n",
    "Implement with Circle and Rectangle class.\"\"\"\n",
    "\n",
    "from abc import ABC, abstractmethod\n",
    "\n",
    "class Shape(ABC):\n",
    "    @abstractmethod\n",
    "    def area(self):\n",
    "        pass\n",
    "\n",
    "    def display_shape(self):\n",
    "        pass\n",
    "\n",
    "class Circle(Shape):\n",
    "    def area(self):\n",
    "        self.r = int(input(\"give the radius here\"))\n",
    "        area = 3.14*self.r**2\n",
    "        print(area)\n",
    "    def display_shape(self):\n",
    "        print(f\"we can define circle shape by its radius that is {self.r}\")\n",
    "\n",
    "class Rectangle(Shape):\n",
    "    def area(self):\n",
    "        self.l = int(input(\"enter the length here\"))\n",
    "        self.b = int(input(\"enter the breadth\"))\n",
    "        area = self.l*self.b\n",
    "        print(area)\n",
    "\n",
    "    def display_shape(self):\n",
    "        print(f\"we can define rectangle shape by its length that is {self.l} and breadth is {self.b}\")\n",
    "\n",
    "k = Circle()\n",
    "j = Rectangle()\n",
    "k.area()\n",
    "k.display_shape()\n",
    "\n",
    "j.area()\n",
    "j.display_shape()\n",
    "    \n",
    "        \n",
    "    "
   ]
  },
  {
   "cell_type": "code",
   "execution_count": null,
   "id": "3230c6ea-4cae-42c5-b6d0-2f339ac54c7b",
   "metadata": {},
   "outputs": [],
   "source": []
  },
  {
   "cell_type": "code",
   "execution_count": 26,
   "id": "e6629b3e-1fa1-4a69-a25e-c1ab60cb5145",
   "metadata": {},
   "outputs": [
    {
     "name": "stdout",
     "output_type": "stream",
     "text": [
      "Hello\n",
      "this is actual function\n",
      "this is after the function\n"
     ]
    }
   ],
   "source": [
    "\"\"\"Q3: Create a decorator called greet_decorator that prints \"Hello!\" before calling the actual function.\"\"\"\n",
    "\n",
    "\n",
    "def greet_decorator(func):\n",
    "    def wrapper():\n",
    "        print(\"Hello\")\n",
    "        func()\n",
    "        print(\"this is after the function\") #this is extra\n",
    "        \n",
    "    return wrapper\n",
    "\n",
    "@greet_decorator\n",
    "def random():\n",
    "    print(\"this is actual function\")\n",
    "\n",
    "random()\n"
   ]
  },
  {
   "cell_type": "code",
   "execution_count": null,
   "id": "82f95039-7068-443f-ac5c-f6d354109a66",
   "metadata": {},
   "outputs": [],
   "source": []
  },
  {
   "cell_type": "code",
   "execution_count": null,
   "id": "fa47acf2-24ee-4300-a16e-b0db8ec25065",
   "metadata": {},
   "outputs": [],
   "source": []
  },
  {
   "cell_type": "code",
   "execution_count": 54,
   "id": "4fc1e983-4a01-4393-8674-2225c4b228ef",
   "metadata": {},
   "outputs": [],
   "source": [
    "\"\"\"Q4: Create a decorator log_arguments that prints the function arguments before calling it.\"\"\"\n",
    "\n",
    "def log_arguments(func):\n",
    "    def wrapper(a,b):\n",
    "        print(f\"function arguments are {a} , {b}\")\n",
    "        print(\"this is the argument before calling it\")\n",
    "        func(a,b)\n",
    "        print(\"this is the argument after calling it\")\n",
    "    return wrapper\n",
    "\n",
    "@log_arguments\n",
    "def sum(a,b):\n",
    "    total = a+b\n",
    "    print(total)\n",
    "        "
   ]
  },
  {
   "cell_type": "code",
   "execution_count": 55,
   "id": "d0fa55ec-6b79-4bfd-b718-87578cebffe7",
   "metadata": {},
   "outputs": [
    {
     "name": "stdout",
     "output_type": "stream",
     "text": [
      "function arguments are 5 , 6\n",
      "this is the argument before calling it\n",
      "11\n",
      "this is the argument after calling it\n"
     ]
    }
   ],
   "source": [
    "sum(5,6)"
   ]
  },
  {
   "cell_type": "code",
   "execution_count": null,
   "id": "854887f4-2bcd-4c73-8ac0-0a32fc4b0555",
   "metadata": {},
   "outputs": [],
   "source": []
  },
  {
   "cell_type": "code",
   "execution_count": 65,
   "id": "b8eb54b3-5a62-4071-abb6-40a8def8862d",
   "metadata": {},
   "outputs": [
    {
     "name": "stdout",
     "output_type": "stream",
     "text": [
      "I am calling the method name that is: trial\n",
      "we have called it\n",
      "this is function statement\n"
     ]
    }
   ],
   "source": [
    "\"\"\"Q5. Create a log_method_call decorator that logs method name when called from a class.\n",
    "[Hint:  func.__name__ may be used to return calling method name]\"\"\"\n",
    "\n",
    "\n",
    "    \n",
    "\n",
    "def log_method_call(func):\n",
    "    def wrapper(*args, **kwargs):\n",
    "        print(f\"I am calling the method name that is: {func.__name__}\")\n",
    "        print(\"we have called it\")\n",
    "        result = func(*args, **kwargs)\n",
    "        return result\n",
    "       \n",
    "    return wrapper\n",
    "\n",
    "class log_method_name:\n",
    "\n",
    "    @log_method_call\n",
    "    def trial(self):\n",
    "        print(\"this is function statement\")\n",
    "\n",
    "\n",
    "k = log_method_name()\n",
    "k.trial()"
   ]
  },
  {
   "cell_type": "code",
   "execution_count": null,
   "id": "d53f350e-a5dd-4fe9-9b45-ecbe378a99ea",
   "metadata": {},
   "outputs": [],
   "source": []
  },
  {
   "cell_type": "markdown",
   "id": "927f58a8-c8f6-45c6-a3e0-d0803578428a",
   "metadata": {},
   "source": [
    "### [Exception Handling]"
   ]
  },
  {
   "cell_type": "code",
   "execution_count": 66,
   "id": "a9ba3021-2ce8-4449-ae69-e3c5d18bea00",
   "metadata": {},
   "outputs": [
    {
     "name": "stdout",
     "output_type": "stream",
     "text": [
      "you can not divide any number with zero\n"
     ]
    }
   ],
   "source": [
    "\"\"\"Q1: Write a function to compute 5/0 and use try/except to catch the exceptions.\"\"\"\n",
    "\n",
    "def divide(a,b):\n",
    "    print(a/b)\n",
    "\n",
    "try:\n",
    "    divide(5,0)\n",
    "except:\n",
    "    print(\"you can not divide any number with zero\")"
   ]
  },
  {
   "cell_type": "code",
   "execution_count": null,
   "id": "32345ea3-8951-49e7-af8c-1523c675bcbc",
   "metadata": {},
   "outputs": [],
   "source": []
  },
  {
   "cell_type": "code",
   "execution_count": 87,
   "id": "5e0383a2-76b3-4f5d-9703-93e4dd8ef958",
   "metadata": {},
   "outputs": [
    {
     "name": "stdout",
     "output_type": "stream",
     "text": [
      "this is out of index\n"
     ]
    }
   ],
   "source": [
    "\"\"\"Q2: Write a Python program to access the array element whose index is out of bound and handle the \n",
    "corresponding exception\"\"\"\n",
    "\n",
    "def get_index():\n",
    "    l1 = [23,34,45,56]\n",
    "try:\n",
    "    print(l1[7])\n",
    "except:\n",
    "    print(\"this is out of index\")\n",
    "\n"
   ]
  },
  {
   "cell_type": "code",
   "execution_count": null,
   "id": "21800e5a-fffc-4eb3-9245-8c4d9c163450",
   "metadata": {},
   "outputs": [],
   "source": []
  },
  {
   "cell_type": "code",
   "execution_count": 100,
   "id": "c9f3f558-35bb-462b-849a-36b3bbe5c7d9",
   "metadata": {},
   "outputs": [
    {
     "name": "stdin",
     "output_type": "stream",
     "text": [
      "enter the file name name.txt\n"
     ]
    },
    {
     "name": "stdout",
     "output_type": "stream",
     "text": [
      "file not found\n"
     ]
    }
   ],
   "source": [
    "\"\"\"\n",
    "Q3: Write a program that asks the user for a file name and tries to open the file. \n",
    "If the file doesn't exist, handle the FileNotFoundError. \n",
    "Also, handle the case where the user enters non-numeric data for the file content using a ValueError.\n",
    "\"\"\"\n",
    "\n",
    "def file_name():\n",
    "    try:\n",
    "        file = input(\"enter the file name\")\n",
    "        with open (file) as f:\n",
    "            k = f.read()\n",
    "            print(k)\n",
    "\n",
    "        y =  [int(i) for i in k.split()]\n",
    "        print(y)\n",
    "    except  ValueError:\n",
    "        print(\"This value not able to convert into int\")\n",
    "        \n",
    "    except FileNotFoundError:\n",
    "        print(\"file not found\")\n",
    "\n",
    "file_name()\n",
    "        "
   ]
  },
  {
   "cell_type": "code",
   "execution_count": null,
   "id": "95ad7b9d-89c9-48fc-8c7b-954e4f04922d",
   "metadata": {},
   "outputs": [],
   "source": []
  },
  {
   "cell_type": "code",
   "execution_count": 115,
   "id": "8e279354-86ae-41fa-bd41-bfd7d57b62e1",
   "metadata": {},
   "outputs": [],
   "source": [
    "\"\"\"Q4: Write a custom exception InvalidAgeError that will be raised \n",
    "if a user inputs an age less than 0 or greater than 150. \n",
    "Implement exception handling to handle this custom exception.\n",
    "\"\"\"\n",
    "class InvalidAgeError(Exception):\n",
    "    pass\n",
    "    \n",
    "try:  \n",
    "    def age():\n",
    "        a = int(input(\"enter your age\"))\n",
    "        print(f\"your age is {a}\")\n",
    "        if a<0 or a>150:\n",
    "            raise InvalidAgeError(\"your age is not in given condition\")\n",
    "            print(f\"your age is {a}\")\n",
    "except InvalidAgeError:\n",
    "    print(\"your age is not in given condition\")\n",
    "        \n",
    "    \n",
    "age()"
   ]
  },
  {
   "cell_type": "code",
   "execution_count": null,
   "id": "f662a0ea-30f8-46c1-8a74-c7bad8bd5750",
   "metadata": {},
   "outputs": [],
   "source": []
  },
  {
   "cell_type": "code",
   "execution_count": 125,
   "id": "35fe4a27-45cf-49ed-88a0-99ad50fce1e8",
   "metadata": {},
   "outputs": [
    {
     "name": "stdin",
     "output_type": "stream",
     "text": [
      "enter your first number 12\n",
      "enter your second number 0\n"
     ]
    },
    {
     "name": "stdout",
     "output_type": "stream",
     "text": [
      "division by zero\n",
      "operation completed successfully\n"
     ]
    }
   ],
   "source": [
    "\"\"\"Q5: Write a Python program that asks the user for two numbers, performs division, and uses a try block to catch \n",
    "ZeroDivisionError. If no exception occurs, the else block should print the result. \n",
    "The finally block should always print \"Operation Complete.\"\"\"\n",
    "\n",
    "def calculations():\n",
    "    a = int(input(\"enter your first number\"))\n",
    "    b = int(input(\"enter your second number\"))\n",
    "    result = a/b\n",
    "    print(result)\n",
    "try:\n",
    "    calculations()\n",
    "        \n",
    "except ZeroDivisionError as ev:\n",
    "    print(ev)\n",
    "\n",
    "else:\n",
    "    print(\"this division happend successfully\")\n",
    "\n",
    "finally:\n",
    "    print(\"operation completed successfully\")\n",
    "    "
   ]
  },
  {
   "cell_type": "code",
   "execution_count": null,
   "id": "22d74c9c-f8c3-4a1a-8dc3-d1bff4acc9c5",
   "metadata": {},
   "outputs": [],
   "source": []
  },
  {
   "cell_type": "code",
   "execution_count": 37,
   "id": "a7f70980-58af-4676-acf6-1df0505074a4",
   "metadata": {},
   "outputs": [
    {
     "name": "stdin",
     "output_type": "stream",
     "text": [
      "enter the number \n"
     ]
    },
    {
     "name": "stdout",
     "output_type": "stream",
     "text": [
      "given input is empty string\n"
     ]
    }
   ],
   "source": [
    "\"\"\"Q6: Write a program that attempts to convert a string into an integer using int(). \n",
    "If the input is not a valid integer, handle the ValueError. If the input is an empty string, \n",
    "handle the TypeError.\"\"\"\n",
    "\n",
    "def conversion():\n",
    "    m = input(\"enter the number\")\n",
    "    p = \"\".join(m)\n",
    "    if p == \"\":\n",
    "        raise TypeError(\"given input is empty string\")\n",
    "    k = int(m)\n",
    "    print(k)\n",
    "\n",
    "try:\n",
    "    conversion()\n",
    "\n",
    "except ValueError:\n",
    "    print(\"entered value is not int in input\")\n",
    "\n",
    "except TypeError:\n",
    "    print(\"given input is empty string\")\n"
   ]
  },
  {
   "cell_type": "code",
   "execution_count": null,
   "id": "a139e54d-393f-4b07-81ec-f9d9d0fed33a",
   "metadata": {},
   "outputs": [],
   "source": []
  },
  {
   "cell_type": "code",
   "execution_count": 65,
   "id": "49f1dbf8-997d-42c3-9010-9f632cf9ad0b",
   "metadata": {},
   "outputs": [
    {
     "name": "stdin",
     "output_type": "stream",
     "text": [
      "enter the number 12\n",
      "enter the number 0\n"
     ]
    },
    {
     "name": "stdout",
     "output_type": "stream",
     "text": [
      "Main error this operation cant be performed due to above error\n"
     ]
    }
   ],
   "source": [
    "\"\"\"Q7: Write a function that calls another function which raises an exception. In the outer function,\n",
    "catch that exception and raise a new exception with additional information, preserving the\n",
    "original exception.\"\"\"\n",
    "\n",
    "\n",
    "def error(a,b):\n",
    "    if b==0:\n",
    "        raise ZeroDivisionError(\"denomenator cant be zero\")\n",
    "    print(a/b)\n",
    "\n",
    "def error1():\n",
    "    try: \n",
    "        a = int(input(\"enter the number\"))\n",
    "        b = int(input(\"enter the number\"))\n",
    "        error(a,b)\n",
    "    except ZeroDivisionError as e:\n",
    "        # print(\"denomenator cant be zero\")\n",
    "\n",
    "        raise ArithmeticError(\"this operation cant be performed due to above error\") from e\n",
    "\n",
    "try:\n",
    "    error1()\n",
    "    \n",
    "except Exception as e:\n",
    "    print(\"Main error: \", e)\n",
    "    \n",
    "    "
   ]
  },
  {
   "cell_type": "code",
   "execution_count": null,
   "id": "834d8e1d-ce1d-4226-a456-a0dee86b893f",
   "metadata": {},
   "outputs": [],
   "source": []
  },
  {
   "cell_type": "code",
   "execution_count": 90,
   "id": "ee161a22-d0b6-4245-b002-93e11f8d04af",
   "metadata": {},
   "outputs": [
    {
     "name": "stdout",
     "output_type": "stream",
     "text": [
      "error is: <class 'IndexError'>\n"
     ]
    }
   ],
   "source": [
    "\"\"\"Q8: Write a program that handles both IndexError and KeyError using a single except block. The\n",
    "program should simulate accessing an element in a list and a key in a dictionary and handle both\n",
    "exceptions gracefully.\"\"\"\n",
    "import sys\n",
    "\n",
    "try:\n",
    "    b = [1,2,3,4,5]\n",
    "    print(b[10])\n",
    "    a = {\"price\": 230,\"qty\":2, \"unit\": \"kg\"}\n",
    "    print(a[\"ram\"])\n",
    "    \n",
    " \n",
    "except(IndexError,KeyError):\n",
    "    print(\"error is:\" , sys.exc_info()[0])"
   ]
  },
  {
   "cell_type": "code",
   "execution_count": null,
   "id": "a935a645-cf78-42bc-9199-8692a4787497",
   "metadata": {},
   "outputs": [],
   "source": []
  },
  {
   "cell_type": "code",
   "execution_count": 3,
   "id": "77dba9b6-83ac-4d53-9082-c387f0fdc4df",
   "metadata": {},
   "outputs": [
    {
     "name": "stdout",
     "output_type": "stream",
     "text": [
      "File does not exist\n"
     ]
    }
   ],
   "source": [
    "\"\"\"Q9: Write a Python program that reads a file and processes each line as an integer. If the\n",
    "conversion fails due to non-numeric data, use a nested try-except to handle the exception for that\n",
    "line without terminating the program.\"\"\"\n",
    "\n",
    "\n",
    "try:\n",
    "    with open(\"name.txt\") as f:\n",
    "        for line in f:\n",
    "            try:\n",
    "                num = int(line)\n",
    "                print(\"Number:\", num)\n",
    "            except ValueError:\n",
    "                print(f\"this is the string hence cant be converted: {line}\")\n",
    "except FileNotFoundError:\n",
    "    print(\"File does not exist\")\n"
   ]
  },
  {
   "cell_type": "code",
   "execution_count": null,
   "id": "4389575a-5a15-41e2-a4e6-1f6b762bf06f",
   "metadata": {},
   "outputs": [],
   "source": []
  },
  {
   "cell_type": "code",
   "execution_count": 99,
   "id": "826c7d5f-fd87-455f-a9f8-ddd77d4e6280",
   "metadata": {},
   "outputs": [
    {
     "name": "stdout",
     "output_type": "stream",
     "text": [
      "you cant write in read mode\n"
     ]
    }
   ],
   "source": [
    "\"\"\"Q10: Try to open and write to a file that is not writable:\"\"\"\n",
    "\n",
    "try:\n",
    "    with open(\"test.ipynb\", \"r\") as f:\n",
    "        f.write(\"my name is boy\")\n",
    "        \n",
    "except:\n",
    "    print(\"you cant write in read mode\") "
   ]
  },
  {
   "cell_type": "code",
   "execution_count": null,
   "id": "5041a471-0c46-4931-8ce8-4a46a7a065ba",
   "metadata": {},
   "outputs": [],
   "source": []
  },
  {
   "cell_type": "code",
   "execution_count": 101,
   "id": "618bbc5a-c096-4b43-8d49-59075bea0c3c",
   "metadata": {},
   "outputs": [
    {
     "name": "stdin",
     "output_type": "stream",
     "text": [
      "enter the number heigher than 0 -2\n"
     ]
    },
    {
     "name": "stdout",
     "output_type": "stream",
     "text": [
      "number cant be negative\n"
     ]
    }
   ],
   "source": [
    "\"\"\"Q11: Write a python program to raise an error and stop the program if x is lower than 0.\"\"\"\n",
    "\n",
    "try:\n",
    "    \n",
    "    x = int(input(\"enter the number heigher than 0\"))\n",
    "    if x<0:\n",
    "        raise ValueError(\"number cant be negative\") \n",
    "except ValueError:\n",
    "    print(\"number cant be negative\")"
   ]
  },
  {
   "cell_type": "code",
   "execution_count": null,
   "id": "229b2799-3614-472f-b293-8c58493e20b1",
   "metadata": {},
   "outputs": [],
   "source": []
  },
  {
   "cell_type": "code",
   "execution_count": 127,
   "id": "de3d9cc2-ff2f-4911-ad29-07e62fdb9597",
   "metadata": {},
   "outputs": [
    {
     "name": "stdin",
     "output_type": "stream",
     "text": [
      "enter the integer number only 2\n"
     ]
    },
    {
     "name": "stdout",
     "output_type": "stream",
     "text": [
      "2\n"
     ]
    }
   ],
   "source": [
    "\"\"\"Q12: Write a python program to raise a TypeError if x is not an integer:\"\"\"\n",
    "\n",
    "try:\n",
    "    x = input(\"enter the integer number only\")\n",
    "    if not x.isdigit():\n",
    "        raise TypeError(\"entered input is not an integer\")\n",
    "    x = int(x)\n",
    "    print(x)\n",
    "except TypeError as ex:\n",
    "    print(\"entered input is not an integer\",ex)"
   ]
  },
  {
   "cell_type": "code",
   "execution_count": null,
   "id": "c906777f-f3eb-420f-adcb-52b96475f17f",
   "metadata": {},
   "outputs": [],
   "source": [
    "f\n"
   ]
  }
 ],
 "metadata": {
  "kernelspec": {
   "display_name": "Python 3 (ipykernel)",
   "language": "python",
   "name": "python3"
  },
  "language_info": {
   "codemirror_mode": {
    "name": "ipython",
    "version": 3
   },
   "file_extension": ".py",
   "mimetype": "text/x-python",
   "name": "python",
   "nbconvert_exporter": "python",
   "pygments_lexer": "ipython3",
   "version": "3.11.5"
  }
 },
 "nbformat": 4,
 "nbformat_minor": 5
}
