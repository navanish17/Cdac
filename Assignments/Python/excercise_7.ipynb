{
 "cells": [
  {
   "cell_type": "code",
   "execution_count": 22,
   "id": "e0b88d12-bdf2-4622-91f4-b18b1c4fea38",
   "metadata": {},
   "outputs": [
    {
     "name": "stdin",
     "output_type": "stream",
     "text": [
      "enter the customer name Prashant\n",
      "enter the account number 1234567766\n",
      "account type 1. Saving 2. Current 1\n",
      "enter the amount 5000\n"
     ]
    },
    {
     "name": "stdout",
     "output_type": "stream",
     "text": [
      "1. Deposit 2. Withdrawl 3. Balance 4. Exit\n"
     ]
    },
    {
     "name": "stdin",
     "output_type": "stream",
     "text": [
      "enter your choice 1\n",
      "enter the amount 5000\n"
     ]
    },
    {
     "name": "stdout",
     "output_type": "stream",
     "text": [
      "your bank balance is 10000\n"
     ]
    },
    {
     "name": "stdin",
     "output_type": "stream",
     "text": [
      "enter your choice 4\n"
     ]
    },
    {
     "name": "stdout",
     "output_type": "stream",
     "text": [
      "your transaction ends\n"
     ]
    }
   ],
   "source": [
    "\"\"\"Qn.1 Define a class to represent a bank account. Include the following members: \n",
    "Data Members:\n",
    "a.Name of the Depositor\n",
    "b.Account Number\n",
    "c.Type of Account\n",
    "d.Balance amount in the account\n",
    "Data Methods:\n",
    "a.To assign initial values\n",
    "b.To deposit an amount\n",
    "c.To withdraw an amount\n",
    "d.To display name and balance.\n",
    "\n",
    "Output:\n",
    "New customer\n",
    "Deposit\n",
    "Withdrawal\n",
    "Display\n",
    "Exit\n",
    "\"\"\"\n",
    "\n",
    "class bank:\n",
    "    def __init__(self):\n",
    "        self.name = input(\"enter the customer name\")\n",
    "    def customer(self):\n",
    "        self.account = int(input(\"enter the account number\"))\n",
    "        self.type = int(input(\"account type 1. Saving 2. Current\"))\n",
    "        self.balance =int(input(\"enter the amount\"))\n",
    "                           \n",
    "        \n",
    "    def transaction(self):\n",
    "        print(\"1. Deposit 2. Withdrawl 3. Balance 4. Exit\")\n",
    "        while True:\n",
    "            choice = int(input(\"enter your choice\"))\n",
    "            if choice == 1:\n",
    "                amount = int(input(\"enter the amount\"))\n",
    "                self.balance = self.balance+amount\n",
    "                print(f\"your bank balance is {self.balance}\")\n",
    "            elif choice ==2:\n",
    "                amount = int(input(\"enter the amount\"))\n",
    "                self.balance = self.balance-amount\n",
    "                print(f\"your bank balance is {self.balance}\")\n",
    "            elif choice ==3:\n",
    "                print(f\"your balance is {self.balance}\")\n",
    "            elif choice ==4:\n",
    "                print(\"your transaction ends\")\n",
    "                break\n",
    "data = bank()\n",
    "data.customer()\n",
    "data.transaction()\n",
    "# bank.transaction()\n",
    "        \n",
    "    "
   ]
  },
  {
   "cell_type": "code",
   "execution_count": null,
   "id": "84de9b25-cb0b-4b91-a992-50e31e4fcdb2",
   "metadata": {},
   "outputs": [],
   "source": []
  },
  {
   "cell_type": "code",
   "execution_count": 1,
   "id": "a89cc461-2971-4646-a736-8c00446dcf1c",
   "metadata": {},
   "outputs": [
    {
     "name": "stdout",
     "output_type": "stream",
     "text": [
      "1.Teacher\n",
      "2.Officer\n",
      "3.Regular typist\n",
      "4.Casaul typist\n",
      "5.Exit\n",
      "\n"
     ]
    },
    {
     "name": "stdin",
     "output_type": "stream",
     "text": [
      "Enter your choice :  3\n",
      "Enter your code :  103\n",
      "Enter your name :  Kamalesh\n",
      "Enter speed :  60\n",
      "Enter salary :  500000\n"
     ]
    },
    {
     "name": "stdout",
     "output_type": "stream",
     "text": [
      "1.Teacher\n",
      "2.Officer\n",
      "3.Regular typist\n",
      "4.Casaul typist\n",
      "5.Exit\n",
      "\n"
     ]
    },
    {
     "name": "stdin",
     "output_type": "stream",
     "text": [
      "Enter your choice :  5\n"
     ]
    }
   ],
   "source": [
    "\"\"\"2. Write program to create a base class staff with code and name. Derive classes teacher(subject , publication) , typist (speed) , officer (grade) . Using the typist class as base class,create two classes regular(salary) and  casual(daily wages).Implement a menu driven program for the same.\n",
    "\n",
    "Output:\n",
    "Teacher\n",
    "Officer,\n",
    "Regular Typist\n",
    "Casaul typist\n",
    "Exit\n",
    "\"\"\"\n",
    "\n",
    "class Staff:\n",
    "    def get_s(self):\n",
    "        self.code = int(input(\"Enter your code : \"))\n",
    "        self.name = input(\"Enter your name : \")\n",
    "class Teacher(Staff):\n",
    "    def get_T(self):\n",
    "        self.subject = input(\"Enter subject : \")\n",
    "        self.publication = input(\"Enter publication : \")\n",
    "class Typist(Staff):\n",
    "    def get_ty(self):\n",
    "        self.speed = int(input(\"Enter speed : \"))\n",
    "class Officer(Staff):\n",
    "    def get_o(self):\n",
    "        self.grade = input(\"Enter your grade : \")\n",
    "\n",
    "class Regular(Typist):\n",
    "    def get_r(self):\n",
    "        self.salary = int(input(\"Enter salary : \"))\n",
    "class Casaul(Typist):\n",
    "    def get_c(self):\n",
    "        self.daily_wages = int(input(\"Enter daily wages : \"))\n",
    "\n",
    "t=Teacher()\n",
    "o=Officer()\n",
    "r=Regular()\n",
    "c=Casaul()\n",
    "\n",
    "while True:\n",
    "    print(\"1.Teacher\\n2.Officer\\n3.Regular typist\\n4.Casaul typist\\n5.Exit\\n\")\n",
    "    ch=int(input(\"Enter your choice : \"))\n",
    "    if(ch==1):\n",
    "        t.get_s()\n",
    "        t.get_T()\n",
    "    elif(ch==2):\n",
    "        o.get_s()\n",
    "        o.get_o()\n",
    "    elif(ch==3):\n",
    "        r.get_s()\n",
    "        r.get_ty()\n",
    "        r.get_r()\n",
    "    elif(ch==4):\n",
    "        c.get_s()\n",
    "        c.get_ty()\n",
    "        c.get_c()\n",
    "    elif(ch==5):\n",
    "        break"
   ]
  },
  {
   "cell_type": "code",
   "execution_count": null,
   "id": "ce65398c-4269-4207-b8d6-28528dc20809",
   "metadata": {},
   "outputs": [],
   "source": []
  },
  {
   "cell_type": "code",
   "execution_count": null,
   "id": "08a359c7-93f3-422f-888c-55dc4bfc129a",
   "metadata": {},
   "outputs": [],
   "source": [
    "\"\"\"2. Write program to create a base class staff with code and name. Derive classes teacher(subject , publication) , typist (speed) , officer (grade) . Using the typist class as base class,create two classes regular(salary) and  casual(daily wages).Implement a menu driven program for the same.\n",
    "\n",
    "Output:\n",
    "Teacher\n",
    "Officer,\n",
    "Regular Typist\n",
    "Casaul typist\n",
    "Exit\n",
    "\"\"\"\n",
    "\n",
    "class staff:\n",
    "    def __init__(self):\n",
    "        self.name = input(\"enter your profession\")\n",
    "        self.code = int(input(\"enter your job code\"))\n",
    "class teacher:\n",
    "    def staf1(self):\n",
    "        self.subject = input(\"Enter your subject\")\n",
    "        self.publication = input(\"enter your publication\")\n",
    "\n",
    "class typist(staff):\n",
    "    def staf2(self):\n",
    "        self.speed = int(input(\"enter your typing speed\"))\n",
    "    \n",
    "class officer:\n",
    "    def staf3(self):\n",
    "        self.grade = input(\"enter your grade\")\n",
    "        \n",
    "class regular(typist):\n",
    "    def staf2_1(self):\n",
    "        typist.__init__(self)\n",
    "        if self.speed > 40:\n",
    "            print(\"Your salary is 50000\")\n",
    "        else:\n",
    "            exit()\n",
    "    \n",
    "class casual(typist):\n",
    "    def staf2_2(self,speed,wages):\n",
    "        typist.__init__(self,speed)\n",
    "        if self.speed <40:\n",
    "            print(\"Your daily wage is 1000\")\n",
    "        else:\n",
    "            exit()\n",
    "\n",
    "emp = regular()\n",
    "emp.staf2()\n",
    "emp.staf2_1()  "
   ]
  }
 ],
 "metadata": {
  "kernelspec": {
   "display_name": "Python 3 (ipykernel)",
   "language": "python",
   "name": "python3"
  },
  "language_info": {
   "codemirror_mode": {
    "name": "ipython",
    "version": 3
   },
   "file_extension": ".py",
   "mimetype": "text/x-python",
   "name": "python",
   "nbconvert_exporter": "python",
   "pygments_lexer": "ipython3",
   "version": "3.11.5"
  }
 },
 "nbformat": 4,
 "nbformat_minor": 5
}
