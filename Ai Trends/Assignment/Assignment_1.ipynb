{
  "nbformat": 4,
  "nbformat_minor": 0,
  "metadata": {
    "colab": {
      "provenance": []
    },
    "kernelspec": {
      "name": "python3",
      "display_name": "Python 3"
    },
    "language_info": {
      "name": "python"
    }
  },
  "cells": [
    {
      "cell_type": "code",
      "execution_count": 1,
      "metadata": {
        "id": "eWB9d0-uWUwf"
      },
      "outputs": [],
      "source": [
        "from pyspark.sql import SparkSession\n",
        "from pyspark import SparkContext, SparkConf"
      ]
    },
    {
      "cell_type": "code",
      "source": [
        "#create the session\n",
        "conf = SparkConf().set(\"spark.ui.port\", \"4050\")"
      ],
      "metadata": {
        "id": "FeQemLO9Wl8v"
      },
      "execution_count": 2,
      "outputs": []
    },
    {
      "cell_type": "code",
      "source": [
        "import pyspark\n",
        "sc = pyspark.SparkContext(conf=conf)\n",
        "spark = SparkSession.builder.getOrCreate()"
      ],
      "metadata": {
        "id": "iMDf4_rOXPGO"
      },
      "execution_count": 5,
      "outputs": []
    },
    {
      "cell_type": "code",
      "source": [
        "from google.colab import files\n",
        "files.upload()"
      ],
      "metadata": {
        "colab": {
          "base_uri": "https://localhost:8080/",
          "height": 1000
        },
        "id": "U0MLhDk5Wran",
        "outputId": "1abc0a11-371d-40bd-95ef-6b06df0a01ab"
      },
      "execution_count": 3,
      "outputs": [
        {
          "output_type": "display_data",
          "data": {
            "text/plain": [
              "<IPython.core.display.HTML object>"
            ],
            "text/html": [
              "\n",
              "     <input type=\"file\" id=\"files-c7cac0cc-299e-4de6-9c4b-6cd4159d2e5d\" name=\"files[]\" multiple disabled\n",
              "        style=\"border:none\" />\n",
              "     <output id=\"result-c7cac0cc-299e-4de6-9c4b-6cd4159d2e5d\">\n",
              "      Upload widget is only available when the cell has been executed in the\n",
              "      current browser session. Please rerun this cell to enable.\n",
              "      </output>\n",
              "      <script>// Copyright 2017 Google LLC\n",
              "//\n",
              "// Licensed under the Apache License, Version 2.0 (the \"License\");\n",
              "// you may not use this file except in compliance with the License.\n",
              "// You may obtain a copy of the License at\n",
              "//\n",
              "//      http://www.apache.org/licenses/LICENSE-2.0\n",
              "//\n",
              "// Unless required by applicable law or agreed to in writing, software\n",
              "// distributed under the License is distributed on an \"AS IS\" BASIS,\n",
              "// WITHOUT WARRANTIES OR CONDITIONS OF ANY KIND, either express or implied.\n",
              "// See the License for the specific language governing permissions and\n",
              "// limitations under the License.\n",
              "\n",
              "/**\n",
              " * @fileoverview Helpers for google.colab Python module.\n",
              " */\n",
              "(function(scope) {\n",
              "function span(text, styleAttributes = {}) {\n",
              "  const element = document.createElement('span');\n",
              "  element.textContent = text;\n",
              "  for (const key of Object.keys(styleAttributes)) {\n",
              "    element.style[key] = styleAttributes[key];\n",
              "  }\n",
              "  return element;\n",
              "}\n",
              "\n",
              "// Max number of bytes which will be uploaded at a time.\n",
              "const MAX_PAYLOAD_SIZE = 100 * 1024;\n",
              "\n",
              "function _uploadFiles(inputId, outputId) {\n",
              "  const steps = uploadFilesStep(inputId, outputId);\n",
              "  const outputElement = document.getElementById(outputId);\n",
              "  // Cache steps on the outputElement to make it available for the next call\n",
              "  // to uploadFilesContinue from Python.\n",
              "  outputElement.steps = steps;\n",
              "\n",
              "  return _uploadFilesContinue(outputId);\n",
              "}\n",
              "\n",
              "// This is roughly an async generator (not supported in the browser yet),\n",
              "// where there are multiple asynchronous steps and the Python side is going\n",
              "// to poll for completion of each step.\n",
              "// This uses a Promise to block the python side on completion of each step,\n",
              "// then passes the result of the previous step as the input to the next step.\n",
              "function _uploadFilesContinue(outputId) {\n",
              "  const outputElement = document.getElementById(outputId);\n",
              "  const steps = outputElement.steps;\n",
              "\n",
              "  const next = steps.next(outputElement.lastPromiseValue);\n",
              "  return Promise.resolve(next.value.promise).then((value) => {\n",
              "    // Cache the last promise value to make it available to the next\n",
              "    // step of the generator.\n",
              "    outputElement.lastPromiseValue = value;\n",
              "    return next.value.response;\n",
              "  });\n",
              "}\n",
              "\n",
              "/**\n",
              " * Generator function which is called between each async step of the upload\n",
              " * process.\n",
              " * @param {string} inputId Element ID of the input file picker element.\n",
              " * @param {string} outputId Element ID of the output display.\n",
              " * @return {!Iterable<!Object>} Iterable of next steps.\n",
              " */\n",
              "function* uploadFilesStep(inputId, outputId) {\n",
              "  const inputElement = document.getElementById(inputId);\n",
              "  inputElement.disabled = false;\n",
              "\n",
              "  const outputElement = document.getElementById(outputId);\n",
              "  outputElement.innerHTML = '';\n",
              "\n",
              "  const pickedPromise = new Promise((resolve) => {\n",
              "    inputElement.addEventListener('change', (e) => {\n",
              "      resolve(e.target.files);\n",
              "    });\n",
              "  });\n",
              "\n",
              "  const cancel = document.createElement('button');\n",
              "  inputElement.parentElement.appendChild(cancel);\n",
              "  cancel.textContent = 'Cancel upload';\n",
              "  const cancelPromise = new Promise((resolve) => {\n",
              "    cancel.onclick = () => {\n",
              "      resolve(null);\n",
              "    };\n",
              "  });\n",
              "\n",
              "  // Wait for the user to pick the files.\n",
              "  const files = yield {\n",
              "    promise: Promise.race([pickedPromise, cancelPromise]),\n",
              "    response: {\n",
              "      action: 'starting',\n",
              "    }\n",
              "  };\n",
              "\n",
              "  cancel.remove();\n",
              "\n",
              "  // Disable the input element since further picks are not allowed.\n",
              "  inputElement.disabled = true;\n",
              "\n",
              "  if (!files) {\n",
              "    return {\n",
              "      response: {\n",
              "        action: 'complete',\n",
              "      }\n",
              "    };\n",
              "  }\n",
              "\n",
              "  for (const file of files) {\n",
              "    const li = document.createElement('li');\n",
              "    li.append(span(file.name, {fontWeight: 'bold'}));\n",
              "    li.append(span(\n",
              "        `(${file.type || 'n/a'}) - ${file.size} bytes, ` +\n",
              "        `last modified: ${\n",
              "            file.lastModifiedDate ? file.lastModifiedDate.toLocaleDateString() :\n",
              "                                    'n/a'} - `));\n",
              "    const percent = span('0% done');\n",
              "    li.appendChild(percent);\n",
              "\n",
              "    outputElement.appendChild(li);\n",
              "\n",
              "    const fileDataPromise = new Promise((resolve) => {\n",
              "      const reader = new FileReader();\n",
              "      reader.onload = (e) => {\n",
              "        resolve(e.target.result);\n",
              "      };\n",
              "      reader.readAsArrayBuffer(file);\n",
              "    });\n",
              "    // Wait for the data to be ready.\n",
              "    let fileData = yield {\n",
              "      promise: fileDataPromise,\n",
              "      response: {\n",
              "        action: 'continue',\n",
              "      }\n",
              "    };\n",
              "\n",
              "    // Use a chunked sending to avoid message size limits. See b/62115660.\n",
              "    let position = 0;\n",
              "    do {\n",
              "      const length = Math.min(fileData.byteLength - position, MAX_PAYLOAD_SIZE);\n",
              "      const chunk = new Uint8Array(fileData, position, length);\n",
              "      position += length;\n",
              "\n",
              "      const base64 = btoa(String.fromCharCode.apply(null, chunk));\n",
              "      yield {\n",
              "        response: {\n",
              "          action: 'append',\n",
              "          file: file.name,\n",
              "          data: base64,\n",
              "        },\n",
              "      };\n",
              "\n",
              "      let percentDone = fileData.byteLength === 0 ?\n",
              "          100 :\n",
              "          Math.round((position / fileData.byteLength) * 100);\n",
              "      percent.textContent = `${percentDone}% done`;\n",
              "\n",
              "    } while (position < fileData.byteLength);\n",
              "  }\n",
              "\n",
              "  // All done.\n",
              "  yield {\n",
              "    response: {\n",
              "      action: 'complete',\n",
              "    }\n",
              "  };\n",
              "}\n",
              "\n",
              "scope.google = scope.google || {};\n",
              "scope.google.colab = scope.google.colab || {};\n",
              "scope.google.colab._files = {\n",
              "  _uploadFiles,\n",
              "  _uploadFilesContinue,\n",
              "};\n",
              "})(self);\n",
              "</script> "
            ]
          },
          "metadata": {}
        },
        {
          "output_type": "stream",
          "name": "stdout",
          "text": [
            "Saving heroes_information - heroes_information.csv to heroes_information - heroes_information.csv\n"
          ]
        },
        {
          "output_type": "execute_result",
          "data": {
            "text/plain": [
              "{'heroes_information - heroes_information.csv': b\"Id,Name,Gender,Eyecolor,Race,Haircolor,Height,Publisher,Skincolor,Alignment,Weight\\r\\n0,A-Bomb,Male,yellow,Human,No Hair,203,Marvel Comics,-,good,441\\r\\n1,Abe Sapien,Male,blue,Icthyo Sapien,No Hair,191,Dark Horse Comics,blue,good,65\\r\\n2,Abin Sur,Male,blue,Ungaran,No Hair,185,DC Comics,red,good,90\\r\\n3,Abomination,Male,green,Human / Radiation,No Hair,203,Marvel Comics,-,bad,441\\r\\n4,Abraxas,Male,blue,Cosmic Entity,Black,-99,Marvel Comics,-,bad,-99\\r\\n5,Absorbing Man,Male,blue,Human,No Hair,193,Marvel Comics,-,bad,122\\r\\n6,Adam Monroe,Male,blue,-,Blond,-99,NBC - Heroes,-,good,-99\\r\\n7,Adam Strange,Male,blue,Human,Blond,185,DC Comics,-,good,88\\r\\n8,Agent 13,Female,blue,-,Blond,173,Marvel Comics,-,good,61\\r\\n9,Agent Bob,Male,brown,Human,Brown,178,Marvel Comics,-,good,81\\r\\n10,Agent Zero,Male,-,-,-,191,Marvel Comics,-,good,104\\r\\n11,Air-Walker,Male,blue,-,White,188,Marvel Comics,-,bad,108\\r\\n12,Ajax,Male,brown,Cyborg,Black,193,Marvel Comics,-,bad,90\\r\\n13,Alan Scott,Male,blue,-,Blond,180,DC Comics,-,good,90\\r\\n14,Alex Mercer,Male,-,Human,-,-99,Wildstorm,-,bad,-99\\r\\n15,Alex Woolsly,Male,-,-,-,-99,NBC - Heroes,-,good,-99\\r\\n16,Alfred Pennyworth,Male,blue,Human,Black,178,DC Comics,-,good,72\\r\\n17,Alien,Male,-,Xenomorph XX121,No Hair,244,Dark Horse Comics,black,bad,169\\r\\n18,Allan Quatermain,Male,-,-,-,-99,Wildstorm,-,good,-99\\r\\n19,Amazo,Male,red,Android,-,257,DC Comics,-,bad,173\\r\\n20,Ammo,Male,brown,Human,Black,188,Marvel Comics,-,bad,101\\r\\n21,Ando Masahashi,Male,-,-,-,-99,NBC - Heroes,-,good,-99\\r\\n22,Angel,Male,blue,-,Blond,183,Marvel Comics,-,good,68\\r\\n23,Angel,Male,-,Vampire,-,-99,Dark Horse Comics,-,good,-99\\r\\n24,Angel Dust,Female,yellow,Mutant,Black,165,Marvel Comics,-,good,57\\r\\n25,Angel Salvadore,Female,brown,-,Black,163,Marvel Comics,-,good,54\\r\\n26,Angela,Female,-,-,-,-99,Image Comics,-,bad,-99\\r\\n27,Animal Man,Male,blue,Human,Blond,183,DC Comics,-,good,83\\r\\n28,Annihilus,Male,green,-,No Hair,180,Marvel Comics,-,bad,90\\r\\n29,Ant-Man,Male,blue,Human,Blond,211,Marvel Comics,-,good,122\\r\\n30,Ant-Man II,Male,blue,Human,Blond,183,Marvel Comics,-,good,86\\r\\n31,Anti-Monitor,Male,yellow,God / Eternal,No Hair,61,DC Comics,-,bad,-99\\r\\n32,Anti-Spawn,Male,-,-,-,-99,Image Comics,-,bad,-99\\r\\n33,Anti-Venom,Male,blue,Symbiote,Blond,229,Marvel Comics,-,-,358\\r\\n34,Apocalypse,Male,red,Mutant,Black,213,Marvel Comics,grey,bad,135\\r\\n35,Aquababy,Male,blue,-,Blond,-99,DC Comics,-,good,-99\\r\\n36,Aqualad,Male,blue,Atlantean,Black,178,DC Comics,-,good,106\\r\\n37,Aquaman,Male,blue,Atlantean,Blond,185,DC Comics,-,good,146\\r\\n38,Arachne,Female,blue,Human,Blond,175,Marvel Comics,-,good,63\\r\\n39,Archangel,Male,blue,Mutant,Blond,183,Marvel Comics,blue,good,68\\r\\n40,Arclight,Female,violet,-,Purple,173,Marvel Comics,-,bad,57\\r\\n41,Ardina,Female,white,Alien,Orange,193,Marvel Comics,gold,good,98\\r\\n42,Ares,Male,brown,-,Brown,185,Marvel Comics,-,good,270\\r\\n43,Ariel,Female,purple,-,Pink,165,Marvel Comics,-,good,59\\r\\n44,Armor,Female,black,-,Black,163,Marvel Comics,-,good,50\\r\\n45,Arsenal,Male,-,Human,-,-99,DC Comics,-,good,-99\\r\\n46,Astro Boy,Male,brown,-,Black,-99,,-,good,-99\\r\\n47,Atlas,Male,brown,Mutant,Red,183,Marvel Comics,-,good,101\\r\\n48,Atlas,Male,blue,God / Eternal,Brown,198,DC Comics,-,bad,126\\r\\n49,Atom,Male,blue,-,Red,178,DC Comics,-,good,68\\r\\n50,Atom,Male,-,-,-,-99,DC Comics,-,good,-99\\r\\n51,Atom Girl,Female,black,-,Black,168,DC Comics,-,good,54\\r\\n52,Atom II,Male,brown,Human,Auburn,183,DC Comics,-,good,81\\r\\n53,Atom III,Male,-,-,Red,-99,DC Comics,-,good,-99\\r\\n54,Atom IV,Male,brown,-,Black,-99,DC Comics,-,good,72\\r\\n55,Aurora,Female,blue,Mutant,Black,180,Marvel Comics,-,good,63\\r\\n56,Azazel,Male,yellow,Neyaphem,Black,183,Marvel Comics,red,bad,67\\r\\n57,Azrael,Male,brown,Human,Black,-99,DC Comics,-,good,-99\\r\\n58,Aztar,Male,-,-,-,-99,DC Comics,-,good,-99\\r\\n59,Bane,Male,-,Human,-,203,DC Comics,-,bad,180\\r\\n60,Banshee,Male,green,Human,Strawberry Blond,183,Marvel Comics,-,good,77\\r\\n61,Bantam,Male,brown,-,Black,165,Marvel Comics,-,good,54\\r\\n62,Batgirl,Female,-,-,-,-99,DC Comics,-,good,-99\\r\\n63,Batgirl,Female,green,Human,Red,170,DC Comics,-,good,57\\r\\n64,Batgirl III,Female,-,-,-,-99,DC Comics,-,good,-99\\r\\n65,Batgirl IV,Female,green,Human,Black,165,DC Comics,-,good,52\\r\\n66,Batgirl V,Female,-,-,-,-99,DC Comics,-,good,-99\\r\\n67,Batgirl VI,Female,blue,-,Blond,168,DC Comics,-,good,61\\r\\n68,Batman,Male,blue,Human,black,188,DC Comics,-,good,95\\r\\n69,Batman,Male,blue,Human,Black,178,DC Comics,-,good,77\\r\\n70,Batman II,Male,blue,Human,Black,178,DC Comics,-,good,79\\r\\n71,Battlestar,Male,brown,-,Black,198,Marvel Comics,-,good,133\\r\\n72,Batwoman V,Female,green,Human,Red,178,DC Comics,-,good,-99\\r\\n73,Beak,Male,black,-,White,175,Marvel Comics,-,good,63\\r\\n74,Beast,Male,blue,Mutant,Blue,180,Marvel Comics,blue,good,181\\r\\n75,Beast Boy,Male,green,Human,Green,173,DC Comics,green,good,68\\r\\n76,Beetle,Male,-,-,-,-99,Marvel Comics,-,bad,-99\\r\\n77,Ben 10,Male,-,-,-,-99,DC Comics,-,good,-99\\r\\n78,Beta Ray Bill,Male,-,-,No Hair,201,Marvel Comics,-,good,216\\r\\n79,Beyonder,Male,-,God / Eternal,-,-99,Marvel Comics,-,good,-99\\r\\n80,Big Barda,Female,blue,New God,Black,188,DC Comics,-,bad,135\\r\\n81,Big Daddy,Male,-,-,-,-99,Icon Comics,-,good,-99\\r\\n82,Big Man,Male,blue,-,Brown,165,Marvel Comics,-,bad,71\\r\\n83,Bill Harken,Male,-,Alpha,-,-99,SyFy,-,good,-99\\r\\n84,Billy Kincaid,Male,-,-,-,-99,Image Comics,-,bad,-99\\r\\n85,Binary,Female,blue,-,Blond,180,Marvel Comics,-,good,54\\r\\n86,Bionic Woman,Female,blue,Cyborg,Black,-99,,-,good,-99\\r\\n87,Bird-Brain,-,-,-,-,-99,Marvel Comics,-,good,-99\\r\\n88,Bird-Man,Male,-,Human,-,-99,Marvel Comics,-,bad,-99\\r\\n89,Bird-Man II,Male,-,Human,-,-99,Marvel Comics,-,bad,-99\\r\\n90,Birdman,Male,-,God / Eternal,-,-99,Hanna-Barbera,-,good,-99\\r\\n91,Bishop,Male,brown,Mutant,No Hair,198,Marvel Comics,-,good,124\\r\\n92,Bizarro,Male,black,Bizarro,Black,191,DC Comics,white,neutral,155\\r\\n93,Black Abbott,Male,red,-,Black,-99,Marvel Comics,-,bad,-99\\r\\n94,Black Adam,Male,brown,-,Black,191,DC Comics,-,bad,113\\r\\n95,Black Bolt,Male,blue,Inhuman,Black,188,Marvel Comics,-,good,95\\r\\n96,Black Canary,Female,blue,Human,Blond,165,DC Comics,-,good,58\\r\\n97,Black Canary,Female,blue,Metahuman,Blond,170,DC Comics,-,good,59\\r\\n98,Black Cat,Female,green,Human,Blond,178,Marvel Comics,-,good,54\\r\\n99,Black Flash,Male,-,God / Eternal,-,-99,DC Comics,-,neutral,-99\\r\\n100,Black Goliath,Male,-,-,-,-99,Marvel Comics,-,good,-99\\r\\n101,Black Knight III,Male,brown,Human,Brown,183,Marvel Comics,-,good,86\\r\\n102,Black Lightning,Male,brown,-,No Hair,185,DC Comics,-,good,90\\r\\n103,Black Mamba,Female,green,-,Black,170,Marvel Comics,-,bad,52\\r\\n104,Black Manta,Male,black,Human,No Hair,188,DC Comics,-,bad,92\\r\\n105,Black Panther,Male,brown,Human,Black,183,Marvel Comics,-,good,90\\r\\n106,Black Widow,Female,green,Human,Auburn,170,Marvel Comics,-,good,59\\r\\n107,Black Widow II,Female,blue,-,Blond,170,Marvel Comics,-,good,61\\r\\n108,Blackout,Male,red,Demon,White,191,Marvel Comics,white,bad,104\\r\\n109,Blackwing,Male,blue,-,Black,185,Marvel Comics,-,bad,86\\r\\n110,Blackwulf,Male,red,Alien,White,188,Marvel Comics,-,-,88\\r\\n111,Blade,Male,brown,Vampire,Black,188,Marvel Comics,-,good,97\\r\\n112,Blaquesmith,-,black,-,No Hair,-99,Marvel Comics,-,good,-99\\r\\n113,Bling!,Female,-,-,-,168,Marvel Comics,-,good,68\\r\\n114,Blink,Female,green,Mutant,Magenta,165,Marvel Comics,pink,good,56\\r\\n115,Blizzard,Male,-,-,-,-99,Marvel Comics,-,bad,-99\\r\\n116,Blizzard,Male,-,-,Brown,-99,Marvel Comics,-,bad,-99\\r\\n117,Blizzard II,Male,brown,-,Brown,175,Marvel Comics,-,bad,77\\r\\n118,Blob,Male,brown,-,Brown,178,Marvel Comics,-,bad,230\\r\\n119,Bloodaxe,Female,blue,Human,Brown,218,Marvel Comics,-,bad,495\\r\\n120,Bloodhawk,Male,black,Mutant,No Hair,-99,Marvel Comics,-,good,-99\\r\\n121,Bloodwraith,Male,white,-,No Hair,30.5,Marvel Comics,-,bad,-99\\r\\n122,Blue Beetle,Male,blue,-,Brown,-99,DC Comics,-,good,-99\\r\\n123,Blue Beetle,Male,-,-,-,-99,DC Comics,-,good,-99\\r\\n124,Blue Beetle II,Male,blue,-,Brown,183,DC Comics,-,good,86\\r\\n125,Blue Beetle III,Male,brown,Human,Black,-99,DC Comics,-,good,-99\\r\\n126,Boba Fett,Male,brown,Human / Clone,Black,183,George Lucas,-,bad,-99\\r\\n127,Bolt,Male,-,-,-,-99,Marvel Comics,-,good,-99\\r\\n128,Bomb Queen,Female,-,-,-,-99,Image Comics,-,bad,-99\\r\\n129,Boom-Boom,Female,blue,Mutant,Blond,165,Marvel Comics,-,good,55\\r\\n130,Boomer,Female,-,-,-,-99,Marvel Comics,-,good,-99\\r\\n131,Booster Gold,Male,blue,Human,Blond,196,DC Comics,-,good,97\\r\\n132,Box,Male,-,-,-,-99,Marvel Comics,-,good,-99\\r\\n133,Box III,-,blue,-,Blond,193,Marvel Comics,-,good,110\\r\\n134,Box IV,-,brown,-,Brown / Black,-99,Marvel Comics,-,good,-99\\r\\n135,Brainiac,Male,green,Android,No Hair,198,DC Comics,green,bad,135\\r\\n136,Brainiac 5,Male,green,-,Blond,170,DC Comics,-,good,61\\r\\n137,Brother Voodoo,Male,brown,Human,Brown / White,183,Marvel Comics,-,good,99\\r\\n138,Brundlefly,Male,-,Mutant,-,193,,-,-,-99\\r\\n139,Buffy,Female,green,Human,Blond,157,Dark Horse Comics,-,good,52\\r\\n140,Bullseye,Male,blue,Human,blond,183,Marvel Comics,-,bad,90\\r\\n141,Bumblebee,Female,brown,Human,Black,170,DC Comics,-,good,59\\r\\n142,Bumbleboy,Male,-,-,-,-99,Marvel Comics,-,good,-99\\r\\n143,Bushido,Male,-,Human,-,-99,DC Comics,-,good,-99\\r\\n144,Cable,Male,blue,Mutant,White,203,Marvel Comics,-,good,158\\r\\n145,Callisto,Female,blue,-,Black,175,Marvel Comics,-,bad,74\\r\\n146,Cameron Hicks,Male,-,Alpha,-,-99,SyFy,-,good,-99\\r\\n147,Cannonball,Male,blue,-,Blond,183,Marvel Comics,-,good,81\\r\\n148,Captain America,Male,blue,Human,blond,188,Marvel Comics,-,good,108\\r\\n149,Captain Atom,Male,blue,Human / Radiation,Silver,193,DC Comics,silver,good,90\\r\\n150,Captain Britain,Male,blue,Human,Blond,198,Marvel Comics,-,good,116\\r\\n151,Captain Cold,Male,brown,Human,Brown,-99,DC Comics,-,neutral,-99\\r\\n152,Captain Epic,Male,blue,-,Brown,188,Team Epic TV,-,good,-99\\r\\n153,Captain Hindsight,Male,-,Human,Black,-99,South Park,-,good,-99\\r\\n154,Captain Mar-vell,Male,blue,-,Blond,188,Marvel Comics,-,good,108\\r\\n155,Captain Marvel,Female,blue,Human-Kree,Blond,180,Marvel Comics,-,good,74\\r\\n156,Captain Marvel,Male,blue,Human,Black,193,DC Comics,-,good,101\\r\\n157,Captain Marvel II,Male,blue,Human,Black,175,DC Comics,-,good,74\\r\\n158,Captain Midnight,Male,-,Human,-,-99,Dark Horse Comics,-,good,-99\\r\\n159,Captain Planet,Male,red,God / Eternal,Green,-99,Marvel Comics,-,good,-99\\r\\n160,Captain Universe,-,-,God / Eternal,-,-99,Marvel Comics,-,good,-99\\r\\n161,Carnage,Male,green,Symbiote,Red,185,Marvel Comics,-,bad,86\\r\\n162,Cat,Female,blue,-,Blond,173,Marvel Comics,-,good,61\\r\\n163,Cat II,Female,-,-,-,-99,Marvel Comics,-,good,-99\\r\\n164,Catwoman,Female,green,Human,Black,175,DC Comics,-,good,61\\r\\n165,Cecilia Reyes,-,brown,-,Brown,170,Marvel Comics,-,good,62\\r\\n166,Century,Male,white,Alien,White,201,Marvel Comics,grey,good,97\\r\\n167,Cerebra,Female,-,Mutant,-,-99,Marvel Comics,-,good,-99\\r\\n168,Chamber,Male,brown,Mutant,Brown,175,Marvel Comics,-,good,63\\r\\n169,Chameleon,Male,-,-,-,-99,DC Comics,-,bad,-99\\r\\n170,Changeling,Male,brown,-,Black,180,Marvel Comics,-,bad,81\\r\\n171,Cheetah,Female,green,Human,Blond,163,DC Comics,-,bad,50\\r\\n172,Cheetah II,Female,green,Human,Brown,170,DC Comics,-,bad,55\\r\\n173,Cheetah III,Female,brown,Human,Brown,175,DC Comics,-,bad,54\\r\\n174,Chromos,Male,brown,-,Red / Grey,185,Team Epic TV,-,bad,86\\r\\n175,Chuck Norris,Male,-,-,-,178,,-,good,-99\\r\\n176,Citizen Steel,Male,green,Human,Red,183,DC Comics,-,good,170\\r\\n177,Claire Bennet,Female,blue,-,Blond,-99,NBC - Heroes,-,good,-99\\r\\n178,Clea,-,-,-,White,-99,Marvel Comics,-,good,-99\\r\\n179,Cloak,Male,brown,-,black,226,Marvel Comics,-,good,70\\r\\n180,Clock King,Male,blue,Human,Black,178,DC Comics,-,bad,78\\r\\n181,Cogliostro,Male,-,-,-,-99,Image Comics,-,bad,-99\\r\\n182,Colin Wagner,Male,grey,-,Brown,-99,HarperCollins,-,good,-99\\r\\n183,Colossal Boy,Male,-,-,-,-99,DC Comics,-,good,-99\\r\\n184,Colossus,Male,silver,Mutant,Black,226,Marvel Comics,-,good,225\\r\\n185,Copycat,Female,red,Mutant,White,183,Marvel Comics,blue,neutral,67\\r\\n186,Corsair,Male,brown,-,Brown,191,Marvel Comics,-,good,79\\r\\n187,Cottonmouth,Male,brown,Human,Black,183,Marvel Comics,-,bad,99\\r\\n188,Crimson Crusader,Male,blue,-,Strawberry Blond,-99,Marvel Comics,-,good,-99\\r\\n189,Crimson Dynamo,Male,brown,-,No Hair,180,Marvel Comics,-,good,104\\r\\n190,Crystal,Female,green,Inhuman,Red,168,Marvel Comics,-,good,50\\r\\n191,Curse,Male,-,-,-,-99,Image Comics,-,bad,-99\\r\\n192,Cy-Gor,Male,-,-,-,-99,Image Comics,-,bad,-99\\r\\n193,Cyborg,Male,brown,Cyborg,Black,198,DC Comics,-,good,173\\r\\n194,Cyborg Superman,Male,blue,Cyborg,Black,-99,DC Comics,-,bad,-99\\r\\n195,Cyclops,Male,brown,Mutant,Brown,191,Marvel Comics,-,good,88\\r\\n196,Cypher,-,blue,-,Blond,175,Marvel Comics,-,good,68\\r\\n197,Dagger,Female,blue,-,Blond,165,Marvel Comics,-,good,52\\r\\n198,Danny Cooper,Male,brown,-,Blond,-99,HarperCollins,-,good,-99\\r\\n199,Daphne Powell,Female,-,-,-,-99,ABC Studios,-,good,-99\\r\\n200,Daredevil,Male,blue,Human,Red,183,Marvel Comics,-,good,90\\r\\n201,Darkhawk,Male,brown,Human,Brown,185,Marvel Comics,-,good,81\\r\\n202,Darkman,Male,-,-,-,-99,Universal Studios,-,good,-99\\r\\n203,Darkseid,Male,red,New God,No Hair,267,DC Comics,grey,bad,817\\r\\n204,Darkside,-,-,-,-,-99,,-,bad,-99\\r\\n205,Darkstar,Female,brown,Mutant,Blond,168,Marvel Comics,-,good,56\\r\\n206,Darth Maul,Male,yellow / red,Dathomirian Zabrak,-,170,George Lucas,red / black,bad,-99\\r\\n207,Darth Vader,Male,yellow,Cyborg,No Hair,198,George Lucas,-,bad,135\\r\\n208,Dash,Male,blue,Human,Blond,122,Dark Horse Comics,-,good,27\\r\\n209,Data,Male,yellow,Android,Brown,-99,Star Trek,-,good,-99\\r\\n210,Dazzler,Female,blue,Mutant,Blond,173,Marvel Comics,-,good,52\\r\\n211,Deadman,Male,blue,Human,Black,183,DC Comics,-,good,90\\r\\n212,Deadpool,Male,brown,Mutant,No Hair,188,Marvel Comics,-,neutral,95\\r\\n213,Deadshot,Male,brown,Human,Brown,185,DC Comics,-,bad,91\\r\\n214,Deathlok,Male,brown,Cyborg,Grey,193,Marvel Comics,-,good,178\\r\\n215,Deathstroke,Male,blue,Human,White,193,DC Comics,-,neutral,101\\r\\n216,Demogoblin,Male,red,Demon,No Hair,185,Marvel Comics,-,bad,95\\r\\n217,Destroyer,Male,-,-,-,188,Marvel Comics,-,bad,383\\r\\n218,Diamondback,Male,brown,Human,Black,193,Marvel Comics,-,bad,90\\r\\n219,DL Hawkins,Male,-,-,-,-99,NBC - Heroes,-,good,-99\\r\\n220,Doc Samson,Male,blue,Human / Radiation,Green,198,Marvel Comics,-,good,171\\r\\n221,Doctor Doom,Male,brown,Human,Brown,201,Marvel Comics,-,bad,187\\r\\n222,Doctor Doom II,Male,brown,-,Brown,201,Marvel Comics,-,bad,132\\r\\n223,Doctor Fate,Male,blue,Human,Blond,188,DC Comics,-,good,89\\r\\n224,Doctor Octopus,Male,brown,Human,Brown,175,Marvel Comics,-,bad,110\\r\\n225,Doctor Strange,Male,grey,Human,Black,188,Marvel Comics,-,good,81\\r\\n226,Domino,Female,blue,Human,Black,173,Marvel Comics,white,good,54\\r\\n227,Donatello,Male,green,Mutant,No Hair,-99,IDW Publishing,green,good,-99\\r\\n228,Donna Troy,Female,blue,Amazon,Black,175,DC Comics,-,good,63\\r\\n229,Doomsday,Male,red,Alien,White,244,DC Comics,-,bad,412\\r\\n230,Doppelganger,Male,white,-,No Hair,196,Marvel Comics,-,bad,104\\r\\n231,Dormammu,Male,yellow,-,No Hair,185,Marvel Comics,-,bad,-99\\r\\n232,Dr Manhattan,Male,white,Human / Cosmic,No Hair,-99,DC Comics,blue,good,-99\\r\\n233,Drax the Destroyer,Male,red,Human / Altered,No Hair,193,Marvel Comics,green,good,306\\r\\n234,Ego,-,-,-,-,-99,Marvel Comics,-,bad,-99\\r\\n235,Elastigirl,Female,brown,Human,Brown,168,Dark Horse Comics,-,good,56\\r\\n236,Electro,Male,blue,Human,Auburn,180,Marvel Comics,-,bad,74\\r\\n237,Elektra,Female,blue,Human,Black,175,Marvel Comics,-,good,59\\r\\n238,Elle Bishop,Female,blue,-,Blond,-99,NBC - Heroes,-,bad,-99\\r\\n239,Elongated Man,Male,blue,-,Red,185,DC Comics,-,good,80\\r\\n240,Emma Frost,Female,blue,-,Blond,178,Marvel Comics,-,good,65\\r\\n241,Enchantress,Female,blue,Human,Blond,168,DC Comics,-,good,57\\r\\n242,Energy,Female,-,-,-,-99,HarperCollins,-,good,-99\\r\\n243,ERG-1,Male,-,-,-,-99,DC Comics,-,good,-99\\r\\n244,Ethan Hunt,Male,brown,Human,Brown,168,,-,good,-99\\r\\n245,Etrigan,Male,red,Demon,No Hair,193,DC Comics,yellow,neutral,203\\r\\n246,Evil Deadpool,Male,white,Mutant,Red,188,Marvel Comics,-,bad,95\\r\\n247,Evilhawk,Male,red,Alien,Black,191,Marvel Comics,green,bad,106\\r\\n248,Exodus,Male,blue,Mutant,Black,183,Marvel Comics,red,bad,88\\r\\n249,Fabian Cortez,-,blue,-,Brown,196,Marvel Comics,-,bad,96\\r\\n250,Falcon,Male,brown,Human,Black,188,Marvel Comics,-,good,108\\r\\n251,Fallen One II,Male,black,-,Blue,-99,Marvel Comics,-,bad,-99\\r\\n252,Faora,Female,-,Kryptonian,-,-99,DC Comics,-,bad,-99\\r\\n253,Feral,-,yellow (without irises),-,Orange / White,175,Marvel Comics,-,good,50\\r\\n254,Fighting Spirit,Female,-,-,Red,-99,DC Comics,-,good,-99\\r\\n255,Fin Fang Foom,Male,red,Kakarantharaian,No Hair,975,Marvel Comics,green,good,18\\r\\n256,Firebird,Female,brown,-,Black,165,Marvel Comics,-,good,56\\r\\n257,Firelord,-,white,-,Yellow,193,Marvel Comics,-,good,99\\r\\n258,Firestar,Female,green,Mutant,Red,173,Marvel Comics,-,good,56\\r\\n259,Firestorm,Male,brown,-,Black,-99,DC Comics,-,good,-99\\r\\n260,Firestorm,Male,blue,Human,Auburn,188,DC Comics,-,good,91\\r\\n261,Fixer,-,red,-,No Hair,-99,Marvel Comics,-,bad,-99\\r\\n262,Flash,Male,blue,Human,Brown / White,180,DC Comics,-,good,81\\r\\n263,Flash Gordon,Male,-,-,-,-99,,-,good,-99\\r\\n264,Flash II,Male,blue,Human,Blond,183,DC Comics,-,good,88\\r\\n265,Flash III,Male,-,Human,-,183,DC Comics,-,good,86\\r\\n266,Flash IV,Male,yellow,Human,Auburn,157,DC Comics,-,good,52\\r\\n267,Forge,-,brown,-,Black,183,Marvel Comics,-,good,81\\r\\n268,Franklin Richards,Male,blue,Mutant,Blond,142,Marvel Comics,-,good,45\\r\\n269,Franklin Storm,-,blue,-,Grey,188,Marvel Comics,-,good,92\\r\\n270,Frenzy,Female,brown,-,Black,211,Marvel Comics,-,bad,104\\r\\n271,Frigga,Female,blue,-,White,180,Marvel Comics,-,good,167\\r\\n272,Galactus,Male,black,Cosmic Entity,Black,876,Marvel Comics,-,neutral,16\\r\\n273,Gambit,Male,red,Mutant,Brown,185,Marvel Comics,-,good,81\\r\\n274,Gamora,Female,yellow,Zen-Whoberian,Black,183,Marvel Comics,green,good,77\\r\\n275,Garbage Man,Male,-,Mutant,-,-99,DC Comics,-,good,-99\\r\\n276,Gary Bell,Male,-,Alpha,-,-99,SyFy,-,good,-99\\r\\n277,General Zod,Male,black,Kryptonian,Black,-99,DC Comics,-,bad,-99\\r\\n278,Genesis,Male,blue,-,Blond,185,Marvel Comics,-,good,86\\r\\n279,Ghost Rider,Male,red,Demon,No Hair,188,Marvel Comics,-,good,99\\r\\n280,Ghost Rider II,-,-,-,-,-99,Marvel Comics,-,good,-99\\r\\n281,Giant-Man,Male,-,Human,-,-99,Marvel Comics,-,good,-99\\r\\n282,Giant-Man II,Male,-,-,-,-99,Marvel Comics,-,good,-99\\r\\n283,Giganta,Female,green,-,Red,62.5,DC Comics,-,bad,630\\r\\n284,Gladiator,Male,blue,Strontian,Blue,198,Marvel Comics,purple,neutral,268\\r\\n285,Goblin Queen,Female,green,-,Red,168,Marvel Comics,-,bad,50\\r\\n286,Godzilla,-,-,Kaiju,-,108,,grey,bad,\\r\\n287,Gog,Male,-,-,-,-99,DC Comics,-,bad,-99\\r\\n288,Goku,Male,-,Saiyan,-,175,Shueisha,-,good,62\\r\\n289,Goliath,Male,-,-,-,-99,Marvel Comics,-,good,-99\\r\\n290,Goliath,Male,-,Human,-,-99,Marvel Comics,-,good,-99\\r\\n291,Goliath,Male,-,Human,-,-99,Marvel Comics,-,good,-99\\r\\n292,Goliath IV,Male,brown,-,Black,183,Marvel Comics,-,good,90\\r\\n293,Gorilla Grodd,Male,yellow,Gorilla,Black,198,DC Comics,-,bad,270\\r\\n294,Granny Goodness,Female,blue,-,White,178,DC Comics,-,bad,115\\r\\n295,Gravity,Male,blue,Human,Brown,178,Marvel Comics,-,good,79\\r\\n296,Greedo,Male,purple,Rodian,-,170,George Lucas,green,bad,-99\\r\\n297,Green Arrow,Male,green,Human,Blond,188,DC Comics,-,good,88\\r\\n298,Green Goblin,Male,blue,Human,Auburn,180,Marvel Comics,-,bad,83\\r\\n299,Green Goblin II,Male,blue,-,Auburn,178,Marvel Comics,-,bad,77\\r\\n300,Green Goblin III,Male,-,-,-,183,Marvel Comics,-,good,88\\r\\n301,Green Goblin IV,Male,green,-,Brown,178,Marvel Comics,-,good,79\\r\\n302,Groot,Male,yellow,Flora Colossus,-,701,Marvel Comics,-,good,4\\r\\n303,Guardian,Male,brown,Human,Black,-99,Marvel Comics,-,good,-99\\r\\n304,Guy Gardner,Male,blue,Human-Vuldarian,Red,188,DC Comics,-,good,95\\r\\n305,Hal Jordan,Male,brown,Human,Brown,188,DC Comics,-,good,90\\r\\n306,Han Solo,Male,brown,Human,Brown,183,George Lucas,-,good,79\\r\\n307,Hancock,Male,brown,Human,Black,188,Sony Pictures,-,good,-99\\r\\n308,Harley Quinn,Female,blue,Human,Blond,170,DC Comics,-,bad,63\\r\\n309,Harry Potter,Male,green,Human,Black,-99,J. K. Rowling,-,good,-99\\r\\n310,Havok,Male,blue,Mutant,Blond,183,Marvel Comics,-,good,79\\r\\n311,Hawk,Male,red,-,Brown,185,DC Comics,-,good,89\\r\\n312,Hawkeye,Male,blue,Human,Blond,191,Marvel Comics,-,good,104\\r\\n313,Hawkeye II,Female,blue,Human,Black,165,Marvel Comics,-,good,57\\r\\n314,Hawkgirl,Female,green,-,Red,175,DC Comics,-,good,61\\r\\n315,Hawkman,Male,blue,-,Brown,185,DC Comics,-,good,88\\r\\n316,Hawkwoman,Female,green,-,Red,175,DC Comics,-,good,54\\r\\n317,Hawkwoman II,Female,-,-,-,-99,DC Comics,-,good,-99\\r\\n318,Hawkwoman III,Female,blue,-,Red,170,DC Comics,-,good,65\\r\\n319,Heat Wave,Male,blue,Human,No Hair,180,DC Comics,-,bad,81\\r\\n320,Hela,Female,green,Asgardian,Black,213,Marvel Comics,-,bad,225\\r\\n321,Hellboy,Male,gold,Demon,Black,259,Dark Horse Comics,-,good,158\\r\\n322,Hellcat,Female,blue,Human,Red,173,Marvel Comics,-,good,61\\r\\n323,Hellstorm,Male,red,-,Red,185,Marvel Comics,-,good,81\\r\\n324,Hercules,Male,blue,Demi-God,Brown,196,Marvel Comics,-,good,146\\r\\n325,Hiro Nakamura,Male,-,-,-,-99,NBC - Heroes,-,good,-99\\r\\n326,Hit-Girl,Female,-,Human,-,-99,Icon Comics,-,good,-99\\r\\n327,Hobgoblin,Male,blue,-,Grey,180,Marvel Comics,-,bad,83\\r\\n328,Hollow,Female,blue,-,Red,170,Marvel Comics,-,good,-99\\r\\n329,Hope Summers,Female,green,-,Red,168,Marvel Comics,-,good,48\\r\\n330,Howard the Duck,Male,brown,-,Yellow,79,Marvel Comics,-,good,18\\r\\n331,Hulk,Male,green,Human / Radiation,Green,244,Marvel Comics,green,good,630\\r\\n332,Human Torch,Male,blue,Human / Radiation,Blond,178,Marvel Comics,-,good,77\\r\\n333,Huntress,Female,blue,-,Black,180,DC Comics,-,good,59\\r\\n334,Husk,Female,blue,Mutant,Blond,170,Marvel Comics,-,good,58\\r\\n335,Hybrid,Male,brown,Symbiote,Black,175,Marvel Comics,-,good,77\\r\\n336,Hydro-Man,Male,brown,-,Brown,188,Marvel Comics,-,bad,119\\r\\n337,Hyperion,Male,blue,Eternal,Red,183,Marvel Comics,-,good,207\\r\\n338,Iceman,Male,brown,Mutant,Brown,173,Marvel Comics,-,good,65\\r\\n339,Impulse,Male,yellow,Human,Auburn,170,DC Comics,-,good,65\\r\\n340,Indiana Jones,Male,-,Human,-,183,George Lucas,-,good,79\\r\\n341,Indigo,Female,-,Alien,Purple,-99,DC Comics,-,neutral,-99\\r\\n342,Ink,Male,blue,Mutant,No Hair,180,Marvel Comics,-,good,81\\r\\n343,Invisible Woman,Female,blue,Human / Radiation,Blond,168,Marvel Comics,-,good,54\\r\\n344,Iron Fist,Male,blue,Human,Blond,180,Marvel Comics,-,good,79\\r\\n345,Iron Man,Male,blue,Human,Black,198,Marvel Comics,-,good,191\\r\\n346,Iron Monger,Male,blue,-,No Hair,-99,Marvel Comics,-,bad,2\\r\\n347,Isis,Female,-,-,-,-99,DC Comics,-,good,-99\\r\\n348,Jack Bauer,Male,-,-,-,-99,,-,good,-99\\r\\n349,Jack of Hearts,Male,blue / white,Human,Brown,155,Marvel Comics,-,good,79\\r\\n350,Jack-Jack,Male,blue,Human,Brown,71,Dark Horse Comics,-,good,14\\r\\n351,James Bond,Male,blue,Human,Blond,183,Titan Books,-,good,-99\\r\\n352,James T. Kirk,Male,hazel,Human,Brown,178,Star Trek,-,good,77\\r\\n353,Jar Jar Binks,Male,yellow,Gungan,-,193,George Lucas,orange / white,good,-99\\r\\n354,Jason Bourne,Male,-,Human,-,-99,,-,good,-99\\r\\n355,Jean Grey,Female,green,Mutant,Red,168,Marvel Comics,-,good,52\\r\\n356,Jean-Luc Picard,Male,-,Human,-,-99,Star Trek,-,good,-99\\r\\n357,Jennifer Kale,Female,blue,-,Blond,168,Marvel Comics,-,good,55\\r\\n358,Jesse Quick,Female,-,Human,-,-99,DC Comics,-,good,-99\\r\\n359,Jessica Cruz,Female,green,Human,Brown,-99,DC Comics,-,good,-99\\r\\n360,Jessica Jones,Female,brown,Human,Brown,170,Marvel Comics,-,good,56\\r\\n361,Jessica Sanders,Female,-,-,-,-99,NBC - Heroes,-,good,-99\\r\\n362,Jigsaw,Male,blue,-,Black,188,Marvel Comics,-,bad,113\\r\\n363,Jim Powell,Male,-,-,-,-99,ABC Studios,-,good,-99\\r\\n364,JJ Powell,Male,-,-,-,-99,ABC Studios,-,good,-99\\r\\n365,Johann Krauss,Male,-,-,-,-99,Dark Horse Comics,-,good,-99\\r\\n366,John Constantine,Male,blue,Human,Blond,183,DC Comics,-,good,-99\\r\\n367,John Stewart,Male,green,Human,Black,185,DC Comics,-,good,90\\r\\n368,John Wraith,Male,brown,-,Black,183,Marvel Comics,-,good,88\\r\\n369,Joker,Male,green,Human,Green,196,DC Comics,white,bad,86\\r\\n370,Jolt,Female,blue,-,Black,165,Marvel Comics,-,good,49\\r\\n371,Jubilee,Female,red,Mutant,Black,165,Marvel Comics,-,good,52\\r\\n372,Judge Dredd,Male,-,Human,-,188,Rebellion,-,good,-99\\r\\n373,Juggernaut,Male,blue,Human,Red,287,Marvel Comics,-,neutral,855\\r\\n374,Junkpile,Male,-,Mutant,-,-99,Marvel Comics,-,bad,-99\\r\\n375,Justice,Male,hazel,Human,Brown,178,Marvel Comics,-,good,81\\r\\n376,Jyn Erso,Female,green,Human,Brown,-99,George Lucas,-,good,-99\\r\\n377,K-2SO,Male,white,Android,No Hair,213,George Lucas,gray,good,-99\\r\\n378,Kang,Male,brown,-,Brown,191,Marvel Comics,-,bad,104\\r\\n379,Karate Kid,Male,brown,Human,Brown,173,DC Comics,-,good,72\\r\\n380,Kathryn Janeway,Female,-,Human,-,-99,Star Trek,-,good,-99\\r\\n381,Katniss Everdeen,Female,-,Human,-,-99,,-,good,-99\\r\\n382,Kevin 11,Male,-,Human,Black,-99,DC Comics,-,good,-99\\r\\n383,Kick-Ass,Male,blue,Human,Blond,-99,Icon Comics,-,good,-99\\r\\n384,Kid Flash,Male,green,Human,Red,-99,DC Comics,-,good,-99\\r\\n385,Kid Flash II,Male,-,-,-,-99,DC Comics,-,good,-99\\r\\n386,Killer Croc,Male,red,Metahuman,No Hair,244,DC Comics,green,bad,356\\r\\n387,Killer Frost,Female,blue,Human,Blond,-99,DC Comics,blue,bad,-99\\r\\n388,Kilowog,Male,red,Bolovaxian,No Hair,234,DC Comics,pink,good,324\\r\\n389,King Kong,Male,yellow,Animal,Black,30.5,,-,good,\\r\\n390,King Shark,Male,black,Animal,No Hair,-99,DC Comics,-,bad,-99\\r\\n391,Kingpin,Male,blue,Human,No Hair,201,Marvel Comics,-,bad,203\\r\\n392,Klaw,Male,red,Human,No Hair,188,Marvel Comics,red,bad,97\\r\\n393,Kool-Aid Man,Male,black,-,No Hair,-99,,red,good,-99\\r\\n394,Kraven II,Male,brown,Human,Black,191,Marvel Comics,-,bad,99\\r\\n395,Kraven the Hunter,Male,brown,Human,Black,183,Marvel Comics,-,bad,106\\r\\n396,Krypto,Male,blue,Kryptonian,White,64,DC Comics,-,good,18\\r\\n397,Kyle Rayner,Male,green,Human,Black,180,DC Comics,-,good,79\\r\\n398,Kylo Ren,Male,-,Human,-,-99,George Lucas,-,bad,-99\\r\\n399,Lady Bullseye,Female,-,-,Black,-99,Marvel Comics,-,bad,-99\\r\\n400,Lady Deathstrike,Female,brown,Cyborg,Black,175,Marvel Comics,-,bad,58\\r\\n401,Leader,Male,green,-,No Hair,178,Marvel Comics,-,bad,63\\r\\n402,Leech,Male,-,-,-,-99,Marvel Comics,-,good,-99\\r\\n403,Legion,Male,green / blue,Mutant,Black,175,Marvel Comics,-,good,59\\r\\n404,Leonardo,Male,blue,Mutant,No Hair,-99,IDW Publishing,green,good,-99\\r\\n405,Lex Luthor,Male,green,Human,No Hair,188,DC Comics,-,bad,95\\r\\n406,Light Lass,Female,blue,-,Red,165,DC Comics,-,good,54\\r\\n407,Lightning Lad,Male,blue,-,Red,155,DC Comics,-,good,65\\r\\n408,Lightning Lord,Male,blue,-,Red,191,DC Comics,-,bad,95\\r\\n409,Living Brain,-,yellow,-,-,198,Marvel Comics,-,bad,360\\r\\n410,Living Tribunal,-,blue,Cosmic Entity,No Hair,-99,Marvel Comics,gold,neutral,-99\\r\\n411,Liz Sherman,Female,-,-,-,-99,Dark Horse Comics,-,good,-99\\r\\n412,Lizard,Male,red,Human,No Hair,203,Marvel Comics,-,bad,230\\r\\n413,Lobo,Male,red,Czarnian,Black,229,DC Comics,blue-white,neutral,288\\r\\n414,Loki,Male,green,Asgardian,Black,193,Marvel Comics,-,bad,236\\r\\n415,Longshot,Male,blue,Human,Blond,188,Marvel Comics,-,good,36\\r\\n416,Luke Cage,Male,brown,Human,Black,198,Marvel Comics,-,good,191\\r\\n417,Luke Campbell,Male,-,-,-,-99,NBC - Heroes,-,bad,-99\\r\\n418,Luke Skywalker,Male,blue,Human,Blond,168,George Lucas,-,good,77\\r\\n419,Luna,Female,-,Human,-,-99,Marvel Comics,-,good,-99\\r\\n420,Lyja,Female,green,-,Green,-99,Marvel Comics,-,good,-99\\r\\n421,Mach-IV,Male,brown,-,Brown,180,Marvel Comics,-,bad,79\\r\\n422,Machine Man,-,red,-,Black,183,Marvel Comics,-,good,383\\r\\n423,Magneto,Male,grey,Mutant,White,188,Marvel Comics,-,bad,86\\r\\n424,Magog,Male,blue,-,Blond,-99,DC Comics,-,good,-99\\r\\n425,Magus,Male,black,-,-,183,Marvel Comics,-,bad,-99\\r\\n426,Man of Miracles,-,blue,God / Eternal,Silver,-99,Image Comics,-,-,-99\\r\\n427,Man-Bat,Male,brown,Human,Brown,-99,DC Comics,-,neutral,-99\\r\\n428,Man-Thing,Male,red,-,No Hair,213,Marvel Comics,green,good,225\\r\\n429,Man-Wolf,Male,brown,-,Auburn,188,Marvel Comics,-,good,90\\r\\n430,Mandarin,Male,blue,Human,White,188,Marvel Comics,-,bad,97\\r\\n431,Mantis,Female,green,Human-Kree,Black,168,Marvel Comics,green,good,52\\r\\n432,Martian Manhunter,Male,red,Martian,No Hair,201,DC Comics,green,good,135\\r\\n433,Marvel Girl,Female,green,-,Red,170,Marvel Comics,-,good,56\\r\\n434,Master Brood,Male,blue,-,Black,183,Team Epic TV,-,good,81\\r\\n435,Master Chief,Male,brown,Human / Altered,Brown,213,Microsoft,-,good,-99\\r\\n436,Match,Male,black,-,Black,-99,DC Comics,-,bad,-99\\r\\n437,Matt Parkman,Male,-,-,-,-99,NBC - Heroes,-,good,-99\\r\\n438,Maverick,Male,blue,-,Black,193,Marvel Comics,-,good,110\\r\\n439,Maxima,Female,brown,-,Red,180,DC Comics,-,bad,72\\r\\n440,Maya Herrera,Female,-,-,-,-99,NBC - Heroes,-,good,-99\\r\\n441,Medusa,Female,green,Inhuman,Red,180,Marvel Comics,-,good,59\\r\\n442,Meltdown,Female,blue,-,Blond,165,Marvel Comics,-,good,54\\r\\n443,Mephisto,Male,white,-,Black,198,Marvel Comics,-,bad,140\\r\\n444,Mera,Female,blue,Atlantean,Red,175,DC Comics,-,good,72\\r\\n445,Metallo,Male,green,Android,Brown,196,DC Comics,-,bad,90\\r\\n446,Metamorpho,Male,black,-,No Hair,185,DC Comics,-,good,90\\r\\n447,Meteorite,Female,-,-,-,-99,Marvel Comics,-,good,-99\\r\\n448,Metron,Male,blue,-,Black,185,DC Comics,-,good,86\\r\\n449,Micah Sanders,Male,brown,-,Black,-99,NBC - Heroes,-,good,-99\\r\\n450,Michelangelo,Male,blue,Mutant,-,-99,IDW Publishing,green,good,-99\\r\\n451,Micro Lad,Male,grey,-,Brown,183,DC Comics,-,good,77\\r\\n452,Mimic,Male,brown,-,Brown,188,Marvel Comics,-,good,101\\r\\n453,Minna Murray,Female,-,-,-,-99,Wildstorm,-,good,-99\\r\\n454,Misfit,Female,blue,-,Red,-99,DC Comics,-,good,-99\\r\\n455,Miss Martian,Female,red,-,Red,178,DC Comics,-,good,61\\r\\n456,Mister Fantastic,Male,brown,Human / Radiation,Brown,185,Marvel Comics,-,good,81\\r\\n457,Mister Freeze,Male,-,Human,-,183,DC Comics,-,bad,86\\r\\n458,Mister Knife,Male,blue,Spartoi,Brown,-99,Marvel Comics,-,bad,-99\\r\\n459,Mister Mxyzptlk,Male,-,God / Eternal,-,-99,DC Comics,-,bad,-99\\r\\n460,Mister Sinister,Male,red,Human / Altered,Black,196,Marvel Comics,-,bad,128\\r\\n461,Mister Zsasz,Male,blue,Human,Blond,-99,DC Comics,-,bad,-99\\r\\n462,Mockingbird,Female,blue,Human,Blond,175,Marvel Comics,-,good,61\\r\\n463,MODOK,Male,white,Cyborg,Brownn,366,Marvel Comics,-,bad,338\\r\\n464,Mogo,Male,-,Planet,-,-99,DC Comics,-,good,-99\\r\\n465,Mohinder Suresh,Male,-,-,-,-99,NBC - Heroes,-,good,-99\\r\\n466,Moloch,Male,-,-,-,-99,DC Comics,-,bad,-99\\r\\n467,Molten Man,Male,gold,-,Gold,196,Marvel Comics,-,bad,248\\r\\n468,Monarch,Male,blue,-,White,193,DC Comics,-,good,90\\r\\n469,Monica Dawson,Female,-,-,-,-99,NBC - Heroes,-,good,-99\\r\\n470,Moon Knight,Male,brown,Human,Brown,188,Marvel Comics,-,good,101\\r\\n471,Moonstone,Female,blue,-,Blond,180,Marvel Comics,-,bad,59\\r\\n472,Morlun,Male,white / red,-,Black,188,Marvel Comics,-,bad,79\\r\\n473,Morph,Male,white,-,No Hair,178,Marvel Comics,-,good,79\\r\\n474,Moses Magnum,Male,brown,-,Black,175,Marvel Comics,-,bad,72\\r\\n475,Mr Immortal,Male,blue,Mutant,Blond,188,Marvel Comics,-,good,70\\r\\n476,Mr Incredible,Male,blue,Human,Blond,201,Dark Horse Comics,-,good,158\\r\\n477,Ms Marvel II,Female,blue,-,Red,173,Marvel Comics,-,good,61\\r\\n478,Multiple Man,Male,blue,-,Brown,180,Marvel Comics,-,good,70\\r\\n479,Mysterio,Male,brown,Human,No Hair,180,Marvel Comics,-,bad,79\\r\\n480,Mystique,Female,yellow (without irises),Mutant,Red / Orange,178,Marvel Comics,blue,bad,54\\r\\n481,Namor,Male,-,-,-,-99,Marvel Comics,-,good,-99\\r\\n482,Namor,Male,grey,Atlantean,Black,188,Marvel Comics,-,good,125\\r\\n483,Namora,Female,blue,-,Blond,180,Marvel Comics,-,good,85\\r\\n484,Namorita,Female,blue,-,Blond,168,Marvel Comics,-,good,101\\r\\n485,Naruto Uzumaki,Male,-,Human,-,168,Shueisha,-,good,54\\r\\n486,Nathan Petrelli,Male,brown,-,-,-99,NBC - Heroes,-,good,-99\\r\\n487,Nebula,Female,blue,Luphomoid,No Hair,185,Marvel Comics,blue,bad,83\\r\\n488,Negasonic Teenage Warhead,Female,black,Mutant,Black,-99,Marvel Comics,-,good,-99\\r\\n489,Nick Fury,Male,brown,Human,Brown / White,185,Marvel Comics,-,good,99\\r\\n490,Nightcrawler,Male,yellow,-,Indigo,175,Marvel Comics,-,good,88\\r\\n491,Nightwing,Male,blue,Human,Black,178,DC Comics,-,good,79\\r\\n492,Niki Sanders,Female,blue,-,Blond,-99,NBC - Heroes,-,good,-99\\r\\n493,Nina Theroux,Female,-,Alpha,-,-99,SyFy,-,good,-99\\r\\n494,Nite Owl II,Male,-,-,-,-99,DC Comics,-,good,-99\\r\\n495,Northstar,Male,blue,-,Black,180,Marvel Comics,-,good,83\\r\\n496,Nova,Male,brown,Human,Brown,185,Marvel Comics,-,good,86\\r\\n497,Nova,Female,white,Human / Cosmic,Red,163,Marvel Comics,gold,good,59\\r\\n498,Odin,Male,blue,God / Eternal,White,206,Marvel Comics,-,good,293\\r\\n499,Offspring,Male,-,-,-,-99,DC Comics,-,good,-99\\r\\n500,Omega Red,Male,red,-,Blond,211,Marvel Comics,-,bad,191\\r\\n501,Omniscient,Male,brown,-,Black,180,Team Epic TV,-,good,65\\r\\n502,One Punch Man,Male,-,Human,No Hair,175,Shueisha,-,good,69\\r\\n503,One-Above-All,-,-,Cosmic Entity,-,-99,Marvel Comics,-,neutral,-99\\r\\n504,Onslaught,Male,red,Mutant,No Hair,305,Marvel Comics,-,bad,405\\r\\n505,Oracle,Female,blue,Human,Red,178,DC Comics,-,good,59\\r\\n506,Osiris,Male,brown,-,Brown,-99,DC Comics,-,good,-99\\r\\n507,Overtkill,Male,-,-,-,-99,Image Comics,-,bad,-99\\r\\n508,Ozymandias,Male,blue,Human,Blond,-99,DC Comics,-,bad,-99\\r\\n509,Parademon,-,-,Parademon,-,-99,DC Comics,-,bad,-99\\r\\n510,Paul Blart,Male,-,Human,-,170,Sony Pictures,-,good,117\\r\\n511,Penance,-,-,-,-,-99,Marvel Comics,-,good,-99\\r\\n512,Penance I,Female,-,-,-,-99,Marvel Comics,-,good,-99\\r\\n513,Penance II,Male,blue,-,Blond,183,Marvel Comics,-,good,89\\r\\n514,Penguin,Male,blue,Human,Black,157,DC Comics,-,bad,79\\r\\n515,Peter Petrelli,Male,-,-,-,-99,NBC - Heroes,-,good,-99\\r\\n516,Phantom,Male,-,-,-,-99,DC Comics,-,good,-99\\r\\n517,Phantom Girl,Female,blue,-,Black,168,DC Comics,-,good,54\\r\\n518,Phoenix,Female,green,Mutant,Red,168,Marvel Comics,-,good,52\\r\\n519,Plantman,Male,green,Mutant,Grey,183,Marvel Comics,-,bad,87\\r\\n520,Plastic Lad,Male,-,-,-,-99,DC Comics,-,good,-99\\r\\n521,Plastic Man,Male,blue,Human,Black,185,DC Comics,-,good,80\\r\\n522,Plastique,Female,blue,-,Red,168,DC Comics,-,bad,55\\r\\n523,Poison Ivy,Female,green,Human,Red,168,DC Comics,green,bad,50\\r\\n524,Polaris,Female,green,Mutant,Green,170,Marvel Comics,-,good,52\\r\\n525,Power Girl,Female,blue,Kryptonian,blond,180,DC Comics,-,good,81\\r\\n526,Power Man,Male,-,Mutant,-,-99,Marvel Comics,-,good,-99\\r\\n527,Predator,Male,-,Yautja,-,213,Dark Horse Comics,-,bad,234\\r\\n528,Professor X,Male,blue,Mutant,No Hair,183,Marvel Comics,-,good,86\\r\\n529,Professor Zoom,Male,blue,Human,Strawberry Blond,180,DC Comics,-,bad,81\\r\\n530,Proto-Goblin,Male,green,-,Blond,-99,Marvel Comics,-,bad,-99\\r\\n531,Psylocke,Female,blue,Mutant,Purple,180,Marvel Comics,-,good,70\\r\\n532,Punisher,Male,blue,Human,Black,183,Marvel Comics,-,good,90\\r\\n533,Purple Man,Male,purple,Human,Purple,180,Marvel Comics,purple,bad,74\\r\\n534,Pyro,Male,blue,-,Blond,178,Marvel Comics,-,bad,68\\r\\n535,Q,Male,-,God / Eternal,-,-99,Star Trek,-,-,-99\\r\\n536,Quantum,Male,-,-,-,-99,HarperCollins,-,good,-99\\r\\n537,Question,Male,blue,Human,Blond,188,DC Comics,-,good,83\\r\\n538,Quicksilver,Male,blue,Mutant,Silver,183,Marvel Comics,-,good,79\\r\\n539,Quill,Male,brown,-,Brown,163,Marvel Comics,-,good,56\\r\\n540,Ra's Al Ghul,Male,green,Human,Grey,193,DC Comics,-,bad,97\\r\\n541,Rachel Pirzad,Female,-,Alpha,-,-99,SyFy,-,good,-99\\r\\n542,Rambo,Male,brown,Human,Black,178,,-,good,83\\r\\n543,Raphael,Male,-,Mutant,No Hair,-99,IDW Publishing,green,good,-99\\r\\n544,Raven,Female,indigo,Human,Black,165,DC Comics,-,neutral,50\\r\\n545,Ray,Male,green,Human,Red,178,DC Comics,-,good,70\\r\\n546,Razor-Fist II,Male,blue,-,No Hair,191,Marvel Comics,-,bad,117\\r\\n547,Red Arrow,Male,green,Human,Red,180,DC Comics,-,good,83\\r\\n548,Red Hood,Male,blue,Human,Black,183,DC Comics,-,neutral,81\\r\\n549,Red Hulk,Male,yellow,Human / Radiation,Black,213,Marvel Comics,red,neutral,630\\r\\n550,Red Mist,Male,-,-,-,-99,Icon Comics,-,bad,-99\\r\\n551,Red Robin,Male,blue,Human,Black,165,DC Comics,-,good,56\\r\\n552,Red Skull,Male,blue,-,No Hair,188,Marvel Comics,-,bad,108\\r\\n553,Red Tornado,Male,green,Android,No Hair,185,DC Comics,-,good,146\\r\\n554,Redeemer II,Male,-,-,-,-99,Image Comics,-,bad,-99\\r\\n555,Redeemer III,Male,-,-,-,-99,Image Comics,-,bad,-99\\r\\n556,Renata Soliz,Female,-,-,-,-99,HarperCollins,-,good,-99\\r\\n557,Rey,Female,hazel,Human,Brown,297,George Lucas,-,good,-99\\r\\n558,Rhino,Male,brown,Human / Radiation,Brown,196,Marvel Comics,-,bad,320\\r\\n559,Rick Flag,Male,blue,-,Brown,185,DC Comics,-,bad,85\\r\\n560,Riddler,Male,-,-,-,-99,DC Comics,-,bad,-99\\r\\n561,Rip Hunter,Male,blue,Human,Blond,-99,DC Comics,-,good,-99\\r\\n562,Ripcord,Female,green,-,Black,180,Marvel Comics,-,good,72\\r\\n563,Robin,Male,blue,Human,Black,178,DC Comics,-,good,79\\r\\n564,Robin II,Male,blue,Human,Red,183,DC Comics,-,good,101\\r\\n565,Robin III,Male,blue,Human,Black,165,DC Comics,-,good,56\\r\\n566,Robin V,Male,blue,Human,Black,137,DC Comics,-,good,38\\r\\n567,Robin VI,Female,green,Human,Red,-99,DC Comics,-,neutral,-99\\r\\n568,Rocket Raccoon,Male,brown,Animal,Brown,122,Marvel Comics,-,good,25\\r\\n569,Rogue,Female,green,-,Brown / White,173,Marvel Comics,-,good,54\\r\\n570,Ronin,Male,blue,Human,Blond,191,Marvel Comics,-,good,104\\r\\n571,Rorschach,Male,blue,Human,Red,168,DC Comics,-,good,63\\r\\n572,Sabretooth,Male,amber,Mutant,Blond,198,Marvel Comics,-,bad,171\\r\\n573,Sage,Female,blue,-,Black,170,Marvel Comics,-,good,61\\r\\n574,Sandman,Male,brown,Human,Brown,185,Marvel Comics,-,neutral,203\\r\\n575,Sasquatch,Male,red,-,Orange,305,Marvel Comics,-,good,900\\r\\n576,Sauron,Male,-,Maiar,-,279,J. R. R. Tolkien,-,bad,-99\\r\\n577,Savage Dragon,Male,-,-,-,-99,Image Comics,-,good,-99\\r\\n578,Scarecrow,Male,blue,Human,Brown,183,DC Comics,-,bad,63\\r\\n579,Scarlet Spider,Male,blue,Human,Blond,178,Marvel Comics,-,good,74\\r\\n580,Scarlet Spider II,Male,brown,Clone,Brown,193,Marvel Comics,-,good,113\\r\\n581,Scarlet Witch,Female,blue,Mutant,Brown,170,Marvel Comics,-,bad,59\\r\\n582,Scorpia,Female,green,-,Red,-99,Marvel Comics,-,bad,-99\\r\\n583,Scorpion,Male,brown,Human,Brown,211,Marvel Comics,-,bad,310\\r\\n584,Sebastian Shaw,Male,-,Mutant,-,-99,Marvel Comics,-,bad,-99\\r\\n585,Sentry,Male,blue,Mutant,Blond,188,Marvel Comics,-,neutral,87\\r\\n586,Shadow King,-,red,-,-,185,Marvel Comics,-,good,149\\r\\n587,Shadow Lass,Female,black,Talokite,Black,173,DC Comics,blue,good,54\\r\\n588,Shadowcat,Female,hazel,Mutant,Brown,168,Marvel Comics,-,good,50\\r\\n589,Shang-Chi,Male,brown,Human,Black,178,Marvel Comics,-,good,79\\r\\n590,Shatterstar,Male,brown,-,Red,191,Marvel Comics,-,good,88\\r\\n591,She-Hulk,Female,green,Human,Green,201,Marvel Comics,-,good,315\\r\\n592,She-Thing,Female,blue,Human / Radiation,No Hair,183,Marvel Comics,-,good,153\\r\\n593,Shocker,Male,brown,Human,Brown,175,Marvel Comics,-,bad,79\\r\\n594,Shriek,Female,yellow / blue,-,Black,173,Marvel Comics,-,good,52\\r\\n595,Shrinking Violet,Female,-,-,-,-99,DC Comics,-,good,-99\\r\\n596,Sif,Female,blue,Asgardian,Black,188,Marvel Comics,-,good,191\\r\\n597,Silk,Female,brown,Human,Black,-99,Marvel Comics,-,good,-99\\r\\n598,Silk Spectre,Female,-,-,-,-99,DC Comics,-,good,-99\\r\\n599,Silk Spectre II,Female,-,-,-,-99,DC Comics,-,good,-99\\r\\n600,Silver Surfer,Male,white,Alien,No Hair,193,Marvel Comics,silver,good,101\\r\\n601,Silverclaw,Female,brown,-,Black,157,Marvel Comics,-,good,50\\r\\n602,Simon Baz,Male,bown,Human,Black,-99,DC Comics,-,good,-99\\r\\n603,Sinestro,Male,black,Korugaran,Black,201,DC Comics,red,neutral,92\\r\\n604,Siren,Female,blue,Atlantean,Purple,175,DC Comics,-,bad,72\\r\\n605,Siren II,Female,black,-,-,-99,DC Comics,-,bad,-99\\r\\n606,Siryn,Female,blue,-,Strawberry Blond,168,Marvel Comics,-,bad,52\\r\\n607,Skaar,Male,green,-,Black,198,Marvel Comics,-,good,180\\r\\n608,Snake-Eyes,Male,-,Animal,-,-99,Marvel Comics,-,bad,-99\\r\\n609,Snowbird,Female,white,-,Blond,178,Marvel Comics,-,good,49\\r\\n610,Sobek,Male,white,-,No Hair,-99,DC Comics,-,good,-99\\r\\n611,Solomon Grundy,Male,black,Zombie,White,279,DC Comics,-,bad,437\\r\\n612,Songbird,Female,green,-,Red / White,165,Marvel Comics,-,good,65\\r\\n613,Space Ghost,Male,-,Human,-,188,DC Comics,-,good,113\\r\\n614,Spawn,Male,brown,Demon,Black,211,Image Comics,-,good,405\\r\\n615,Spectre,Male,white,God / Eternal,No Hair,-99,DC Comics,white,good,-99\\r\\n616,Speedball,Male,-,-,-,-99,Marvel Comics,-,good,-99\\r\\n617,Speedy,Male,-,Human,-,-99,DC Comics,-,good,-99\\r\\n618,Speedy,Female,green,Human,Brown,-99,DC Comics,-,good,-99\\r\\n619,Spider-Carnage,Male,-,Symbiote,-,-99,Marvel Comics,-,bad,-99\\r\\n620,Spider-Girl,Female,blue,Human,Brown,170,Marvel Comics,-,good,54\\r\\n621,Spider-Gwen,Female,blue,Human,Blond,165,Marvel Comics,-,good,56\\r\\n622,Spider-Man,Male,hazel,Human,Brown,178,Marvel Comics,-,good,74\\r\\n623,Spider-Man,-,red,Human,Brown,178,Marvel Comics,-,good,77\\r\\n624,Spider-Man,Male,brown,Human,Black,157,Marvel Comics,-,good,56\\r\\n625,Spider-Woman,Female,green,Human,Black,178,Marvel Comics,-,good,59\\r\\n626,Spider-Woman II,Female,-,-,-,-99,Marvel Comics,-,good,-99\\r\\n627,Spider-Woman III,Female,brown,-,Brown,173,Marvel Comics,-,good,55\\r\\n628,Spider-Woman IV,Female,red,-,White,178,Marvel Comics,-,bad,58\\r\\n629,Spock,Male,brown,Human-Vulcan,Black,185,Star Trek,-,good,81\\r\\n630,Spyke,Male,brown,Mutant,Blond,183,Marvel Comics,-,good,83\\r\\n631,Stacy X,Female,-,-,-,-99,Marvel Comics,-,good,-99\\r\\n632,Star-Lord,Male,blue,Human-Spartoi,Blond,188,Marvel Comics,-,good,79\\r\\n633,Stardust,Male,-,-,-,-99,Marvel Comics,-,good,-99\\r\\n634,Starfire,Female,green,Tamaranean,Auburn,193,DC Comics,orange,good,71\\r\\n635,Stargirl,Female,blue,Human,Blond,165,DC Comics,-,good,62\\r\\n636,Static,Male,brown,Mutant,Black,170,DC Comics,-,good,63\\r\\n637,Steel,Male,brown,-,No Hair,201,DC Comics,-,good,131\\r\\n638,Stephanie Powell,Female,-,-,Blond,-99,ABC Studios,-,good,-99\\r\\n639,Steppenwolf,Male,red,New God,Black,183,DC Comics,white,bad,91\\r\\n640,Storm,Female,blue,Mutant,White,180,Marvel Comics,-,good,57\\r\\n641,Stormtrooper,Male,-,Human,-,183,George Lucas,-,bad,-99\\r\\n642,Sunspot,Male,brown,Mutant,black,173,Marvel Comics,-,good,77\\r\\n643,Superboy,Male,blue,-,Black,170,DC Comics,-,good,68\\r\\n644,Superboy-Prime,Male,blue,Kryptonian,Black / Blue,180,DC Comics,-,bad,77\\r\\n645,Supergirl,Female,blue,Kryptonian,Blond,165,DC Comics,-,good,54\\r\\n646,Superman,Male,blue,Kryptonian,Black,191,DC Comics,-,good,101\\r\\n647,Swamp Thing,Male,red,God / Eternal,No Hair,-99,DC Comics,green,bad,-99\\r\\n648,Swarm,Male,yellow,Mutant,No Hair,196,Marvel Comics,yellow,bad,47\\r\\n649,Sylar,Male,-,-,-,-99,NBC - Heroes,-,bad,-99\\r\\n650,Synch,Male,brown,-,Black,180,Marvel Comics,-,good,74\\r\\n651,T-1000,Male,-,Android,-,183,Dark Horse Comics,silver,bad,146\\r\\n652,T-800,Male,red,Cyborg,-,-99,Dark Horse Comics,-,bad,176\\r\\n653,T-850,Male,red,Cyborg,-,-99,Dark Horse Comics,-,bad,198\\r\\n654,T-X,Female,-,Cyborg,-,-99,Dark Horse Comics,silver,bad,149\\r\\n655,Taskmaster,Male,brown,Human,Brown,188,Marvel Comics,-,bad,99\\r\\n656,Tempest,Female,brown,-,Black,163,Marvel Comics,-,good,54\\r\\n657,Thanos,Male,red,Eternal,No Hair,201,Marvel Comics,purple,bad,443\\r\\n658,The Cape,Male,-,-,-,-99,,-,good,-99\\r\\n659,The Comedian,Male,brown,Human,Black,188,DC Comics,-,neutral,101\\r\\n660,Thing,Male,blue,Human / Radiation,No Hair,183,Marvel Comics,-,good,225\\r\\n661,Thor,Male,blue,Asgardian,Blond,198,Marvel Comics,-,good,288\\r\\n662,Thor Girl,Female,blue,Asgardian,Blond,175,Marvel Comics,-,good,143\\r\\n663,Thunderbird,Male,brown,-,Black,185,Marvel Comics,-,good,101\\r\\n664,Thunderbird II,Male,-,-,-,-99,Marvel Comics,-,good,-99\\r\\n665,Thunderbird III,Male,brown,-,Black,175,Marvel Comics,-,good,74\\r\\n666,Thunderstrike,Male,blue,-,Blond,198,Marvel Comics,-,good,288\\r\\n667,Thundra,Female,green,-,Red,218,Marvel Comics,-,good,158\\r\\n668,Tiger Shark,Male,grey,Human,No Hair,185,Marvel Comics,grey,bad,203\\r\\n669,Tigra,Female,green,-,Auburn,178,Marvel Comics,-,good,81\\r\\n670,Tinkerer,Male,brown,-,White,163,Marvel Comics,-,bad,54\\r\\n671,Titan,Male,-,-,-,-99,HarperCollins,-,good,-99\\r\\n672,Toad,Male,black,Mutant,Brown,175,Marvel Comics,green,neutral,76\\r\\n673,Toxin,Male,blue,Symbiote,Brown,188,Marvel Comics,-,good,97\\r\\n674,Toxin,Male,black,Symbiote,Blond,191,Marvel Comics,-,good,117\\r\\n675,Tracy Strauss,Female,-,-,-,-99,NBC - Heroes,-,good,-99\\r\\n676,Trickster,Male,blue,Human,Blond,183,DC Comics,-,-,81\\r\\n677,Trigon,Male,yellow,God / Eternal,Black,-99,DC Comics,red,bad,-99\\r\\n678,Triplicate Girl,Female,purple,-,Brown,168,DC Comics,-,good,59\\r\\n679,Triton,Male,green,Inhuman,No Hair,188,Marvel Comics,green,good,86\\r\\n680,Two-Face,Male,-,-,-,183,DC Comics,-,bad,82\\r\\n681,Ultragirl,Female,blue,-,Blond,168,Marvel Comics,-,good,105\\r\\n682,Ultron,Male,red,Android,-,206,Marvel Comics,silver,bad,331\\r\\n683,Utgard-Loki,Male,blue,Frost Giant,White,15.2,Marvel Comics,-,bad,58\\r\\n684,Vagabond,Female,blue,-,Strawberry Blond,168,Marvel Comics,-,good,54\\r\\n685,Valerie Hart,Female,hazel,-,Black,175,Team Epic TV,-,good,56\\r\\n686,Valkyrie,Female,blue,-,Blond,191,Marvel Comics,-,good,214\\r\\n687,Vanisher,Male,green,-,No Hair,165,Marvel Comics,-,bad,79\\r\\n688,Vegeta,Male,-,Saiyan,Black,168,Shueisha,-,bad,73\\r\\n689,Venom,Male,blue,Symbiote,Strawberry Blond,191,Marvel Comics,-,bad,117\\r\\n690,Venom II,Male,brown,-,Black,175,Marvel Comics,-,bad,50\\r\\n691,Venom III,Male,brown,Symbiote,Brown,229,Marvel Comics,-,bad,334\\r\\n692,Venompool,Male,-,Symbiote,-,226,Marvel Comics,-,-,-99\\r\\n693,Vertigo II,Female,blue,-,Silver,168,Marvel Comics,-,good,52\\r\\n694,Vibe,Male,brown,Human,Black,178,DC Comics,-,good,71\\r\\n695,Vindicator,Female,green,Human,Red,165,Marvel Comics,-,good,54\\r\\n696,Vindicator,Male,-,-,-,-99,Marvel Comics,-,good,-99\\r\\n697,Violator,Male,-,-,-,-99,Image Comics,-,bad,-99\\r\\n698,Violet Parr,Female,violet,Human,Black,137,Dark Horse Comics,-,good,41\\r\\n699,Vision,Male,gold,Android,No Hair,191,Marvel Comics,red,good,135\\r\\n700,Vision II,-,red,-,No Hair,191,Marvel Comics,-,good,135\\r\\n701,Vixen,Female,amber,Human,Black,175,DC Comics,-,good,63\\r\\n702,Vulcan,Male,black,-,Black,-99,Marvel Comics,-,good,-99\\r\\n703,Vulture,Male,brown,Human,No Hair,180,Marvel Comics,-,bad,79\\r\\n704,Walrus,Male,blue,Human,Black,183,Marvel Comics,-,bad,162\\r\\n705,War Machine,Male,brown,Human,Brown,185,Marvel Comics,-,good,95\\r\\n706,Warbird,Female,blue,-,Blond,180,Marvel Comics,-,good,54\\r\\n707,Warlock,Male,red,-,Blond,188,Marvel Comics,-,good,108\\r\\n708,Warp,Male,brown,-,Black,173,DC Comics,-,bad,67\\r\\n709,Warpath,Male,brown,Mutant,Black,218,Marvel Comics,-,good,158\\r\\n710,Wasp,Female,blue,Human,Auburn,163,Marvel Comics,-,good,50\\r\\n711,Watcher,Male,-,-,-,-99,Marvel Comics,-,good,-99\\r\\n712,Weapon XI,Male,-,-,-,-99,Marvel Comics,-,bad,-99\\r\\n713,White Canary,Female,brown,Human,Black,-99,DC Comics,-,bad,-99\\r\\n714,White Queen,Female,blue,-,Blond,178,Marvel Comics,-,good,65\\r\\n715,Wildfire,Male,-,-,-,-99,DC Comics,-,good,-99\\r\\n716,Winter Soldier,Male,brown,Human,Brown,175,Marvel Comics,-,good,117\\r\\n717,Wiz Kid,-,brown,-,Black,140,Marvel Comics,-,good,39\\r\\n718,Wolfsbane,Female,green,-,Auburn,366,Marvel Comics,-,good,473\\r\\n719,Wolverine,Male,blue,Mutant,Black,160,Marvel Comics,-,good,135\\r\\n720,Wonder Girl,Female,blue,Demi-God,Blond,165,DC Comics,-,good,51\\r\\n721,Wonder Man,Male,red,-,Black,188,Marvel Comics,-,good,171\\r\\n722,Wonder Woman,Female,blue,Amazon,Black,183,DC Comics,-,good,74\\r\\n723,Wondra,Female,-,-,-,-99,Marvel Comics,-,good,-99\\r\\n724,Wyatt Wingfoot,Male,brown,-,Black,196,Marvel Comics,-,good,117\\r\\n725,X-23,Female,green,Mutant / Clone,Black,155,Marvel Comics,-,good,50\\r\\n726,X-Man,Male,blue,-,Brown,175,Marvel Comics,-,good,61\\r\\n727,Yellow Claw,Male,blue,-,No Hair,188,Marvel Comics,-,bad,95\\r\\n728,Yellowjacket,Male,blue,Human,Blond,183,Marvel Comics,-,good,83\\r\\n729,Yellowjacket II,Female,blue,Human,Strawberry Blond,165,Marvel Comics,-,good,52\\r\\n730,Ymir,Male,white,Frost Giant,No Hair,304.8,Marvel Comics,white,good,-99\\r\\n731,Yoda,Male,brown,Yoda's species,White,66,George Lucas,green,good,17\\r\\n732,Zatanna,Female,blue,Human,Black,170,DC Comics,-,good,57\\r\\n733,Zoom,Male,red,-,Brown,185,DC Comics,-,bad,81\"}"
            ]
          },
          "metadata": {},
          "execution_count": 3
        }
      ]
    },
    {
      "cell_type": "code",
      "source": [
        "\"\"\"1. Reading Data from file\"\"\"\n",
        "\n",
        "df = spark.read.csv(\"heroes_information - heroes_information.csv\", header = True)"
      ],
      "metadata": {
        "id": "nuAI_Wn5Wveb"
      },
      "execution_count": 11,
      "outputs": []
    },
    {
      "cell_type": "code",
      "source": [],
      "metadata": {
        "id": "Y9Q_7RdnXJkw"
      },
      "execution_count": 7,
      "outputs": []
    },
    {
      "cell_type": "code",
      "source": [
        "\"\"\"2. Show only top 10 records.\"\"\"\n",
        "\n",
        "df.show(10)"
      ],
      "metadata": {
        "colab": {
          "base_uri": "https://localhost:8080/"
        },
        "id": "kMGds0niXouE",
        "outputId": "327bb4e7-7a42-4ce9-9cd9-1096f21d7ed5"
      },
      "execution_count": 12,
      "outputs": [
        {
          "output_type": "stream",
          "name": "stdout",
          "text": [
            "+---+-------------+------+--------+-----------------+---------+------+-----------------+---------+---------+------+\n",
            "| Id|         Name|Gender|Eyecolor|             Race|Haircolor|Height|        Publisher|Skincolor|Alignment|Weight|\n",
            "+---+-------------+------+--------+-----------------+---------+------+-----------------+---------+---------+------+\n",
            "|  0|       A-Bomb|  Male|  yellow|            Human|  No Hair|   203|    Marvel Comics|        -|     good|   441|\n",
            "|  1|   Abe Sapien|  Male|    blue|    Icthyo Sapien|  No Hair|   191|Dark Horse Comics|     blue|     good|    65|\n",
            "|  2|     Abin Sur|  Male|    blue|          Ungaran|  No Hair|   185|        DC Comics|      red|     good|    90|\n",
            "|  3|  Abomination|  Male|   green|Human / Radiation|  No Hair|   203|    Marvel Comics|        -|      bad|   441|\n",
            "|  4|      Abraxas|  Male|    blue|    Cosmic Entity|    Black|   -99|    Marvel Comics|        -|      bad|   -99|\n",
            "|  5|Absorbing Man|  Male|    blue|            Human|  No Hair|   193|    Marvel Comics|        -|      bad|   122|\n",
            "|  6|  Adam Monroe|  Male|    blue|                -|    Blond|   -99|     NBC - Heroes|        -|     good|   -99|\n",
            "|  7| Adam Strange|  Male|    blue|            Human|    Blond|   185|        DC Comics|        -|     good|    88|\n",
            "|  8|     Agent 13|Female|    blue|                -|    Blond|   173|    Marvel Comics|        -|     good|    61|\n",
            "|  9|    Agent Bob|  Male|   brown|            Human|    Brown|   178|    Marvel Comics|        -|     good|    81|\n",
            "+---+-------------+------+--------+-----------------+---------+------+-----------------+---------+---------+------+\n",
            "only showing top 10 rows\n",
            "\n"
          ]
        }
      ]
    },
    {
      "cell_type": "code",
      "source": [],
      "metadata": {
        "id": "pIUcN3qnXv-7"
      },
      "execution_count": null,
      "outputs": []
    },
    {
      "cell_type": "code",
      "source": [
        "\"\"\"3. Find the count of male heroes.\"\"\"\n",
        "\n",
        "from pyspark.sql.functions import*\n",
        "\n",
        "df.filter(df.Gender == \"Male\").count()"
      ],
      "metadata": {
        "colab": {
          "base_uri": "https://localhost:8080/"
        },
        "id": "KBXuNZKZX2ko",
        "outputId": "e95a4fc5-729e-4a0d-8977-09b3988cfba4"
      },
      "execution_count": 23,
      "outputs": [
        {
          "output_type": "execute_result",
          "data": {
            "text/plain": [
              "505"
            ]
          },
          "metadata": {},
          "execution_count": 23
        }
      ]
    },
    {
      "cell_type": "code",
      "source": [],
      "metadata": {
        "id": "JZgul-jNZE40"
      },
      "execution_count": null,
      "outputs": []
    },
    {
      "cell_type": "code",
      "source": [
        "\"\"\"4. Find the count of Female heroes.\"\"\"\n",
        "\n",
        "df.filter(df.Gender == \"Female\").count()"
      ],
      "metadata": {
        "colab": {
          "base_uri": "https://localhost:8080/"
        },
        "id": "r_-1-RF7arLK",
        "outputId": "7b676acc-c06d-4459-c206-d8981424b21f"
      },
      "execution_count": 24,
      "outputs": [
        {
          "output_type": "execute_result",
          "data": {
            "text/plain": [
              "200"
            ]
          },
          "metadata": {},
          "execution_count": 24
        }
      ]
    },
    {
      "cell_type": "code",
      "source": [],
      "metadata": {
        "id": "5c5owLAoa3MS"
      },
      "execution_count": null,
      "outputs": []
    },
    {
      "cell_type": "code",
      "source": [
        "\"\"\"5. Find the count of the particular race.\"\"\"\n",
        "\n",
        "df.groupby(\"Race\").count().collect()"
      ],
      "metadata": {
        "colab": {
          "base_uri": "https://localhost:8080/"
        },
        "id": "OdekiqA4a5-3",
        "outputId": "b12d967f-ba1d-41dc-e4db-61dd6293eaa5"
      },
      "execution_count": 27,
      "outputs": [
        {
          "output_type": "execute_result",
          "data": {
            "text/plain": [
              "[Row(Race='Neyaphem', count=1),\n",
              " Row(Race='Symbiote', count=9),\n",
              " Row(Race='Kryptonian', count=7),\n",
              " Row(Race='Ungaran', count=1),\n",
              " Row(Race='Martian', count=1),\n",
              " Row(Race='Strontian', count=1),\n",
              " Row(Race='Human / Radiation', count=11),\n",
              " Row(Race='Kakarantharaian', count=1),\n",
              " Row(Race='Metahuman', count=2),\n",
              " Row(Race='Dathomirian Zabrak', count=1),\n",
              " Row(Race='Human / Cosmic', count=2),\n",
              " Row(Race='Xenomorph XX121', count=1),\n",
              " Row(Race='Animal', count=4),\n",
              " Row(Race='Frost Giant', count=2),\n",
              " Row(Race='Cyborg', count=11),\n",
              " Row(Race='Inhuman', count=4),\n",
              " Row(Race='God / Eternal', count=14),\n",
              " Row(Race=\"Yoda's species\", count=1),\n",
              " Row(Race='Icthyo Sapien', count=1),\n",
              " Row(Race='Rodian', count=1),\n",
              " Row(Race='Bolovaxian', count=1),\n",
              " Row(Race='Human / Altered', count=3),\n",
              " Row(Race='Cosmic Entity', count=4),\n",
              " Row(Race='Spartoi', count=1),\n",
              " Row(Race='Vampire', count=2),\n",
              " Row(Race='Human / Clone', count=1),\n",
              " Row(Race='-', count=304),\n",
              " Row(Race='Korugaran', count=1),\n",
              " Row(Race='Czarnian', count=1),\n",
              " Row(Race='Demon', count=6),\n",
              " Row(Race='Asgardian', count=5),\n",
              " Row(Race='Zen-Whoberian', count=1),\n",
              " Row(Race='Eternal', count=2),\n",
              " Row(Race='Luphomoid', count=1),\n",
              " Row(Race='Flora Colossus', count=1),\n",
              " Row(Race='Atlantean', count=5),\n",
              " Row(Race='Parademon', count=1),\n",
              " Row(Race='Talokite', count=1),\n",
              " Row(Race='Mutant', count=63),\n",
              " Row(Race='Gorilla', count=1),\n",
              " Row(Race='Bizarro', count=1),\n",
              " Row(Race='Human-Vulcan', count=1),\n",
              " Row(Race='Android', count=9),\n",
              " Row(Race='Mutant / Clone', count=1),\n",
              " Row(Race='Saiyan', count=2),\n",
              " Row(Race='Gungan', count=1),\n",
              " Row(Race='Alien', count=7),\n",
              " Row(Race='Human-Kree', count=2),\n",
              " Row(Race='Amazon', count=2),\n",
              " Row(Race='Tamaranean', count=1),\n",
              " Row(Race='Clone', count=1),\n",
              " Row(Race='Zombie', count=1),\n",
              " Row(Race='Planet', count=1),\n",
              " Row(Race='Human', count=208),\n",
              " Row(Race='New God', count=3),\n",
              " Row(Race='Kaiju', count=1),\n",
              " Row(Race='Human-Vuldarian', count=1),\n",
              " Row(Race='Yautja', count=1),\n",
              " Row(Race='Alpha', count=5),\n",
              " Row(Race='Maiar', count=1),\n",
              " Row(Race='Human-Spartoi', count=1),\n",
              " Row(Race='Demi-God', count=2)]"
            ]
          },
          "metadata": {},
          "execution_count": 27
        }
      ]
    },
    {
      "cell_type": "code",
      "source": [],
      "metadata": {
        "id": "ie-AjWzTbNvm"
      },
      "execution_count": null,
      "outputs": []
    },
    {
      "cell_type": "code",
      "source": [
        "\"\"\"6. Find the average height of characters in each\n",
        "publisher\"\"\"\n",
        "\n",
        "\n",
        "df.select(avg(\"Height\")).show()"
      ],
      "metadata": {
        "colab": {
          "base_uri": "https://localhost:8080/"
        },
        "id": "h1NzvPeebUq8",
        "outputId": "25a04850-31ef-49a3-a62b-a8dca6870268"
      },
      "execution_count": 29,
      "outputs": [
        {
          "output_type": "stream",
          "name": "stdout",
          "text": [
            "+------------------+\n",
            "|       avg(Height)|\n",
            "+------------------+\n",
            "|102.25408719346049|\n",
            "+------------------+\n",
            "\n"
          ]
        }
      ]
    },
    {
      "cell_type": "code",
      "source": [],
      "metadata": {
        "id": "5FNPsj1Ebkdq"
      },
      "execution_count": 28,
      "outputs": []
    },
    {
      "cell_type": "code",
      "source": [
        "\"\"\"7. Write a sql query to select superheroes with\n",
        "blue eyes\"\"\"\n",
        "\n",
        "df.filter(df.Eyecolor == \"blue\").collect()"
      ],
      "metadata": {
        "colab": {
          "base_uri": "https://localhost:8080/"
        },
        "id": "UOjt8t6xcHt_",
        "outputId": "7e458e9b-551c-4f8e-94d3-306c3bce299a"
      },
      "execution_count": 31,
      "outputs": [
        {
          "output_type": "execute_result",
          "data": {
            "text/plain": [
              "[Row(Id='1', Name='Abe Sapien', Gender='Male', Eyecolor='blue', Race='Icthyo Sapien', Haircolor='No Hair', Height='191', Publisher='Dark Horse Comics', Skincolor='blue', Alignment='good', Weight='65'),\n",
              " Row(Id='2', Name='Abin Sur', Gender='Male', Eyecolor='blue', Race='Ungaran', Haircolor='No Hair', Height='185', Publisher='DC Comics', Skincolor='red', Alignment='good', Weight='90'),\n",
              " Row(Id='4', Name='Abraxas', Gender='Male', Eyecolor='blue', Race='Cosmic Entity', Haircolor='Black', Height='-99', Publisher='Marvel Comics', Skincolor='-', Alignment='bad', Weight='-99'),\n",
              " Row(Id='5', Name='Absorbing Man', Gender='Male', Eyecolor='blue', Race='Human', Haircolor='No Hair', Height='193', Publisher='Marvel Comics', Skincolor='-', Alignment='bad', Weight='122'),\n",
              " Row(Id='6', Name='Adam Monroe', Gender='Male', Eyecolor='blue', Race='-', Haircolor='Blond', Height='-99', Publisher='NBC - Heroes', Skincolor='-', Alignment='good', Weight='-99'),\n",
              " Row(Id='7', Name='Adam Strange', Gender='Male', Eyecolor='blue', Race='Human', Haircolor='Blond', Height='185', Publisher='DC Comics', Skincolor='-', Alignment='good', Weight='88'),\n",
              " Row(Id='8', Name='Agent 13', Gender='Female', Eyecolor='blue', Race='-', Haircolor='Blond', Height='173', Publisher='Marvel Comics', Skincolor='-', Alignment='good', Weight='61'),\n",
              " Row(Id='11', Name='Air-Walker', Gender='Male', Eyecolor='blue', Race='-', Haircolor='White', Height='188', Publisher='Marvel Comics', Skincolor='-', Alignment='bad', Weight='108'),\n",
              " Row(Id='13', Name='Alan Scott', Gender='Male', Eyecolor='blue', Race='-', Haircolor='Blond', Height='180', Publisher='DC Comics', Skincolor='-', Alignment='good', Weight='90'),\n",
              " Row(Id='16', Name='Alfred Pennyworth', Gender='Male', Eyecolor='blue', Race='Human', Haircolor='Black', Height='178', Publisher='DC Comics', Skincolor='-', Alignment='good', Weight='72'),\n",
              " Row(Id='22', Name='Angel', Gender='Male', Eyecolor='blue', Race='-', Haircolor='Blond', Height='183', Publisher='Marvel Comics', Skincolor='-', Alignment='good', Weight='68'),\n",
              " Row(Id='27', Name='Animal Man', Gender='Male', Eyecolor='blue', Race='Human', Haircolor='Blond', Height='183', Publisher='DC Comics', Skincolor='-', Alignment='good', Weight='83'),\n",
              " Row(Id='29', Name='Ant-Man', Gender='Male', Eyecolor='blue', Race='Human', Haircolor='Blond', Height='211', Publisher='Marvel Comics', Skincolor='-', Alignment='good', Weight='122'),\n",
              " Row(Id='30', Name='Ant-Man II', Gender='Male', Eyecolor='blue', Race='Human', Haircolor='Blond', Height='183', Publisher='Marvel Comics', Skincolor='-', Alignment='good', Weight='86'),\n",
              " Row(Id='33', Name='Anti-Venom', Gender='Male', Eyecolor='blue', Race='Symbiote', Haircolor='Blond', Height='229', Publisher='Marvel Comics', Skincolor='-', Alignment='-', Weight='358'),\n",
              " Row(Id='35', Name='Aquababy', Gender='Male', Eyecolor='blue', Race='-', Haircolor='Blond', Height='-99', Publisher='DC Comics', Skincolor='-', Alignment='good', Weight='-99'),\n",
              " Row(Id='36', Name='Aqualad', Gender='Male', Eyecolor='blue', Race='Atlantean', Haircolor='Black', Height='178', Publisher='DC Comics', Skincolor='-', Alignment='good', Weight='106'),\n",
              " Row(Id='37', Name='Aquaman', Gender='Male', Eyecolor='blue', Race='Atlantean', Haircolor='Blond', Height='185', Publisher='DC Comics', Skincolor='-', Alignment='good', Weight='146'),\n",
              " Row(Id='38', Name='Arachne', Gender='Female', Eyecolor='blue', Race='Human', Haircolor='Blond', Height='175', Publisher='Marvel Comics', Skincolor='-', Alignment='good', Weight='63'),\n",
              " Row(Id='39', Name='Archangel', Gender='Male', Eyecolor='blue', Race='Mutant', Haircolor='Blond', Height='183', Publisher='Marvel Comics', Skincolor='blue', Alignment='good', Weight='68'),\n",
              " Row(Id='48', Name='Atlas', Gender='Male', Eyecolor='blue', Race='God / Eternal', Haircolor='Brown', Height='198', Publisher='DC Comics', Skincolor='-', Alignment='bad', Weight='126'),\n",
              " Row(Id='49', Name='Atom', Gender='Male', Eyecolor='blue', Race='-', Haircolor='Red', Height='178', Publisher='DC Comics', Skincolor='-', Alignment='good', Weight='68'),\n",
              " Row(Id='55', Name='Aurora', Gender='Female', Eyecolor='blue', Race='Mutant', Haircolor='Black', Height='180', Publisher='Marvel Comics', Skincolor='-', Alignment='good', Weight='63'),\n",
              " Row(Id='67', Name='Batgirl VI', Gender='Female', Eyecolor='blue', Race='-', Haircolor='Blond', Height='168', Publisher='DC Comics', Skincolor='-', Alignment='good', Weight='61'),\n",
              " Row(Id='68', Name='Batman', Gender='Male', Eyecolor='blue', Race='Human', Haircolor='black', Height='188', Publisher='DC Comics', Skincolor='-', Alignment='good', Weight='95'),\n",
              " Row(Id='69', Name='Batman', Gender='Male', Eyecolor='blue', Race='Human', Haircolor='Black', Height='178', Publisher='DC Comics', Skincolor='-', Alignment='good', Weight='77'),\n",
              " Row(Id='70', Name='Batman II', Gender='Male', Eyecolor='blue', Race='Human', Haircolor='Black', Height='178', Publisher='DC Comics', Skincolor='-', Alignment='good', Weight='79'),\n",
              " Row(Id='74', Name='Beast', Gender='Male', Eyecolor='blue', Race='Mutant', Haircolor='Blue', Height='180', Publisher='Marvel Comics', Skincolor='blue', Alignment='good', Weight='181'),\n",
              " Row(Id='80', Name='Big Barda', Gender='Female', Eyecolor='blue', Race='New God', Haircolor='Black', Height='188', Publisher='DC Comics', Skincolor='-', Alignment='bad', Weight='135'),\n",
              " Row(Id='82', Name='Big Man', Gender='Male', Eyecolor='blue', Race='-', Haircolor='Brown', Height='165', Publisher='Marvel Comics', Skincolor='-', Alignment='bad', Weight='71'),\n",
              " Row(Id='85', Name='Binary', Gender='Female', Eyecolor='blue', Race='-', Haircolor='Blond', Height='180', Publisher='Marvel Comics', Skincolor='-', Alignment='good', Weight='54'),\n",
              " Row(Id='86', Name='Bionic Woman', Gender='Female', Eyecolor='blue', Race='Cyborg', Haircolor='Black', Height='-99', Publisher=None, Skincolor='-', Alignment='good', Weight='-99'),\n",
              " Row(Id='95', Name='Black Bolt', Gender='Male', Eyecolor='blue', Race='Inhuman', Haircolor='Black', Height='188', Publisher='Marvel Comics', Skincolor='-', Alignment='good', Weight='95'),\n",
              " Row(Id='96', Name='Black Canary', Gender='Female', Eyecolor='blue', Race='Human', Haircolor='Blond', Height='165', Publisher='DC Comics', Skincolor='-', Alignment='good', Weight='58'),\n",
              " Row(Id='97', Name='Black Canary', Gender='Female', Eyecolor='blue', Race='Metahuman', Haircolor='Blond', Height='170', Publisher='DC Comics', Skincolor='-', Alignment='good', Weight='59'),\n",
              " Row(Id='107', Name='Black Widow II', Gender='Female', Eyecolor='blue', Race='-', Haircolor='Blond', Height='170', Publisher='Marvel Comics', Skincolor='-', Alignment='good', Weight='61'),\n",
              " Row(Id='109', Name='Blackwing', Gender='Male', Eyecolor='blue', Race='-', Haircolor='Black', Height='185', Publisher='Marvel Comics', Skincolor='-', Alignment='bad', Weight='86'),\n",
              " Row(Id='119', Name='Bloodaxe', Gender='Female', Eyecolor='blue', Race='Human', Haircolor='Brown', Height='218', Publisher='Marvel Comics', Skincolor='-', Alignment='bad', Weight='495'),\n",
              " Row(Id='122', Name='Blue Beetle', Gender='Male', Eyecolor='blue', Race='-', Haircolor='Brown', Height='-99', Publisher='DC Comics', Skincolor='-', Alignment='good', Weight='-99'),\n",
              " Row(Id='124', Name='Blue Beetle II', Gender='Male', Eyecolor='blue', Race='-', Haircolor='Brown', Height='183', Publisher='DC Comics', Skincolor='-', Alignment='good', Weight='86'),\n",
              " Row(Id='129', Name='Boom-Boom', Gender='Female', Eyecolor='blue', Race='Mutant', Haircolor='Blond', Height='165', Publisher='Marvel Comics', Skincolor='-', Alignment='good', Weight='55'),\n",
              " Row(Id='131', Name='Booster Gold', Gender='Male', Eyecolor='blue', Race='Human', Haircolor='Blond', Height='196', Publisher='DC Comics', Skincolor='-', Alignment='good', Weight='97'),\n",
              " Row(Id='133', Name='Box III', Gender='-', Eyecolor='blue', Race='-', Haircolor='Blond', Height='193', Publisher='Marvel Comics', Skincolor='-', Alignment='good', Weight='110'),\n",
              " Row(Id='140', Name='Bullseye', Gender='Male', Eyecolor='blue', Race='Human', Haircolor='blond', Height='183', Publisher='Marvel Comics', Skincolor='-', Alignment='bad', Weight='90'),\n",
              " Row(Id='144', Name='Cable', Gender='Male', Eyecolor='blue', Race='Mutant', Haircolor='White', Height='203', Publisher='Marvel Comics', Skincolor='-', Alignment='good', Weight='158'),\n",
              " Row(Id='145', Name='Callisto', Gender='Female', Eyecolor='blue', Race='-', Haircolor='Black', Height='175', Publisher='Marvel Comics', Skincolor='-', Alignment='bad', Weight='74'),\n",
              " Row(Id='147', Name='Cannonball', Gender='Male', Eyecolor='blue', Race='-', Haircolor='Blond', Height='183', Publisher='Marvel Comics', Skincolor='-', Alignment='good', Weight='81'),\n",
              " Row(Id='148', Name='Captain America', Gender='Male', Eyecolor='blue', Race='Human', Haircolor='blond', Height='188', Publisher='Marvel Comics', Skincolor='-', Alignment='good', Weight='108'),\n",
              " Row(Id='149', Name='Captain Atom', Gender='Male', Eyecolor='blue', Race='Human / Radiation', Haircolor='Silver', Height='193', Publisher='DC Comics', Skincolor='silver', Alignment='good', Weight='90'),\n",
              " Row(Id='150', Name='Captain Britain', Gender='Male', Eyecolor='blue', Race='Human', Haircolor='Blond', Height='198', Publisher='Marvel Comics', Skincolor='-', Alignment='good', Weight='116'),\n",
              " Row(Id='152', Name='Captain Epic', Gender='Male', Eyecolor='blue', Race='-', Haircolor='Brown', Height='188', Publisher='Team Epic TV', Skincolor='-', Alignment='good', Weight='-99'),\n",
              " Row(Id='154', Name='Captain Mar-vell', Gender='Male', Eyecolor='blue', Race='-', Haircolor='Blond', Height='188', Publisher='Marvel Comics', Skincolor='-', Alignment='good', Weight='108'),\n",
              " Row(Id='155', Name='Captain Marvel', Gender='Female', Eyecolor='blue', Race='Human-Kree', Haircolor='Blond', Height='180', Publisher='Marvel Comics', Skincolor='-', Alignment='good', Weight='74'),\n",
              " Row(Id='156', Name='Captain Marvel', Gender='Male', Eyecolor='blue', Race='Human', Haircolor='Black', Height='193', Publisher='DC Comics', Skincolor='-', Alignment='good', Weight='101'),\n",
              " Row(Id='157', Name='Captain Marvel II', Gender='Male', Eyecolor='blue', Race='Human', Haircolor='Black', Height='175', Publisher='DC Comics', Skincolor='-', Alignment='good', Weight='74'),\n",
              " Row(Id='162', Name='Cat', Gender='Female', Eyecolor='blue', Race='-', Haircolor='Blond', Height='173', Publisher='Marvel Comics', Skincolor='-', Alignment='good', Weight='61'),\n",
              " Row(Id='177', Name='Claire Bennet', Gender='Female', Eyecolor='blue', Race='-', Haircolor='Blond', Height='-99', Publisher='NBC - Heroes', Skincolor='-', Alignment='good', Weight='-99'),\n",
              " Row(Id='180', Name='Clock King', Gender='Male', Eyecolor='blue', Race='Human', Haircolor='Black', Height='178', Publisher='DC Comics', Skincolor='-', Alignment='bad', Weight='78'),\n",
              " Row(Id='188', Name='Crimson Crusader', Gender='Male', Eyecolor='blue', Race='-', Haircolor='Strawberry Blond', Height='-99', Publisher='Marvel Comics', Skincolor='-', Alignment='good', Weight='-99'),\n",
              " Row(Id='194', Name='Cyborg Superman', Gender='Male', Eyecolor='blue', Race='Cyborg', Haircolor='Black', Height='-99', Publisher='DC Comics', Skincolor='-', Alignment='bad', Weight='-99'),\n",
              " Row(Id='196', Name='Cypher', Gender='-', Eyecolor='blue', Race='-', Haircolor='Blond', Height='175', Publisher='Marvel Comics', Skincolor='-', Alignment='good', Weight='68'),\n",
              " Row(Id='197', Name='Dagger', Gender='Female', Eyecolor='blue', Race='-', Haircolor='Blond', Height='165', Publisher='Marvel Comics', Skincolor='-', Alignment='good', Weight='52'),\n",
              " Row(Id='200', Name='Daredevil', Gender='Male', Eyecolor='blue', Race='Human', Haircolor='Red', Height='183', Publisher='Marvel Comics', Skincolor='-', Alignment='good', Weight='90'),\n",
              " Row(Id='208', Name='Dash', Gender='Male', Eyecolor='blue', Race='Human', Haircolor='Blond', Height='122', Publisher='Dark Horse Comics', Skincolor='-', Alignment='good', Weight='27'),\n",
              " Row(Id='210', Name='Dazzler', Gender='Female', Eyecolor='blue', Race='Mutant', Haircolor='Blond', Height='173', Publisher='Marvel Comics', Skincolor='-', Alignment='good', Weight='52'),\n",
              " Row(Id='211', Name='Deadman', Gender='Male', Eyecolor='blue', Race='Human', Haircolor='Black', Height='183', Publisher='DC Comics', Skincolor='-', Alignment='good', Weight='90'),\n",
              " Row(Id='215', Name='Deathstroke', Gender='Male', Eyecolor='blue', Race='Human', Haircolor='White', Height='193', Publisher='DC Comics', Skincolor='-', Alignment='neutral', Weight='101'),\n",
              " Row(Id='220', Name='Doc Samson', Gender='Male', Eyecolor='blue', Race='Human / Radiation', Haircolor='Green', Height='198', Publisher='Marvel Comics', Skincolor='-', Alignment='good', Weight='171'),\n",
              " Row(Id='223', Name='Doctor Fate', Gender='Male', Eyecolor='blue', Race='Human', Haircolor='Blond', Height='188', Publisher='DC Comics', Skincolor='-', Alignment='good', Weight='89'),\n",
              " Row(Id='226', Name='Domino', Gender='Female', Eyecolor='blue', Race='Human', Haircolor='Black', Height='173', Publisher='Marvel Comics', Skincolor='white', Alignment='good', Weight='54'),\n",
              " Row(Id='228', Name='Donna Troy', Gender='Female', Eyecolor='blue', Race='Amazon', Haircolor='Black', Height='175', Publisher='DC Comics', Skincolor='-', Alignment='good', Weight='63'),\n",
              " Row(Id='236', Name='Electro', Gender='Male', Eyecolor='blue', Race='Human', Haircolor='Auburn', Height='180', Publisher='Marvel Comics', Skincolor='-', Alignment='bad', Weight='74'),\n",
              " Row(Id='237', Name='Elektra', Gender='Female', Eyecolor='blue', Race='Human', Haircolor='Black', Height='175', Publisher='Marvel Comics', Skincolor='-', Alignment='good', Weight='59'),\n",
              " Row(Id='238', Name='Elle Bishop', Gender='Female', Eyecolor='blue', Race='-', Haircolor='Blond', Height='-99', Publisher='NBC - Heroes', Skincolor='-', Alignment='bad', Weight='-99'),\n",
              " Row(Id='239', Name='Elongated Man', Gender='Male', Eyecolor='blue', Race='-', Haircolor='Red', Height='185', Publisher='DC Comics', Skincolor='-', Alignment='good', Weight='80'),\n",
              " Row(Id='240', Name='Emma Frost', Gender='Female', Eyecolor='blue', Race='-', Haircolor='Blond', Height='178', Publisher='Marvel Comics', Skincolor='-', Alignment='good', Weight='65'),\n",
              " Row(Id='241', Name='Enchantress', Gender='Female', Eyecolor='blue', Race='Human', Haircolor='Blond', Height='168', Publisher='DC Comics', Skincolor='-', Alignment='good', Weight='57'),\n",
              " Row(Id='248', Name='Exodus', Gender='Male', Eyecolor='blue', Race='Mutant', Haircolor='Black', Height='183', Publisher='Marvel Comics', Skincolor='red', Alignment='bad', Weight='88'),\n",
              " Row(Id='249', Name='Fabian Cortez', Gender='-', Eyecolor='blue', Race='-', Haircolor='Brown', Height='196', Publisher='Marvel Comics', Skincolor='-', Alignment='bad', Weight='96'),\n",
              " Row(Id='260', Name='Firestorm', Gender='Male', Eyecolor='blue', Race='Human', Haircolor='Auburn', Height='188', Publisher='DC Comics', Skincolor='-', Alignment='good', Weight='91'),\n",
              " Row(Id='262', Name='Flash', Gender='Male', Eyecolor='blue', Race='Human', Haircolor='Brown / White', Height='180', Publisher='DC Comics', Skincolor='-', Alignment='good', Weight='81'),\n",
              " Row(Id='264', Name='Flash II', Gender='Male', Eyecolor='blue', Race='Human', Haircolor='Blond', Height='183', Publisher='DC Comics', Skincolor='-', Alignment='good', Weight='88'),\n",
              " Row(Id='268', Name='Franklin Richards', Gender='Male', Eyecolor='blue', Race='Mutant', Haircolor='Blond', Height='142', Publisher='Marvel Comics', Skincolor='-', Alignment='good', Weight='45'),\n",
              " Row(Id='269', Name='Franklin Storm', Gender='-', Eyecolor='blue', Race='-', Haircolor='Grey', Height='188', Publisher='Marvel Comics', Skincolor='-', Alignment='good', Weight='92'),\n",
              " Row(Id='271', Name='Frigga', Gender='Female', Eyecolor='blue', Race='-', Haircolor='White', Height='180', Publisher='Marvel Comics', Skincolor='-', Alignment='good', Weight='167'),\n",
              " Row(Id='278', Name='Genesis', Gender='Male', Eyecolor='blue', Race='-', Haircolor='Blond', Height='185', Publisher='Marvel Comics', Skincolor='-', Alignment='good', Weight='86'),\n",
              " Row(Id='284', Name='Gladiator', Gender='Male', Eyecolor='blue', Race='Strontian', Haircolor='Blue', Height='198', Publisher='Marvel Comics', Skincolor='purple', Alignment='neutral', Weight='268'),\n",
              " Row(Id='294', Name='Granny Goodness', Gender='Female', Eyecolor='blue', Race='-', Haircolor='White', Height='178', Publisher='DC Comics', Skincolor='-', Alignment='bad', Weight='115'),\n",
              " Row(Id='295', Name='Gravity', Gender='Male', Eyecolor='blue', Race='Human', Haircolor='Brown', Height='178', Publisher='Marvel Comics', Skincolor='-', Alignment='good', Weight='79'),\n",
              " Row(Id='298', Name='Green Goblin', Gender='Male', Eyecolor='blue', Race='Human', Haircolor='Auburn', Height='180', Publisher='Marvel Comics', Skincolor='-', Alignment='bad', Weight='83'),\n",
              " Row(Id='299', Name='Green Goblin II', Gender='Male', Eyecolor='blue', Race='-', Haircolor='Auburn', Height='178', Publisher='Marvel Comics', Skincolor='-', Alignment='bad', Weight='77'),\n",
              " Row(Id='304', Name='Guy Gardner', Gender='Male', Eyecolor='blue', Race='Human-Vuldarian', Haircolor='Red', Height='188', Publisher='DC Comics', Skincolor='-', Alignment='good', Weight='95'),\n",
              " Row(Id='308', Name='Harley Quinn', Gender='Female', Eyecolor='blue', Race='Human', Haircolor='Blond', Height='170', Publisher='DC Comics', Skincolor='-', Alignment='bad', Weight='63'),\n",
              " Row(Id='310', Name='Havok', Gender='Male', Eyecolor='blue', Race='Mutant', Haircolor='Blond', Height='183', Publisher='Marvel Comics', Skincolor='-', Alignment='good', Weight='79'),\n",
              " Row(Id='312', Name='Hawkeye', Gender='Male', Eyecolor='blue', Race='Human', Haircolor='Blond', Height='191', Publisher='Marvel Comics', Skincolor='-', Alignment='good', Weight='104'),\n",
              " Row(Id='313', Name='Hawkeye II', Gender='Female', Eyecolor='blue', Race='Human', Haircolor='Black', Height='165', Publisher='Marvel Comics', Skincolor='-', Alignment='good', Weight='57'),\n",
              " Row(Id='315', Name='Hawkman', Gender='Male', Eyecolor='blue', Race='-', Haircolor='Brown', Height='185', Publisher='DC Comics', Skincolor='-', Alignment='good', Weight='88'),\n",
              " Row(Id='318', Name='Hawkwoman III', Gender='Female', Eyecolor='blue', Race='-', Haircolor='Red', Height='170', Publisher='DC Comics', Skincolor='-', Alignment='good', Weight='65'),\n",
              " Row(Id='319', Name='Heat Wave', Gender='Male', Eyecolor='blue', Race='Human', Haircolor='No Hair', Height='180', Publisher='DC Comics', Skincolor='-', Alignment='bad', Weight='81'),\n",
              " Row(Id='322', Name='Hellcat', Gender='Female', Eyecolor='blue', Race='Human', Haircolor='Red', Height='173', Publisher='Marvel Comics', Skincolor='-', Alignment='good', Weight='61'),\n",
              " Row(Id='324', Name='Hercules', Gender='Male', Eyecolor='blue', Race='Demi-God', Haircolor='Brown', Height='196', Publisher='Marvel Comics', Skincolor='-', Alignment='good', Weight='146'),\n",
              " Row(Id='327', Name='Hobgoblin', Gender='Male', Eyecolor='blue', Race='-', Haircolor='Grey', Height='180', Publisher='Marvel Comics', Skincolor='-', Alignment='bad', Weight='83'),\n",
              " Row(Id='328', Name='Hollow', Gender='Female', Eyecolor='blue', Race='-', Haircolor='Red', Height='170', Publisher='Marvel Comics', Skincolor='-', Alignment='good', Weight='-99'),\n",
              " Row(Id='332', Name='Human Torch', Gender='Male', Eyecolor='blue', Race='Human / Radiation', Haircolor='Blond', Height='178', Publisher='Marvel Comics', Skincolor='-', Alignment='good', Weight='77'),\n",
              " Row(Id='333', Name='Huntress', Gender='Female', Eyecolor='blue', Race='-', Haircolor='Black', Height='180', Publisher='DC Comics', Skincolor='-', Alignment='good', Weight='59'),\n",
              " Row(Id='334', Name='Husk', Gender='Female', Eyecolor='blue', Race='Mutant', Haircolor='Blond', Height='170', Publisher='Marvel Comics', Skincolor='-', Alignment='good', Weight='58'),\n",
              " Row(Id='337', Name='Hyperion', Gender='Male', Eyecolor='blue', Race='Eternal', Haircolor='Red', Height='183', Publisher='Marvel Comics', Skincolor='-', Alignment='good', Weight='207'),\n",
              " Row(Id='342', Name='Ink', Gender='Male', Eyecolor='blue', Race='Mutant', Haircolor='No Hair', Height='180', Publisher='Marvel Comics', Skincolor='-', Alignment='good', Weight='81'),\n",
              " Row(Id='343', Name='Invisible Woman', Gender='Female', Eyecolor='blue', Race='Human / Radiation', Haircolor='Blond', Height='168', Publisher='Marvel Comics', Skincolor='-', Alignment='good', Weight='54'),\n",
              " Row(Id='344', Name='Iron Fist', Gender='Male', Eyecolor='blue', Race='Human', Haircolor='Blond', Height='180', Publisher='Marvel Comics', Skincolor='-', Alignment='good', Weight='79'),\n",
              " Row(Id='345', Name='Iron Man', Gender='Male', Eyecolor='blue', Race='Human', Haircolor='Black', Height='198', Publisher='Marvel Comics', Skincolor='-', Alignment='good', Weight='191'),\n",
              " Row(Id='346', Name='Iron Monger', Gender='Male', Eyecolor='blue', Race='-', Haircolor='No Hair', Height='-99', Publisher='Marvel Comics', Skincolor='-', Alignment='bad', Weight='2'),\n",
              " Row(Id='350', Name='Jack-Jack', Gender='Male', Eyecolor='blue', Race='Human', Haircolor='Brown', Height='71', Publisher='Dark Horse Comics', Skincolor='-', Alignment='good', Weight='14'),\n",
              " Row(Id='351', Name='James Bond', Gender='Male', Eyecolor='blue', Race='Human', Haircolor='Blond', Height='183', Publisher='Titan Books', Skincolor='-', Alignment='good', Weight='-99'),\n",
              " Row(Id='357', Name='Jennifer Kale', Gender='Female', Eyecolor='blue', Race='-', Haircolor='Blond', Height='168', Publisher='Marvel Comics', Skincolor='-', Alignment='good', Weight='55'),\n",
              " Row(Id='362', Name='Jigsaw', Gender='Male', Eyecolor='blue', Race='-', Haircolor='Black', Height='188', Publisher='Marvel Comics', Skincolor='-', Alignment='bad', Weight='113'),\n",
              " Row(Id='366', Name='John Constantine', Gender='Male', Eyecolor='blue', Race='Human', Haircolor='Blond', Height='183', Publisher='DC Comics', Skincolor='-', Alignment='good', Weight='-99'),\n",
              " Row(Id='370', Name='Jolt', Gender='Female', Eyecolor='blue', Race='-', Haircolor='Black', Height='165', Publisher='Marvel Comics', Skincolor='-', Alignment='good', Weight='49'),\n",
              " Row(Id='373', Name='Juggernaut', Gender='Male', Eyecolor='blue', Race='Human', Haircolor='Red', Height='287', Publisher='Marvel Comics', Skincolor='-', Alignment='neutral', Weight='855'),\n",
              " Row(Id='383', Name='Kick-Ass', Gender='Male', Eyecolor='blue', Race='Human', Haircolor='Blond', Height='-99', Publisher='Icon Comics', Skincolor='-', Alignment='good', Weight='-99'),\n",
              " Row(Id='387', Name='Killer Frost', Gender='Female', Eyecolor='blue', Race='Human', Haircolor='Blond', Height='-99', Publisher='DC Comics', Skincolor='blue', Alignment='bad', Weight='-99'),\n",
              " Row(Id='391', Name='Kingpin', Gender='Male', Eyecolor='blue', Race='Human', Haircolor='No Hair', Height='201', Publisher='Marvel Comics', Skincolor='-', Alignment='bad', Weight='203'),\n",
              " Row(Id='396', Name='Krypto', Gender='Male', Eyecolor='blue', Race='Kryptonian', Haircolor='White', Height='64', Publisher='DC Comics', Skincolor='-', Alignment='good', Weight='18'),\n",
              " Row(Id='404', Name='Leonardo', Gender='Male', Eyecolor='blue', Race='Mutant', Haircolor='No Hair', Height='-99', Publisher='IDW Publishing', Skincolor='green', Alignment='good', Weight='-99'),\n",
              " Row(Id='406', Name='Light Lass', Gender='Female', Eyecolor='blue', Race='-', Haircolor='Red', Height='165', Publisher='DC Comics', Skincolor='-', Alignment='good', Weight='54'),\n",
              " Row(Id='407', Name='Lightning Lad', Gender='Male', Eyecolor='blue', Race='-', Haircolor='Red', Height='155', Publisher='DC Comics', Skincolor='-', Alignment='good', Weight='65'),\n",
              " Row(Id='408', Name='Lightning Lord', Gender='Male', Eyecolor='blue', Race='-', Haircolor='Red', Height='191', Publisher='DC Comics', Skincolor='-', Alignment='bad', Weight='95'),\n",
              " Row(Id='410', Name='Living Tribunal', Gender='-', Eyecolor='blue', Race='Cosmic Entity', Haircolor='No Hair', Height='-99', Publisher='Marvel Comics', Skincolor='gold', Alignment='neutral', Weight='-99'),\n",
              " Row(Id='415', Name='Longshot', Gender='Male', Eyecolor='blue', Race='Human', Haircolor='Blond', Height='188', Publisher='Marvel Comics', Skincolor='-', Alignment='good', Weight='36'),\n",
              " Row(Id='418', Name='Luke Skywalker', Gender='Male', Eyecolor='blue', Race='Human', Haircolor='Blond', Height='168', Publisher='George Lucas', Skincolor='-', Alignment='good', Weight='77'),\n",
              " Row(Id='424', Name='Magog', Gender='Male', Eyecolor='blue', Race='-', Haircolor='Blond', Height='-99', Publisher='DC Comics', Skincolor='-', Alignment='good', Weight='-99'),\n",
              " Row(Id='426', Name='Man of Miracles', Gender='-', Eyecolor='blue', Race='God / Eternal', Haircolor='Silver', Height='-99', Publisher='Image Comics', Skincolor='-', Alignment='-', Weight='-99'),\n",
              " Row(Id='430', Name='Mandarin', Gender='Male', Eyecolor='blue', Race='Human', Haircolor='White', Height='188', Publisher='Marvel Comics', Skincolor='-', Alignment='bad', Weight='97'),\n",
              " Row(Id='434', Name='Master Brood', Gender='Male', Eyecolor='blue', Race='-', Haircolor='Black', Height='183', Publisher='Team Epic TV', Skincolor='-', Alignment='good', Weight='81'),\n",
              " Row(Id='438', Name='Maverick', Gender='Male', Eyecolor='blue', Race='-', Haircolor='Black', Height='193', Publisher='Marvel Comics', Skincolor='-', Alignment='good', Weight='110'),\n",
              " Row(Id='442', Name='Meltdown', Gender='Female', Eyecolor='blue', Race='-', Haircolor='Blond', Height='165', Publisher='Marvel Comics', Skincolor='-', Alignment='good', Weight='54'),\n",
              " Row(Id='444', Name='Mera', Gender='Female', Eyecolor='blue', Race='Atlantean', Haircolor='Red', Height='175', Publisher='DC Comics', Skincolor='-', Alignment='good', Weight='72'),\n",
              " Row(Id='448', Name='Metron', Gender='Male', Eyecolor='blue', Race='-', Haircolor='Black', Height='185', Publisher='DC Comics', Skincolor='-', Alignment='good', Weight='86'),\n",
              " Row(Id='450', Name='Michelangelo', Gender='Male', Eyecolor='blue', Race='Mutant', Haircolor='-', Height='-99', Publisher='IDW Publishing', Skincolor='green', Alignment='good', Weight='-99'),\n",
              " Row(Id='454', Name='Misfit', Gender='Female', Eyecolor='blue', Race='-', Haircolor='Red', Height='-99', Publisher='DC Comics', Skincolor='-', Alignment='good', Weight='-99'),\n",
              " Row(Id='458', Name='Mister Knife', Gender='Male', Eyecolor='blue', Race='Spartoi', Haircolor='Brown', Height='-99', Publisher='Marvel Comics', Skincolor='-', Alignment='bad', Weight='-99'),\n",
              " Row(Id='461', Name='Mister Zsasz', Gender='Male', Eyecolor='blue', Race='Human', Haircolor='Blond', Height='-99', Publisher='DC Comics', Skincolor='-', Alignment='bad', Weight='-99'),\n",
              " Row(Id='462', Name='Mockingbird', Gender='Female', Eyecolor='blue', Race='Human', Haircolor='Blond', Height='175', Publisher='Marvel Comics', Skincolor='-', Alignment='good', Weight='61'),\n",
              " Row(Id='468', Name='Monarch', Gender='Male', Eyecolor='blue', Race='-', Haircolor='White', Height='193', Publisher='DC Comics', Skincolor='-', Alignment='good', Weight='90'),\n",
              " Row(Id='471', Name='Moonstone', Gender='Female', Eyecolor='blue', Race='-', Haircolor='Blond', Height='180', Publisher='Marvel Comics', Skincolor='-', Alignment='bad', Weight='59'),\n",
              " Row(Id='475', Name='Mr Immortal', Gender='Male', Eyecolor='blue', Race='Mutant', Haircolor='Blond', Height='188', Publisher='Marvel Comics', Skincolor='-', Alignment='good', Weight='70'),\n",
              " Row(Id='476', Name='Mr Incredible', Gender='Male', Eyecolor='blue', Race='Human', Haircolor='Blond', Height='201', Publisher='Dark Horse Comics', Skincolor='-', Alignment='good', Weight='158'),\n",
              " Row(Id='477', Name='Ms Marvel II', Gender='Female', Eyecolor='blue', Race='-', Haircolor='Red', Height='173', Publisher='Marvel Comics', Skincolor='-', Alignment='good', Weight='61'),\n",
              " Row(Id='478', Name='Multiple Man', Gender='Male', Eyecolor='blue', Race='-', Haircolor='Brown', Height='180', Publisher='Marvel Comics', Skincolor='-', Alignment='good', Weight='70'),\n",
              " Row(Id='483', Name='Namora', Gender='Female', Eyecolor='blue', Race='-', Haircolor='Blond', Height='180', Publisher='Marvel Comics', Skincolor='-', Alignment='good', Weight='85'),\n",
              " Row(Id='484', Name='Namorita', Gender='Female', Eyecolor='blue', Race='-', Haircolor='Blond', Height='168', Publisher='Marvel Comics', Skincolor='-', Alignment='good', Weight='101'),\n",
              " Row(Id='487', Name='Nebula', Gender='Female', Eyecolor='blue', Race='Luphomoid', Haircolor='No Hair', Height='185', Publisher='Marvel Comics', Skincolor='blue', Alignment='bad', Weight='83'),\n",
              " Row(Id='491', Name='Nightwing', Gender='Male', Eyecolor='blue', Race='Human', Haircolor='Black', Height='178', Publisher='DC Comics', Skincolor='-', Alignment='good', Weight='79'),\n",
              " Row(Id='492', Name='Niki Sanders', Gender='Female', Eyecolor='blue', Race='-', Haircolor='Blond', Height='-99', Publisher='NBC - Heroes', Skincolor='-', Alignment='good', Weight='-99'),\n",
              " Row(Id='495', Name='Northstar', Gender='Male', Eyecolor='blue', Race='-', Haircolor='Black', Height='180', Publisher='Marvel Comics', Skincolor='-', Alignment='good', Weight='83'),\n",
              " Row(Id='498', Name='Odin', Gender='Male', Eyecolor='blue', Race='God / Eternal', Haircolor='White', Height='206', Publisher='Marvel Comics', Skincolor='-', Alignment='good', Weight='293'),\n",
              " Row(Id='505', Name='Oracle', Gender='Female', Eyecolor='blue', Race='Human', Haircolor='Red', Height='178', Publisher='DC Comics', Skincolor='-', Alignment='good', Weight='59'),\n",
              " Row(Id='508', Name='Ozymandias', Gender='Male', Eyecolor='blue', Race='Human', Haircolor='Blond', Height='-99', Publisher='DC Comics', Skincolor='-', Alignment='bad', Weight='-99'),\n",
              " Row(Id='513', Name='Penance II', Gender='Male', Eyecolor='blue', Race='-', Haircolor='Blond', Height='183', Publisher='Marvel Comics', Skincolor='-', Alignment='good', Weight='89'),\n",
              " Row(Id='514', Name='Penguin', Gender='Male', Eyecolor='blue', Race='Human', Haircolor='Black', Height='157', Publisher='DC Comics', Skincolor='-', Alignment='bad', Weight='79'),\n",
              " Row(Id='517', Name='Phantom Girl', Gender='Female', Eyecolor='blue', Race='-', Haircolor='Black', Height='168', Publisher='DC Comics', Skincolor='-', Alignment='good', Weight='54'),\n",
              " Row(Id='521', Name='Plastic Man', Gender='Male', Eyecolor='blue', Race='Human', Haircolor='Black', Height='185', Publisher='DC Comics', Skincolor='-', Alignment='good', Weight='80'),\n",
              " Row(Id='522', Name='Plastique', Gender='Female', Eyecolor='blue', Race='-', Haircolor='Red', Height='168', Publisher='DC Comics', Skincolor='-', Alignment='bad', Weight='55'),\n",
              " Row(Id='525', Name='Power Girl', Gender='Female', Eyecolor='blue', Race='Kryptonian', Haircolor='blond', Height='180', Publisher='DC Comics', Skincolor='-', Alignment='good', Weight='81'),\n",
              " Row(Id='528', Name='Professor X', Gender='Male', Eyecolor='blue', Race='Mutant', Haircolor='No Hair', Height='183', Publisher='Marvel Comics', Skincolor='-', Alignment='good', Weight='86'),\n",
              " Row(Id='529', Name='Professor Zoom', Gender='Male', Eyecolor='blue', Race='Human', Haircolor='Strawberry Blond', Height='180', Publisher='DC Comics', Skincolor='-', Alignment='bad', Weight='81'),\n",
              " Row(Id='531', Name='Psylocke', Gender='Female', Eyecolor='blue', Race='Mutant', Haircolor='Purple', Height='180', Publisher='Marvel Comics', Skincolor='-', Alignment='good', Weight='70'),\n",
              " Row(Id='532', Name='Punisher', Gender='Male', Eyecolor='blue', Race='Human', Haircolor='Black', Height='183', Publisher='Marvel Comics', Skincolor='-', Alignment='good', Weight='90'),\n",
              " Row(Id='534', Name='Pyro', Gender='Male', Eyecolor='blue', Race='-', Haircolor='Blond', Height='178', Publisher='Marvel Comics', Skincolor='-', Alignment='bad', Weight='68'),\n",
              " Row(Id='537', Name='Question', Gender='Male', Eyecolor='blue', Race='Human', Haircolor='Blond', Height='188', Publisher='DC Comics', Skincolor='-', Alignment='good', Weight='83'),\n",
              " Row(Id='538', Name='Quicksilver', Gender='Male', Eyecolor='blue', Race='Mutant', Haircolor='Silver', Height='183', Publisher='Marvel Comics', Skincolor='-', Alignment='good', Weight='79'),\n",
              " Row(Id='546', Name='Razor-Fist II', Gender='Male', Eyecolor='blue', Race='-', Haircolor='No Hair', Height='191', Publisher='Marvel Comics', Skincolor='-', Alignment='bad', Weight='117'),\n",
              " Row(Id='548', Name='Red Hood', Gender='Male', Eyecolor='blue', Race='Human', Haircolor='Black', Height='183', Publisher='DC Comics', Skincolor='-', Alignment='neutral', Weight='81'),\n",
              " Row(Id='551', Name='Red Robin', Gender='Male', Eyecolor='blue', Race='Human', Haircolor='Black', Height='165', Publisher='DC Comics', Skincolor='-', Alignment='good', Weight='56'),\n",
              " Row(Id='552', Name='Red Skull', Gender='Male', Eyecolor='blue', Race='-', Haircolor='No Hair', Height='188', Publisher='Marvel Comics', Skincolor='-', Alignment='bad', Weight='108'),\n",
              " Row(Id='559', Name='Rick Flag', Gender='Male', Eyecolor='blue', Race='-', Haircolor='Brown', Height='185', Publisher='DC Comics', Skincolor='-', Alignment='bad', Weight='85'),\n",
              " Row(Id='561', Name='Rip Hunter', Gender='Male', Eyecolor='blue', Race='Human', Haircolor='Blond', Height='-99', Publisher='DC Comics', Skincolor='-', Alignment='good', Weight='-99'),\n",
              " Row(Id='563', Name='Robin', Gender='Male', Eyecolor='blue', Race='Human', Haircolor='Black', Height='178', Publisher='DC Comics', Skincolor='-', Alignment='good', Weight='79'),\n",
              " Row(Id='564', Name='Robin II', Gender='Male', Eyecolor='blue', Race='Human', Haircolor='Red', Height='183', Publisher='DC Comics', Skincolor='-', Alignment='good', Weight='101'),\n",
              " Row(Id='565', Name='Robin III', Gender='Male', Eyecolor='blue', Race='Human', Haircolor='Black', Height='165', Publisher='DC Comics', Skincolor='-', Alignment='good', Weight='56'),\n",
              " Row(Id='566', Name='Robin V', Gender='Male', Eyecolor='blue', Race='Human', Haircolor='Black', Height='137', Publisher='DC Comics', Skincolor='-', Alignment='good', Weight='38'),\n",
              " Row(Id='570', Name='Ronin', Gender='Male', Eyecolor='blue', Race='Human', Haircolor='Blond', Height='191', Publisher='Marvel Comics', Skincolor='-', Alignment='good', Weight='104'),\n",
              " Row(Id='571', Name='Rorschach', Gender='Male', Eyecolor='blue', Race='Human', Haircolor='Red', Height='168', Publisher='DC Comics', Skincolor='-', Alignment='good', Weight='63'),\n",
              " Row(Id='573', Name='Sage', Gender='Female', Eyecolor='blue', Race='-', Haircolor='Black', Height='170', Publisher='Marvel Comics', Skincolor='-', Alignment='good', Weight='61'),\n",
              " Row(Id='578', Name='Scarecrow', Gender='Male', Eyecolor='blue', Race='Human', Haircolor='Brown', Height='183', Publisher='DC Comics', Skincolor='-', Alignment='bad', Weight='63'),\n",
              " Row(Id='579', Name='Scarlet Spider', Gender='Male', Eyecolor='blue', Race='Human', Haircolor='Blond', Height='178', Publisher='Marvel Comics', Skincolor='-', Alignment='good', Weight='74'),\n",
              " Row(Id='581', Name='Scarlet Witch', Gender='Female', Eyecolor='blue', Race='Mutant', Haircolor='Brown', Height='170', Publisher='Marvel Comics', Skincolor='-', Alignment='bad', Weight='59'),\n",
              " Row(Id='585', Name='Sentry', Gender='Male', Eyecolor='blue', Race='Mutant', Haircolor='Blond', Height='188', Publisher='Marvel Comics', Skincolor='-', Alignment='neutral', Weight='87'),\n",
              " Row(Id='592', Name='She-Thing', Gender='Female', Eyecolor='blue', Race='Human / Radiation', Haircolor='No Hair', Height='183', Publisher='Marvel Comics', Skincolor='-', Alignment='good', Weight='153'),\n",
              " Row(Id='596', Name='Sif', Gender='Female', Eyecolor='blue', Race='Asgardian', Haircolor='Black', Height='188', Publisher='Marvel Comics', Skincolor='-', Alignment='good', Weight='191'),\n",
              " Row(Id='604', Name='Siren', Gender='Female', Eyecolor='blue', Race='Atlantean', Haircolor='Purple', Height='175', Publisher='DC Comics', Skincolor='-', Alignment='bad', Weight='72'),\n",
              " Row(Id='606', Name='Siryn', Gender='Female', Eyecolor='blue', Race='-', Haircolor='Strawberry Blond', Height='168', Publisher='Marvel Comics', Skincolor='-', Alignment='bad', Weight='52'),\n",
              " Row(Id='620', Name='Spider-Girl', Gender='Female', Eyecolor='blue', Race='Human', Haircolor='Brown', Height='170', Publisher='Marvel Comics', Skincolor='-', Alignment='good', Weight='54'),\n",
              " Row(Id='621', Name='Spider-Gwen', Gender='Female', Eyecolor='blue', Race='Human', Haircolor='Blond', Height='165', Publisher='Marvel Comics', Skincolor='-', Alignment='good', Weight='56'),\n",
              " Row(Id='632', Name='Star-Lord', Gender='Male', Eyecolor='blue', Race='Human-Spartoi', Haircolor='Blond', Height='188', Publisher='Marvel Comics', Skincolor='-', Alignment='good', Weight='79'),\n",
              " Row(Id='635', Name='Stargirl', Gender='Female', Eyecolor='blue', Race='Human', Haircolor='Blond', Height='165', Publisher='DC Comics', Skincolor='-', Alignment='good', Weight='62'),\n",
              " Row(Id='640', Name='Storm', Gender='Female', Eyecolor='blue', Race='Mutant', Haircolor='White', Height='180', Publisher='Marvel Comics', Skincolor='-', Alignment='good', Weight='57'),\n",
              " Row(Id='643', Name='Superboy', Gender='Male', Eyecolor='blue', Race='-', Haircolor='Black', Height='170', Publisher='DC Comics', Skincolor='-', Alignment='good', Weight='68'),\n",
              " Row(Id='644', Name='Superboy-Prime', Gender='Male', Eyecolor='blue', Race='Kryptonian', Haircolor='Black / Blue', Height='180', Publisher='DC Comics', Skincolor='-', Alignment='bad', Weight='77'),\n",
              " Row(Id='645', Name='Supergirl', Gender='Female', Eyecolor='blue', Race='Kryptonian', Haircolor='Blond', Height='165', Publisher='DC Comics', Skincolor='-', Alignment='good', Weight='54'),\n",
              " Row(Id='646', Name='Superman', Gender='Male', Eyecolor='blue', Race='Kryptonian', Haircolor='Black', Height='191', Publisher='DC Comics', Skincolor='-', Alignment='good', Weight='101'),\n",
              " Row(Id='660', Name='Thing', Gender='Male', Eyecolor='blue', Race='Human / Radiation', Haircolor='No Hair', Height='183', Publisher='Marvel Comics', Skincolor='-', Alignment='good', Weight='225'),\n",
              " Row(Id='661', Name='Thor', Gender='Male', Eyecolor='blue', Race='Asgardian', Haircolor='Blond', Height='198', Publisher='Marvel Comics', Skincolor='-', Alignment='good', Weight='288'),\n",
              " Row(Id='662', Name='Thor Girl', Gender='Female', Eyecolor='blue', Race='Asgardian', Haircolor='Blond', Height='175', Publisher='Marvel Comics', Skincolor='-', Alignment='good', Weight='143'),\n",
              " Row(Id='666', Name='Thunderstrike', Gender='Male', Eyecolor='blue', Race='-', Haircolor='Blond', Height='198', Publisher='Marvel Comics', Skincolor='-', Alignment='good', Weight='288'),\n",
              " Row(Id='673', Name='Toxin', Gender='Male', Eyecolor='blue', Race='Symbiote', Haircolor='Brown', Height='188', Publisher='Marvel Comics', Skincolor='-', Alignment='good', Weight='97'),\n",
              " Row(Id='676', Name='Trickster', Gender='Male', Eyecolor='blue', Race='Human', Haircolor='Blond', Height='183', Publisher='DC Comics', Skincolor='-', Alignment='-', Weight='81'),\n",
              " Row(Id='681', Name='Ultragirl', Gender='Female', Eyecolor='blue', Race='-', Haircolor='Blond', Height='168', Publisher='Marvel Comics', Skincolor='-', Alignment='good', Weight='105'),\n",
              " Row(Id='683', Name='Utgard-Loki', Gender='Male', Eyecolor='blue', Race='Frost Giant', Haircolor='White', Height='15.2', Publisher='Marvel Comics', Skincolor='-', Alignment='bad', Weight='58'),\n",
              " Row(Id='684', Name='Vagabond', Gender='Female', Eyecolor='blue', Race='-', Haircolor='Strawberry Blond', Height='168', Publisher='Marvel Comics', Skincolor='-', Alignment='good', Weight='54'),\n",
              " Row(Id='686', Name='Valkyrie', Gender='Female', Eyecolor='blue', Race='-', Haircolor='Blond', Height='191', Publisher='Marvel Comics', Skincolor='-', Alignment='good', Weight='214'),\n",
              " Row(Id='689', Name='Venom', Gender='Male', Eyecolor='blue', Race='Symbiote', Haircolor='Strawberry Blond', Height='191', Publisher='Marvel Comics', Skincolor='-', Alignment='bad', Weight='117'),\n",
              " Row(Id='693', Name='Vertigo II', Gender='Female', Eyecolor='blue', Race='-', Haircolor='Silver', Height='168', Publisher='Marvel Comics', Skincolor='-', Alignment='good', Weight='52'),\n",
              " Row(Id='704', Name='Walrus', Gender='Male', Eyecolor='blue', Race='Human', Haircolor='Black', Height='183', Publisher='Marvel Comics', Skincolor='-', Alignment='bad', Weight='162'),\n",
              " Row(Id='706', Name='Warbird', Gender='Female', Eyecolor='blue', Race='-', Haircolor='Blond', Height='180', Publisher='Marvel Comics', Skincolor='-', Alignment='good', Weight='54'),\n",
              " Row(Id='710', Name='Wasp', Gender='Female', Eyecolor='blue', Race='Human', Haircolor='Auburn', Height='163', Publisher='Marvel Comics', Skincolor='-', Alignment='good', Weight='50'),\n",
              " Row(Id='714', Name='White Queen', Gender='Female', Eyecolor='blue', Race='-', Haircolor='Blond', Height='178', Publisher='Marvel Comics', Skincolor='-', Alignment='good', Weight='65'),\n",
              " Row(Id='719', Name='Wolverine', Gender='Male', Eyecolor='blue', Race='Mutant', Haircolor='Black', Height='160', Publisher='Marvel Comics', Skincolor='-', Alignment='good', Weight='135'),\n",
              " Row(Id='720', Name='Wonder Girl', Gender='Female', Eyecolor='blue', Race='Demi-God', Haircolor='Blond', Height='165', Publisher='DC Comics', Skincolor='-', Alignment='good', Weight='51'),\n",
              " Row(Id='722', Name='Wonder Woman', Gender='Female', Eyecolor='blue', Race='Amazon', Haircolor='Black', Height='183', Publisher='DC Comics', Skincolor='-', Alignment='good', Weight='74'),\n",
              " Row(Id='726', Name='X-Man', Gender='Male', Eyecolor='blue', Race='-', Haircolor='Brown', Height='175', Publisher='Marvel Comics', Skincolor='-', Alignment='good', Weight='61'),\n",
              " Row(Id='727', Name='Yellow Claw', Gender='Male', Eyecolor='blue', Race='-', Haircolor='No Hair', Height='188', Publisher='Marvel Comics', Skincolor='-', Alignment='bad', Weight='95'),\n",
              " Row(Id='728', Name='Yellowjacket', Gender='Male', Eyecolor='blue', Race='Human', Haircolor='Blond', Height='183', Publisher='Marvel Comics', Skincolor='-', Alignment='good', Weight='83'),\n",
              " Row(Id='729', Name='Yellowjacket II', Gender='Female', Eyecolor='blue', Race='Human', Haircolor='Strawberry Blond', Height='165', Publisher='Marvel Comics', Skincolor='-', Alignment='good', Weight='52'),\n",
              " Row(Id='732', Name='Zatanna', Gender='Female', Eyecolor='blue', Race='Human', Haircolor='Black', Height='170', Publisher='DC Comics', Skincolor='-', Alignment='good', Weight='57')]"
            ]
          },
          "metadata": {},
          "execution_count": 31
        }
      ]
    },
    {
      "cell_type": "code",
      "source": [],
      "metadata": {
        "id": "eUEaJmaqc1ph"
      },
      "execution_count": null,
      "outputs": []
    }
  ]
}